{
 "cells": [
  {
   "cell_type": "markdown",
   "metadata": {
    "colab_type": "text",
    "id": "mKgbQ4v-Cplg"
   },
   "source": [
    "# Titanic: Machine Learning from Disaster"
   ]
  },
  {
   "cell_type": "markdown",
   "metadata": {
    "colab_type": "text",
    "id": "K7SZImcACpli"
   },
   "source": [
    "(https://www.kaggle.com/c/titanic/overview)"
   ]
  },
  {
   "cell_type": "markdown",
   "metadata": {
    "colab_type": "text",
    "id": "dNcYScb5Cplj"
   },
   "source": [
    "We start off by importing the basic Python libraries that will be needed throughout this notebook and by loading the datasets into pandas DataFrames."
   ]
  },
  {
   "cell_type": "code",
   "execution_count": 1,
   "metadata": {
    "colab": {},
    "colab_type": "code",
    "id": "u2F-wtUOCplk"
   },
   "outputs": [],
   "source": [
    "import pandas as pd\n",
    "import numpy as np\n",
    "import matplotlib.pyplot as plt\n",
    "import seaborn as sns\n",
    "%matplotlib inline"
   ]
  },
  {
   "cell_type": "code",
   "execution_count": 2,
   "metadata": {
    "colab": {},
    "colab_type": "code",
    "id": "LZ51VrHZCplo"
   },
   "outputs": [],
   "source": [
    "train = pd.read_csv(\"train.csv\")\n",
    "test = pd.read_csv(\"test.csv\")"
   ]
  },
  {
   "cell_type": "markdown",
   "metadata": {
    "colab_type": "text",
    "id": "ccy5pevTCplr"
   },
   "source": [
    "## Exploratory Data Analysis (EDA)"
   ]
  },
  {
   "cell_type": "markdown",
   "metadata": {
    "colab_type": "text",
    "id": "R5RBQEP-Cplr"
   },
   "source": [
    "The first step when tackling a new challenge or project should always be to first get to know the data. Therefore, we will start by looking at the data and the variables."
   ]
  },
  {
   "cell_type": "code",
   "execution_count": 3,
   "metadata": {
    "colab": {
     "base_uri": "https://localhost:8080/",
     "height": 34
    },
    "colab_type": "code",
    "id": "3Q3FeBQYCpls",
    "outputId": "590ddf7b-1b6f-44f3-caea-d1ce37b57026"
   },
   "outputs": [
    {
     "data": {
      "text/plain": [
       "((891, 12), (418, 11))"
      ]
     },
     "execution_count": 3,
     "metadata": {},
     "output_type": "execute_result"
    }
   ],
   "source": [
    "train.shape, test.shape"
   ]
  },
  {
   "cell_type": "markdown",
   "metadata": {
    "colab_type": "text",
    "id": "7RNVf3t6Cplw"
   },
   "source": [
    "We see that the training set contains 891 observations (rows) and 12 variables or features (columns). The test set contains less observations (418) and only 11 features. We will at first take a glimpse at the first few rows of each dataset."
   ]
  },
  {
   "cell_type": "code",
   "execution_count": 4,
   "metadata": {
    "colab": {
     "base_uri": "https://localhost:8080/",
     "height": 204
    },
    "colab_type": "code",
    "id": "8AAMpzwoCplx",
    "outputId": "a6bc1262-a01a-4917-97e7-b2d38c83baee"
   },
   "outputs": [
    {
     "data": {
      "text/html": [
       "<div>\n",
       "<style scoped>\n",
       "    .dataframe tbody tr th:only-of-type {\n",
       "        vertical-align: middle;\n",
       "    }\n",
       "\n",
       "    .dataframe tbody tr th {\n",
       "        vertical-align: top;\n",
       "    }\n",
       "\n",
       "    .dataframe thead th {\n",
       "        text-align: right;\n",
       "    }\n",
       "</style>\n",
       "<table border=\"1\" class=\"dataframe\">\n",
       "  <thead>\n",
       "    <tr style=\"text-align: right;\">\n",
       "      <th></th>\n",
       "      <th>PassengerId</th>\n",
       "      <th>Survived</th>\n",
       "      <th>Pclass</th>\n",
       "      <th>Name</th>\n",
       "      <th>Sex</th>\n",
       "      <th>Age</th>\n",
       "      <th>SibSp</th>\n",
       "      <th>Parch</th>\n",
       "      <th>Ticket</th>\n",
       "      <th>Fare</th>\n",
       "      <th>Cabin</th>\n",
       "      <th>Embarked</th>\n",
       "    </tr>\n",
       "  </thead>\n",
       "  <tbody>\n",
       "    <tr>\n",
       "      <th>0</th>\n",
       "      <td>1</td>\n",
       "      <td>0</td>\n",
       "      <td>3</td>\n",
       "      <td>Braund, Mr. Owen Harris</td>\n",
       "      <td>male</td>\n",
       "      <td>22.0</td>\n",
       "      <td>1</td>\n",
       "      <td>0</td>\n",
       "      <td>A/5 21171</td>\n",
       "      <td>7.2500</td>\n",
       "      <td>NaN</td>\n",
       "      <td>S</td>\n",
       "    </tr>\n",
       "    <tr>\n",
       "      <th>1</th>\n",
       "      <td>2</td>\n",
       "      <td>1</td>\n",
       "      <td>1</td>\n",
       "      <td>Cumings, Mrs. John Bradley (Florence Briggs Th...</td>\n",
       "      <td>female</td>\n",
       "      <td>38.0</td>\n",
       "      <td>1</td>\n",
       "      <td>0</td>\n",
       "      <td>PC 17599</td>\n",
       "      <td>71.2833</td>\n",
       "      <td>C85</td>\n",
       "      <td>C</td>\n",
       "    </tr>\n",
       "    <tr>\n",
       "      <th>2</th>\n",
       "      <td>3</td>\n",
       "      <td>1</td>\n",
       "      <td>3</td>\n",
       "      <td>Heikkinen, Miss. Laina</td>\n",
       "      <td>female</td>\n",
       "      <td>26.0</td>\n",
       "      <td>0</td>\n",
       "      <td>0</td>\n",
       "      <td>STON/O2. 3101282</td>\n",
       "      <td>7.9250</td>\n",
       "      <td>NaN</td>\n",
       "      <td>S</td>\n",
       "    </tr>\n",
       "    <tr>\n",
       "      <th>3</th>\n",
       "      <td>4</td>\n",
       "      <td>1</td>\n",
       "      <td>1</td>\n",
       "      <td>Futrelle, Mrs. Jacques Heath (Lily May Peel)</td>\n",
       "      <td>female</td>\n",
       "      <td>35.0</td>\n",
       "      <td>1</td>\n",
       "      <td>0</td>\n",
       "      <td>113803</td>\n",
       "      <td>53.1000</td>\n",
       "      <td>C123</td>\n",
       "      <td>S</td>\n",
       "    </tr>\n",
       "    <tr>\n",
       "      <th>4</th>\n",
       "      <td>5</td>\n",
       "      <td>0</td>\n",
       "      <td>3</td>\n",
       "      <td>Allen, Mr. William Henry</td>\n",
       "      <td>male</td>\n",
       "      <td>35.0</td>\n",
       "      <td>0</td>\n",
       "      <td>0</td>\n",
       "      <td>373450</td>\n",
       "      <td>8.0500</td>\n",
       "      <td>NaN</td>\n",
       "      <td>S</td>\n",
       "    </tr>\n",
       "  </tbody>\n",
       "</table>\n",
       "</div>"
      ],
      "text/plain": [
       "   PassengerId  Survived  Pclass  \\\n",
       "0            1         0       3   \n",
       "1            2         1       1   \n",
       "2            3         1       3   \n",
       "3            4         1       1   \n",
       "4            5         0       3   \n",
       "\n",
       "                                                Name     Sex   Age  SibSp  \\\n",
       "0                            Braund, Mr. Owen Harris    male  22.0      1   \n",
       "1  Cumings, Mrs. John Bradley (Florence Briggs Th...  female  38.0      1   \n",
       "2                             Heikkinen, Miss. Laina  female  26.0      0   \n",
       "3       Futrelle, Mrs. Jacques Heath (Lily May Peel)  female  35.0      1   \n",
       "4                           Allen, Mr. William Henry    male  35.0      0   \n",
       "\n",
       "   Parch            Ticket     Fare Cabin Embarked  \n",
       "0      0         A/5 21171   7.2500   NaN        S  \n",
       "1      0          PC 17599  71.2833   C85        C  \n",
       "2      0  STON/O2. 3101282   7.9250   NaN        S  \n",
       "3      0            113803  53.1000  C123        S  \n",
       "4      0            373450   8.0500   NaN        S  "
      ]
     },
     "execution_count": 4,
     "metadata": {},
     "output_type": "execute_result"
    }
   ],
   "source": [
    "train.head()"
   ]
  },
  {
   "cell_type": "code",
   "execution_count": 5,
   "metadata": {
    "colab": {
     "base_uri": "https://localhost:8080/",
     "height": 204
    },
    "colab_type": "code",
    "id": "jOSa3Yr0Cpl1",
    "outputId": "3291d6c9-4fe0-46ce-9421-2c831bd6ed5e"
   },
   "outputs": [
    {
     "data": {
      "text/html": [
       "<div>\n",
       "<style scoped>\n",
       "    .dataframe tbody tr th:only-of-type {\n",
       "        vertical-align: middle;\n",
       "    }\n",
       "\n",
       "    .dataframe tbody tr th {\n",
       "        vertical-align: top;\n",
       "    }\n",
       "\n",
       "    .dataframe thead th {\n",
       "        text-align: right;\n",
       "    }\n",
       "</style>\n",
       "<table border=\"1\" class=\"dataframe\">\n",
       "  <thead>\n",
       "    <tr style=\"text-align: right;\">\n",
       "      <th></th>\n",
       "      <th>PassengerId</th>\n",
       "      <th>Pclass</th>\n",
       "      <th>Name</th>\n",
       "      <th>Sex</th>\n",
       "      <th>Age</th>\n",
       "      <th>SibSp</th>\n",
       "      <th>Parch</th>\n",
       "      <th>Ticket</th>\n",
       "      <th>Fare</th>\n",
       "      <th>Cabin</th>\n",
       "      <th>Embarked</th>\n",
       "    </tr>\n",
       "  </thead>\n",
       "  <tbody>\n",
       "    <tr>\n",
       "      <th>0</th>\n",
       "      <td>892</td>\n",
       "      <td>3</td>\n",
       "      <td>Kelly, Mr. James</td>\n",
       "      <td>male</td>\n",
       "      <td>34.5</td>\n",
       "      <td>0</td>\n",
       "      <td>0</td>\n",
       "      <td>330911</td>\n",
       "      <td>7.8292</td>\n",
       "      <td>NaN</td>\n",
       "      <td>Q</td>\n",
       "    </tr>\n",
       "    <tr>\n",
       "      <th>1</th>\n",
       "      <td>893</td>\n",
       "      <td>3</td>\n",
       "      <td>Wilkes, Mrs. James (Ellen Needs)</td>\n",
       "      <td>female</td>\n",
       "      <td>47.0</td>\n",
       "      <td>1</td>\n",
       "      <td>0</td>\n",
       "      <td>363272</td>\n",
       "      <td>7.0000</td>\n",
       "      <td>NaN</td>\n",
       "      <td>S</td>\n",
       "    </tr>\n",
       "    <tr>\n",
       "      <th>2</th>\n",
       "      <td>894</td>\n",
       "      <td>2</td>\n",
       "      <td>Myles, Mr. Thomas Francis</td>\n",
       "      <td>male</td>\n",
       "      <td>62.0</td>\n",
       "      <td>0</td>\n",
       "      <td>0</td>\n",
       "      <td>240276</td>\n",
       "      <td>9.6875</td>\n",
       "      <td>NaN</td>\n",
       "      <td>Q</td>\n",
       "    </tr>\n",
       "    <tr>\n",
       "      <th>3</th>\n",
       "      <td>895</td>\n",
       "      <td>3</td>\n",
       "      <td>Wirz, Mr. Albert</td>\n",
       "      <td>male</td>\n",
       "      <td>27.0</td>\n",
       "      <td>0</td>\n",
       "      <td>0</td>\n",
       "      <td>315154</td>\n",
       "      <td>8.6625</td>\n",
       "      <td>NaN</td>\n",
       "      <td>S</td>\n",
       "    </tr>\n",
       "    <tr>\n",
       "      <th>4</th>\n",
       "      <td>896</td>\n",
       "      <td>3</td>\n",
       "      <td>Hirvonen, Mrs. Alexander (Helga E Lindqvist)</td>\n",
       "      <td>female</td>\n",
       "      <td>22.0</td>\n",
       "      <td>1</td>\n",
       "      <td>1</td>\n",
       "      <td>3101298</td>\n",
       "      <td>12.2875</td>\n",
       "      <td>NaN</td>\n",
       "      <td>S</td>\n",
       "    </tr>\n",
       "  </tbody>\n",
       "</table>\n",
       "</div>"
      ],
      "text/plain": [
       "   PassengerId  Pclass                                          Name     Sex  \\\n",
       "0          892       3                              Kelly, Mr. James    male   \n",
       "1          893       3              Wilkes, Mrs. James (Ellen Needs)  female   \n",
       "2          894       2                     Myles, Mr. Thomas Francis    male   \n",
       "3          895       3                              Wirz, Mr. Albert    male   \n",
       "4          896       3  Hirvonen, Mrs. Alexander (Helga E Lindqvist)  female   \n",
       "\n",
       "    Age  SibSp  Parch   Ticket     Fare Cabin Embarked  \n",
       "0  34.5      0      0   330911   7.8292   NaN        Q  \n",
       "1  47.0      1      0   363272   7.0000   NaN        S  \n",
       "2  62.0      0      0   240276   9.6875   NaN        Q  \n",
       "3  27.0      0      0   315154   8.6625   NaN        S  \n",
       "4  22.0      1      1  3101298  12.2875   NaN        S  "
      ]
     },
     "execution_count": 5,
     "metadata": {},
     "output_type": "execute_result"
    }
   ],
   "source": [
    "test.head()"
   ]
  },
  {
   "cell_type": "code",
   "execution_count": 6,
   "metadata": {
    "colab": {
     "base_uri": "https://localhost:8080/",
     "height": 119
    },
    "colab_type": "code",
    "id": "6c-2Wp0dCpl4",
    "outputId": "7cbe686f-c63e-46f3-f215-d53beb2f4196"
   },
   "outputs": [
    {
     "data": {
      "text/plain": [
       "(Index(['PassengerId', 'Survived', 'Pclass', 'Name', 'Sex', 'Age', 'SibSp',\n",
       "        'Parch', 'Ticket', 'Fare', 'Cabin', 'Embarked'],\n",
       "       dtype='object'),\n",
       " Index(['PassengerId', 'Pclass', 'Name', 'Sex', 'Age', 'SibSp', 'Parch',\n",
       "        'Ticket', 'Fare', 'Cabin', 'Embarked'],\n",
       "       dtype='object'))"
      ]
     },
     "execution_count": 6,
     "metadata": {},
     "output_type": "execute_result"
    }
   ],
   "source": [
    "train.columns, test.columns"
   ]
  },
  {
   "cell_type": "markdown",
   "metadata": {
    "colab_type": "text",
    "id": "rmAh31TmCpl8"
   },
   "source": [
    "We can see that both datasets contain exactly the same variables except for \"Survived\", which is missing in the test dataset since this is the variable we want to predict. It is a dummy variable, 1 means survived, 0 means not survived. The \"Name\" variable has unique values for every person and does not directly predict the chance of survival. However, we will not drop the feature at this point, but are going to extract some information from it in the section \"Feature Engineering\"."
   ]
  },
  {
   "cell_type": "markdown",
   "metadata": {
    "colab_type": "text",
    "id": "8JmKoMn6Cpl9"
   },
   "source": [
    "As a next step we can look at the data types of the variables."
   ]
  },
  {
   "cell_type": "code",
   "execution_count": 7,
   "metadata": {
    "colab": {
     "base_uri": "https://localhost:8080/",
     "height": 306
    },
    "colab_type": "code",
    "id": "2JzggWB8Cpl-",
    "outputId": "6dd5ea6c-5426-4f49-d8fb-46a04eec9952"
   },
   "outputs": [
    {
     "name": "stdout",
     "output_type": "stream",
     "text": [
      "<class 'pandas.core.frame.DataFrame'>\n",
      "RangeIndex: 891 entries, 0 to 890\n",
      "Data columns (total 12 columns):\n",
      "PassengerId    891 non-null int64\n",
      "Survived       891 non-null int64\n",
      "Pclass         891 non-null int64\n",
      "Name           891 non-null object\n",
      "Sex            891 non-null object\n",
      "Age            714 non-null float64\n",
      "SibSp          891 non-null int64\n",
      "Parch          891 non-null int64\n",
      "Ticket         891 non-null object\n",
      "Fare           891 non-null float64\n",
      "Cabin          204 non-null object\n",
      "Embarked       889 non-null object\n",
      "dtypes: float64(2), int64(5), object(5)\n",
      "memory usage: 83.6+ KB\n"
     ]
    }
   ],
   "source": [
    "train.info()"
   ]
  },
  {
   "cell_type": "markdown",
   "metadata": {
    "colab_type": "text",
    "id": "K_45AGdzCpmB"
   },
   "source": [
    "The variables \"Sex\", \"Ticket\", \"Cabin\" and \"Embarked\" are categorical data, the remaining features are numerical. We will first look at the numerical variables in more detail and then at the categorical variables. \n",
    "\n",
    "In order to see which variables have an influence on the chance of survival, we will also investigate the relation between each variable and the Target Variable \"Survived\"."
   ]
  },
  {
   "cell_type": "markdown",
   "metadata": {
    "colab_type": "text",
    "id": "m0u6ONL_CpmC"
   },
   "source": [
    "### Numerical Features"
   ]
  },
  {
   "cell_type": "markdown",
   "metadata": {
    "colab_type": "text",
    "id": "d0Tq534SCpmD"
   },
   "source": [
    "#### Survived"
   ]
  },
  {
   "cell_type": "markdown",
   "metadata": {
    "colab_type": "text",
    "id": "2M3F6ObuCpmE"
   },
   "source": [
    "We start with the target variable, indicating if a passenger has survived the sinking of the Titanic."
   ]
  },
  {
   "cell_type": "code",
   "execution_count": 8,
   "metadata": {
    "colab": {
     "base_uri": "https://localhost:8080/",
     "height": 300
    },
    "colab_type": "code",
    "id": "a5AMmYQhCpmF",
    "outputId": "5f9adf8e-e955-4008-be76-e1f83f5bbb23"
   },
   "outputs": [
    {
     "data": {
      "text/plain": [
       "(0.3838383838383838, <matplotlib.axes._subplots.AxesSubplot at 0x182e2b65c88>)"
      ]
     },
     "execution_count": 8,
     "metadata": {},
     "output_type": "execute_result"
    },
    {
     "data": {
      "image/png": "[encoded data removed]",
      "text/plain": [
       "<Figure size 432x288 with 1 Axes>"
      ]
     },
     "metadata": {
      "needs_background": "light"
     },
     "output_type": "display_data"
    }
   ],
   "source": [
    "np.mean(train.Survived), sns.countplot(data=train, x=\"Survived\")"
   ]
  },
  {
   "cell_type": "markdown",
   "metadata": {
    "colab_type": "text",
    "id": "5GhT1vzaCpmI"
   },
   "source": [
    "Around 38,3% of the passengers survived the Titanic."
   ]
  },
  {
   "cell_type": "markdown",
   "metadata": {
    "colab_type": "text",
    "id": "vyTBgvSpCpmJ"
   },
   "source": [
    "#### Pclass"
   ]
  },
  {
   "cell_type": "code",
   "execution_count": 9,
   "metadata": {
    "colab": {
     "base_uri": "https://localhost:8080/",
     "height": 85
    },
    "colab_type": "code",
    "id": "JlcdiJJlCpmK",
    "outputId": "48d13018-8daf-4a5a-9760-65bfc53dc89c"
   },
   "outputs": [
    {
     "data": {
      "text/plain": [
       "3    491\n",
       "1    216\n",
       "2    184\n",
       "Name: Pclass, dtype: int64"
      ]
     },
     "execution_count": 9,
     "metadata": {},
     "output_type": "execute_result"
    }
   ],
   "source": [
    "train.Pclass.value_counts()"
   ]
  },
  {
   "cell_type": "markdown",
   "metadata": {
    "colab_type": "text",
    "id": "FMA77aFdCpmO"
   },
   "source": [
    "Pclass is short for Passenger Class and gives the class to which the passengers belong. 1 is the most expensive class, 3 the cheapest one. As expected most passengers belong to class 3, while class 1 contains the least passengers."
   ]
  },
  {
   "cell_type": "code",
   "execution_count": 10,
   "metadata": {
    "colab": {
     "base_uri": "https://localhost:8080/",
     "height": 300
    },
    "colab_type": "code",
    "id": "GdpmJHEvCpmP",
    "outputId": "22b00b9e-80ed-4eb0-a6f4-f8bb9c1eb3e1"
   },
   "outputs": [
    {
     "data": {
      "text/plain": [
       "<matplotlib.axes._subplots.AxesSubplot at 0x182e2c1beb8>"
      ]
     },
     "execution_count": 10,
     "metadata": {},
     "output_type": "execute_result"
    },
    {
     "data": {
      "image/png": "[encoded data removed]",
      "text/plain": [
       "<Figure size 432x288 with 1 Axes>"
      ]
     },
     "metadata": {
      "needs_background": "light"
     },
     "output_type": "display_data"
    }
   ],
   "source": [
    "sns.countplot(data=train, x=\"Pclass\", hue=\"Survived\")"
   ]
  },
  {
   "cell_type": "code",
   "execution_count": 11,
   "metadata": {
    "colab": {
     "base_uri": "https://localhost:8080/",
     "height": 68
    },
    "colab_type": "code",
    "id": "BPrJaR37CpmT",
    "outputId": "2fcabdc1-0150-4694-edbf-284cb76e376e"
   },
   "outputs": [
    {
     "name": "stdout",
     "output_type": "stream",
     "text": [
      "0.6296296296296297\n",
      "0.47282608695652173\n",
      "0.24236252545824846\n"
     ]
    }
   ],
   "source": [
    "for i in [1,2,3]:\n",
    "    print(np.mean(train.Survived[train[\"Pclass\"]==i]))"
   ]
  },
  {
   "cell_type": "markdown",
   "metadata": {
    "colab_type": "text",
    "id": "lq8C00XZCpmZ"
   },
   "source": [
    "The fraction of passengers, who survived is 63.0% for the first class, 47.3% for the second class and only 24.2% for the third class. The fraction of people surviving is therefore above the fraction of all people surviving the catastrophe for the first and second class and way below the mean for the third class. We can already see here that the class does play a very important role in surviving and that in the first class almost 2 out of 3 passengers survived."
   ]
  },
  {
   "cell_type": "markdown",
   "metadata": {
    "colab_type": "text",
    "id": "dAtBLjLRCpma"
   },
   "source": [
    "#### Age"
   ]
  },
  {
   "cell_type": "markdown",
   "metadata": {
    "colab_type": "text",
    "id": "UKpyzpZoCpmc"
   },
   "source": [
    "Since age is a continuous variable we can picture its distribution using a histogram and a kernel density estimator."
   ]
  },
  {
   "cell_type": "code",
   "execution_count": 0,
   "metadata": {
    "colab": {
     "base_uri": "https://localhost:8080/",
     "height": 558
    },
    "colab_type": "code",
    "id": "JWpTR51nCpmd",
    "outputId": "7f39133a-bfae-4836-c416-83cbfe6f8c3e"
   },
   "outputs": [
    {
     "ename": "ValueError",
     "evalue": "ignored",
     "output_type": "error",
     "traceback": [
      "\u001b[0;31m---------------------------------------------------------------------------\u001b[0m",
      "\u001b[0;31mValueError\u001b[0m                                Traceback (most recent call last)",
      "\u001b[0;32m<ipython-input-13-e6fe43bf3c3c>\u001b[0m in \u001b[0;36m<module>\u001b[0;34m()\u001b[0m\n\u001b[0;32m----> 1\u001b[0;31m \u001b[0msns\u001b[0m\u001b[0;34m.\u001b[0m\u001b[0mdistplot\u001b[0m\u001b[0;34m(\u001b[0m\u001b[0mtrain\u001b[0m\u001b[0;34m[\u001b[0m\u001b[0;34m\"Age\"\u001b[0m\u001b[0;34m]\u001b[0m\u001b[0;34m)\u001b[0m\u001b[0;34m\u001b[0m\u001b[0;34m\u001b[0m\u001b[0m\n\u001b[0m",
      "\u001b[0;32m/usr/local/lib/python3.6/dist-packages/seaborn/distributions.py\u001b[0m in \u001b[0;36mdistplot\u001b[0;34m(a, bins, hist, kde, rug, fit, hist_kws, kde_kws, rug_kws, fit_kws, color, vertical, norm_hist, axlabel, label, ax)\u001b[0m\n\u001b[1;32m    213\u001b[0m     \u001b[0;32mif\u001b[0m \u001b[0mhist\u001b[0m\u001b[0;34m:\u001b[0m\u001b[0;34m\u001b[0m\u001b[0;34m\u001b[0m\u001b[0m\n\u001b[1;32m    214\u001b[0m         \u001b[0;32mif\u001b[0m \u001b[0mbins\u001b[0m \u001b[0;32mis\u001b[0m \u001b[0;32mNone\u001b[0m\u001b[0;34m:\u001b[0m\u001b[0;34m\u001b[0m\u001b[0;34m\u001b[0m\u001b[0m\n\u001b[0;32m--> 215\u001b[0;31m             \u001b[0mbins\u001b[0m \u001b[0;34m=\u001b[0m \u001b[0mmin\u001b[0m\u001b[0;34m(\u001b[0m\u001b[0m_freedman_diaconis_bins\u001b[0m\u001b[0;34m(\u001b[0m\u001b[0ma\u001b[0m\u001b[0;34m)\u001b[0m\u001b[0;34m,\u001b[0m \u001b[0;36m50\u001b[0m\u001b[0;34m)\u001b[0m\u001b[0;34m\u001b[0m\u001b[0;34m\u001b[0m\u001b[0m\n\u001b[0m\u001b[1;32m    216\u001b[0m         \u001b[0mhist_kws\u001b[0m\u001b[0;34m.\u001b[0m\u001b[0msetdefault\u001b[0m\u001b[0;34m(\u001b[0m\u001b[0;34m\"alpha\"\u001b[0m\u001b[0;34m,\u001b[0m \u001b[0;36m0.4\u001b[0m\u001b[0;34m)\u001b[0m\u001b[0;34m\u001b[0m\u001b[0;34m\u001b[0m\u001b[0m\n\u001b[1;32m    217\u001b[0m         \u001b[0;32mif\u001b[0m \u001b[0mLooseVersion\u001b[0m\u001b[0;34m(\u001b[0m\u001b[0mmpl\u001b[0m\u001b[0;34m.\u001b[0m\u001b[0m__version__\u001b[0m\u001b[0;34m)\u001b[0m \u001b[0;34m<\u001b[0m \u001b[0mLooseVersion\u001b[0m\u001b[0;34m(\u001b[0m\u001b[0;34m\"2.2\"\u001b[0m\u001b[0;34m)\u001b[0m\u001b[0;34m:\u001b[0m\u001b[0;34m\u001b[0m\u001b[0;34m\u001b[0m\u001b[0m\n",
      "\u001b[0;32m/usr/local/lib/python3.6/dist-packages/seaborn/distributions.py\u001b[0m in \u001b[0;36m_freedman_diaconis_bins\u001b[0;34m(a)\u001b[0m\n\u001b[1;32m     37\u001b[0m         \u001b[0;32mreturn\u001b[0m \u001b[0mint\u001b[0m\u001b[0;34m(\u001b[0m\u001b[0mnp\u001b[0m\u001b[0;34m.\u001b[0m\u001b[0msqrt\u001b[0m\u001b[0;34m(\u001b[0m\u001b[0ma\u001b[0m\u001b[0;34m.\u001b[0m\u001b[0msize\u001b[0m\u001b[0;34m)\u001b[0m\u001b[0;34m)\u001b[0m\u001b[0;34m\u001b[0m\u001b[0;34m\u001b[0m\u001b[0m\n\u001b[1;32m     38\u001b[0m     \u001b[0;32melse\u001b[0m\u001b[0;34m:\u001b[0m\u001b[0;34m\u001b[0m\u001b[0;34m\u001b[0m\u001b[0m\n\u001b[0;32m---> 39\u001b[0;31m         \u001b[0;32mreturn\u001b[0m \u001b[0mint\u001b[0m\u001b[0;34m(\u001b[0m\u001b[0mnp\u001b[0m\u001b[0;34m.\u001b[0m\u001b[0mceil\u001b[0m\u001b[0;34m(\u001b[0m\u001b[0;34m(\u001b[0m\u001b[0ma\u001b[0m\u001b[0;34m.\u001b[0m\u001b[0mmax\u001b[0m\u001b[0;34m(\u001b[0m\u001b[0;34m)\u001b[0m \u001b[0;34m-\u001b[0m \u001b[0ma\u001b[0m\u001b[0;34m.\u001b[0m\u001b[0mmin\u001b[0m\u001b[0;34m(\u001b[0m\u001b[0;34m)\u001b[0m\u001b[0;34m)\u001b[0m \u001b[0;34m/\u001b[0m \u001b[0mh\u001b[0m\u001b[0;34m)\u001b[0m\u001b[0;34m)\u001b[0m\u001b[0;34m\u001b[0m\u001b[0;34m\u001b[0m\u001b[0m\n\u001b[0m\u001b[1;32m     40\u001b[0m \u001b[0;34m\u001b[0m\u001b[0m\n\u001b[1;32m     41\u001b[0m \u001b[0;34m\u001b[0m\u001b[0m\n",
      "\u001b[0;31mValueError\u001b[0m: cannot convert float NaN to integer"
     ]
    },
    {
     "data": {
      "image/png": "[encoded data removed]",
      "text/plain": [
       "<Figure size 432x288 with 1 Axes>"
      ]
     },
     "metadata": {
      "tags": []
     },
     "output_type": "display_data"
    }
   ],
   "source": [
    "sns.distplot(train[\"Age\"])"
   ]
  },
  {
   "cell_type": "markdown",
   "metadata": {
    "colab_type": "text",
    "id": "-jAgDC1OCpmi"
   },
   "source": [
    "Running the above code yields an error since there are missing values for Age in the training dataset. Therefore, we first have to fix this issue."
   ]
  },
  {
   "cell_type": "code",
   "execution_count": 12,
   "metadata": {
    "colab": {
     "base_uri": "https://localhost:8080/",
     "height": 34
    },
    "colab_type": "code",
    "id": "GZtsxFj0Cpmj",
    "outputId": "ab1a7855-d7cd-4999-d14f-cff80009d115"
   },
   "outputs": [
    {
     "data": {
      "text/plain": [
       "177"
      ]
     },
     "execution_count": 12,
     "metadata": {},
     "output_type": "execute_result"
    }
   ],
   "source": [
    "train.Age.isnull().sum()"
   ]
  },
  {
   "cell_type": "code",
   "execution_count": 13,
   "metadata": {
    "colab": {
     "base_uri": "https://localhost:8080/",
     "height": 34
    },
    "colab_type": "code",
    "id": "GsBGzCq-Cpmo",
    "outputId": "f2058b46-d21a-4947-961a-32832e0d24e8"
   },
   "outputs": [
    {
     "data": {
      "text/plain": [
       "(38.233440860215055, 29.87763005780347, 25.14061971830986)"
      ]
     },
     "execution_count": 13,
     "metadata": {},
     "output_type": "execute_result"
    }
   ],
   "source": [
    "agemean1, agemean2, agemean3 = train[\"Age\"].groupby([train[\"Pclass\"]]).mean()\n",
    "agemean1, agemean2, agemean3"
   ]
  },
  {
   "cell_type": "markdown",
   "metadata": {
    "colab_type": "text",
    "id": "ApwdEzJHCpms"
   },
   "source": [
    "There are 177 missing values for the Age. We compute the mean in each class and will use these means to impute the missing values in the training dataset."
   ]
  },
  {
   "cell_type": "code",
   "execution_count": 14,
   "metadata": {
    "colab": {
     "base_uri": "https://localhost:8080/",
     "height": 34
    },
    "colab_type": "code",
    "id": "WQKzauvJCpmt",
    "outputId": "d0da7699-3438-4b47-fc79-436c302322e3"
   },
   "outputs": [
    {
     "data": {
      "text/plain": [
       "0"
      ]
     },
     "execution_count": 14,
     "metadata": {},
     "output_type": "execute_result"
    }
   ],
   "source": [
    "miss_age = np.isnan(train[\"Age\"])\n",
    "class_1 = train[\"Pclass\"] == 1\n",
    "class_2 = train[\"Pclass\"] == 2\n",
    "class_3 = train[\"Pclass\"] == 3\n",
    "train.loc[class_1, \"Age\"] = train.loc[class_1, \"Age\"].fillna(agemean1)\n",
    "train.loc[class_2, \"Age\"] = train.loc[class_2, \"Age\"].fillna(agemean2)\n",
    "train.loc[class_3, \"Age\"] = train.loc[class_3, \"Age\"].fillna(agemean3)\n",
    "train.Age.isnull().sum()"
   ]
  },
  {
   "cell_type": "code",
   "execution_count": 15,
   "metadata": {
    "colab": {
     "base_uri": "https://localhost:8080/",
     "height": 34
    },
    "colab_type": "code",
    "id": "7UBYzjGtCpmw",
    "outputId": "f0fd8055-4ff6-41d8-91e6-42119b1277eb"
   },
   "outputs": [
    {
     "data": {
      "text/plain": [
       "86"
      ]
     },
     "execution_count": 15,
     "metadata": {},
     "output_type": "execute_result"
    }
   ],
   "source": [
    "test.Age.isnull().sum()"
   ]
  },
  {
   "cell_type": "markdown",
   "metadata": {
    "colab_type": "text",
    "id": "I7sBEIlmCpm0"
   },
   "source": [
    "We see that there are also missing values for age in the test data set, therefore we do the same thing for the test dataset."
   ]
  },
  {
   "cell_type": "code",
   "execution_count": 16,
   "metadata": {
    "colab": {
     "base_uri": "https://localhost:8080/",
     "height": 34
    },
    "colab_type": "code",
    "id": "veXz8c3VCpm0",
    "outputId": "d59b20c3-1771-4b82-a190-ae02e5e380ab"
   },
   "outputs": [
    {
     "data": {
      "text/plain": [
       "(40.91836734693877, 28.7775, 24.02794520547945)"
      ]
     },
     "execution_count": 16,
     "metadata": {},
     "output_type": "execute_result"
    }
   ],
   "source": [
    "agemean_1_test, agemean_2_test, agemean_3_test = test[\"Age\"].groupby([test[\"Pclass\"]]).mean()\n",
    "agemean_1_test, agemean_2_test, agemean_3_test"
   ]
  },
  {
   "cell_type": "code",
   "execution_count": 17,
   "metadata": {
    "colab": {
     "base_uri": "https://localhost:8080/",
     "height": 34
    },
    "colab_type": "code",
    "id": "TBWTGhq6Cpm6",
    "outputId": "5d354f18-46ea-4186-b692-b1f1db3a97c7"
   },
   "outputs": [
    {
     "data": {
      "text/plain": [
       "0"
      ]
     },
     "execution_count": 17,
     "metadata": {},
     "output_type": "execute_result"
    }
   ],
   "source": [
    "miss_age_test = np.isnan(test[\"Age\"])\n",
    "class_1_test = test[\"Pclass\"] == 1\n",
    "class_2_test = test[\"Pclass\"] == 2\n",
    "class_3_test = test[\"Pclass\"] == 3\n",
    "test.loc[class_1_test, \"Age\"] = test.loc[class_1_test, \"Age\"].fillna(agemean_1_test)\n",
    "test.loc[class_2_test, \"Age\"] = test.loc[class_2_test, \"Age\"].fillna(agemean_2_test)\n",
    "test.loc[class_3_test, \"Age\"] = test.loc[class_3_test, \"Age\"].fillna(agemean_3_test)\n",
    "test.Age.isnull().sum()"
   ]
  },
  {
   "cell_type": "markdown",
   "metadata": {
    "colab_type": "text",
    "id": "Yg2dRURfCpnA"
   },
   "source": [
    "Now we can again run the above code and plot the histogram."
   ]
  },
  {
   "cell_type": "code",
   "execution_count": 18,
   "metadata": {
    "colab": {
     "base_uri": "https://localhost:8080/",
     "height": 300
    },
    "colab_type": "code",
    "id": "RQ-SZQb0CpnA",
    "outputId": "0b32fe64-ec1c-4a74-ef23-4c7999dbdea8"
   },
   "outputs": [
    {
     "data": {
      "text/plain": [
       "<matplotlib.axes._subplots.AxesSubplot at 0x182e2cc50b8>"
      ]
     },
     "execution_count": 18,
     "metadata": {},
     "output_type": "execute_result"
    },
    {
     "data": {
      "image/png": "[encoded data removed]",
      "text/plain": [
       "<Figure size 432x288 with 1 Axes>"
      ]
     },
     "metadata": {
      "needs_background": "light"
     },
     "output_type": "display_data"
    }
   ],
   "source": [
    "sns.distplot(train[\"Age\"])"
   ]
  },
  {
   "cell_type": "markdown",
   "metadata": {
    "colab_type": "text",
    "id": "6Soan64ICpnF"
   },
   "source": [
    "We can also plot the distribution of age by survival."
   ]
  },
  {
   "cell_type": "code",
   "execution_count": 19,
   "metadata": {
    "colab": {
     "base_uri": "https://localhost:8080/",
     "height": 242
    },
    "colab_type": "code",
    "id": "7vOjLCiSCpnF",
    "outputId": "7cabcaef-35b5-41ee-e887-19c842a61c72"
   },
   "outputs": [
    {
     "data": {
      "text/plain": [
       "<seaborn.axisgrid.FacetGrid at 0x182e2fbfa20>"
      ]
     },
     "execution_count": 19,
     "metadata": {},
     "output_type": "execute_result"
    },
    {
     "data": {
      "image/png": "[encoded data removed]",
      "text/plain": [
       "<Figure size 432x216 with 2 Axes>"
      ]
     },
     "metadata": {
      "needs_background": "light"
     },
     "output_type": "display_data"
    }
   ],
   "source": [
    "grid = sns.FacetGrid(data=train, col=\"Survived\")\n",
    "grid.map(sns.distplot, \"Age\")"
   ]
  },
  {
   "cell_type": "markdown",
   "metadata": {
    "colab_type": "text",
    "id": "zTcHiePDCpnK"
   },
   "source": [
    "#### SibSp"
   ]
  },
  {
   "cell_type": "code",
   "execution_count": 20,
   "metadata": {
    "colab": {
     "base_uri": "https://localhost:8080/",
     "height": 153
    },
    "colab_type": "code",
    "id": "XltBq5lXCpnK",
    "outputId": "9c14212e-84b4-4ea8-bceb-d85fdf5af023"
   },
   "outputs": [
    {
     "data": {
      "text/plain": [
       "0    608\n",
       "1    209\n",
       "2     28\n",
       "4     18\n",
       "3     16\n",
       "8      7\n",
       "5      5\n",
       "Name: SibSp, dtype: int64"
      ]
     },
     "execution_count": 20,
     "metadata": {},
     "output_type": "execute_result"
    }
   ],
   "source": [
    "train.SibSp.value_counts()"
   ]
  },
  {
   "cell_type": "markdown",
   "metadata": {
    "colab_type": "text",
    "id": "GBxFSED2CpnR"
   },
   "source": [
    "The variable SibSp contains information about the passenger having Siblings or Spouses aboard the titanic. Most people seem to be alone, or at least without any siblings or spouse. A large number of passengers does have 1 sibling or his/her spouse with them, those are probably mostly married couples. There also seem to be a few families."
   ]
  },
  {
   "cell_type": "markdown",
   "metadata": {
    "colab_type": "text",
    "id": "IVTRcf-CCpnS"
   },
   "source": [
    "#### Parch"
   ]
  },
  {
   "cell_type": "code",
   "execution_count": 21,
   "metadata": {
    "colab": {
     "base_uri": "https://localhost:8080/",
     "height": 153
    },
    "colab_type": "code",
    "id": "9uj3XYdECpnT",
    "outputId": "dd2925af-3d58-4f0c-b246-f79a59b57166"
   },
   "outputs": [
    {
     "data": {
      "text/plain": [
       "0    678\n",
       "1    118\n",
       "2     80\n",
       "5      5\n",
       "3      5\n",
       "4      4\n",
       "6      1\n",
       "Name: Parch, dtype: int64"
      ]
     },
     "execution_count": 21,
     "metadata": {},
     "output_type": "execute_result"
    }
   ],
   "source": [
    "train.Parch.value_counts()"
   ]
  },
  {
   "cell_type": "markdown",
   "metadata": {
    "colab_type": "text",
    "id": "rUJiKunPCpnV"
   },
   "source": [
    "Similar to the variable before, \"Parch\" states the number of the passenger's parents or children aboard the ship. It also indicates that most passengers are alone, however, there seem to be a few families."
   ]
  },
  {
   "cell_type": "markdown",
   "metadata": {
    "colab_type": "text",
    "id": "Vm2QND2qCpnW"
   },
   "source": [
    "#### Fare"
   ]
  },
  {
   "cell_type": "markdown",
   "metadata": {
    "colab_type": "text",
    "id": "tnsZsV40CpnW"
   },
   "source": [
    "First, we take a look at the mean fares in the respective classes."
   ]
  },
  {
   "cell_type": "code",
   "execution_count": 22,
   "metadata": {
    "colab": {
     "base_uri": "https://localhost:8080/",
     "height": 68
    },
    "colab_type": "code",
    "id": "umucF69vCpnX",
    "outputId": "55f6b24f-6eb0-4d17-b872-f39cba3599d7"
   },
   "outputs": [
    {
     "name": "stdout",
     "output_type": "stream",
     "text": [
      "84.15468749999992\n",
      "20.66218315217391\n",
      "13.675550101832997\n"
     ]
    }
   ],
   "source": [
    "for i in [1,2,3]:\n",
    "    print(np.mean(train.Fare[train[\"Pclass\"] == i]))"
   ]
  },
  {
   "cell_type": "markdown",
   "metadata": {
    "colab_type": "text",
    "id": "v5q4jhU3Cpnc"
   },
   "source": [
    "As expected there is a drastic decline in the fare from the first to the third class. Let's see next if there is a systematic difference between the fare of male and female passengers."
   ]
  },
  {
   "cell_type": "code",
   "execution_count": 23,
   "metadata": {
    "colab": {
     "base_uri": "https://localhost:8080/",
     "height": 221
    },
    "colab_type": "code",
    "id": "lBl_kiKLCpnc",
    "outputId": "39400c18-261d-4f20-d0cf-b2dd3945b831"
   },
   "outputs": [
    {
     "name": "stdout",
     "output_type": "stream",
     "text": [
      "The Fare for female passengers in Class 1 is: 106.12579787234041\n",
      "The Fare for male passengers in Class 1 is: 67.22612704918033\n",
      "\n",
      "\n",
      "The Fare for female passengers in Class 2 is: 21.97012105263158\n",
      "The Fare for male passengers in Class 2 is: 19.74178240740741\n",
      "\n",
      "\n",
      "The Fare for female passengers in Class 3 is: 16.118809722222224\n",
      "The Fare for male passengers in Class 3 is: 12.661632564841513\n",
      "\n",
      "\n"
     ]
    }
   ],
   "source": [
    "for i in [1,2,3]:\n",
    "    print(\"The Fare for female passengers in Class \" + str(i) + \" is: \" + str(np.mean(train[\"Fare\"].loc[(train[\"Pclass\"] == i) & (train[\"Sex\"] == \"female\")]))),\n",
    "    print(\"The Fare for male passengers in Class \" + str(i) + \" is: \" + str(np.mean(train[\"Fare\"].loc[(train[\"Pclass\"] == i) & (train[\"Sex\"] == \"male\")])))\n",
    "    print(\"\\n\")"
   ]
  },
  {
   "cell_type": "markdown",
   "metadata": {
    "colab_type": "text",
    "id": "e_8KSZlRCpni"
   },
   "source": [
    "The Fare seems to be higher for female passengers than for male passengers and this is also consistent over all classes."
   ]
  },
  {
   "cell_type": "code",
   "execution_count": 24,
   "metadata": {
    "colab": {
     "base_uri": "https://localhost:8080/",
     "height": 68
    },
    "colab_type": "code",
    "id": "1e-Krf8ZCpnj",
    "outputId": "dd87f302-6c14-4f99-946c-b899e6d73770"
   },
   "outputs": [
    {
     "name": "stdout",
     "output_type": "stream",
     "text": [
      "Mean fare for passengers embarked in C: 59.95414404761905\n",
      "Mean fare for passengers embarked in S: 27.07981180124218\n",
      "Mean fare for passengers embarked in Q: 13.276029870129872\n"
     ]
    }
   ],
   "source": [
    "for harb in [\"C\", \"S\", \"Q\"]:\n",
    "    print(\"Mean fare for passengers embarked in \" + str(harb) + \": \" + str(np.mean(train.Fare[train[\"Embarked\"] == harb])))"
   ]
  },
  {
   "cell_type": "markdown",
   "metadata": {
    "colab_type": "text",
    "id": "TB695BqOCpnm"
   },
   "source": [
    "Furthermore, the mean fare is the highest for people from Cherbourg and the lowest from passengers from Queenstown. An explanation for this is given further below (section Categorical Features - Embarked). "
   ]
  },
  {
   "cell_type": "code",
   "execution_count": 25,
   "metadata": {
    "colab": {
     "base_uri": "https://localhost:8080/",
     "height": 272
    },
    "colab_type": "code",
    "id": "6_Q9gMb6Cpnm",
    "outputId": "d2a946c7-689f-4de7-b47a-96bb985d4c94"
   },
   "outputs": [
    {
     "name": "stdout",
     "output_type": "stream",
     "text": [
      "Mean fare for 1st class passengers embarked in C: 104.71852941176469\n",
      "Mean fare for 2nd class passengers embarked in C: 25.358335294117644\n",
      "Mean fare for 3rd class passengers embarked in C: 11.214083333333337\n",
      "\n",
      "\n",
      "Mean fare for 1st class passengers embarked in S: 70.36486220472443\n",
      "Mean fare for 2nd class passengers embarked in S: 20.327439024390245\n",
      "Mean fare for 3rd class passengers embarked in S: 14.64408300283288\n",
      "\n",
      "\n",
      "Mean fare for 1st class passengers embarked in Q: 90.0\n",
      "Mean fare for 2nd class passengers embarked in Q: 12.35\n",
      "Mean fare for 3rd class passengers embarked in Q: 11.183393055555557\n",
      "\n",
      "\n"
     ]
    }
   ],
   "source": [
    "for harb in [\"C\", \"S\", \"Q\"]:\n",
    "    print(\"Mean fare for 1st class passengers embarked in \" + str(harb) + \": \" + str(np.mean(train[\"Fare\"].loc[(train[\"Embarked\"] == harb) & (train[\"Pclass\"] == 1)])))\n",
    "    print(\"Mean fare for 2nd class passengers embarked in \" + str(harb) + \": \" + str(np.mean(train[\"Fare\"].loc[(train[\"Embarked\"] == harb) & (train[\"Pclass\"] == 2)])))\n",
    "    print(\"Mean fare for 3rd class passengers embarked in \" + str(harb) + \": \" + str(np.mean(train[\"Fare\"].loc[(train[\"Embarked\"] == harb) & (train[\"Pclass\"] == 3)])))\n",
    "    print(\"\\n\")"
   ]
  },
  {
   "cell_type": "markdown",
   "metadata": {
    "colab_type": "text",
    "id": "peYgv0GkCpnr"
   },
   "source": [
    "We cann see that in addition to the different prices in the respective classes there was some price differentiation between the different harbours with Cherbourg being the most expensive one."
   ]
  },
  {
   "cell_type": "markdown",
   "metadata": {
    "colab_type": "text",
    "id": "YYjqOW2qCpnr"
   },
   "source": [
    "Comments on the relationship of Fares and the chance of Survival are made in the next section."
   ]
  },
  {
   "cell_type": "markdown",
   "metadata": {
    "colab_type": "text",
    "id": "GVf6zDZKCpns"
   },
   "source": [
    "#### Correlation between variables"
   ]
  },
  {
   "cell_type": "code",
   "execution_count": 0,
   "metadata": {
    "colab": {
     "base_uri": "https://localhost:8080/",
     "height": 486
    },
    "colab_type": "code",
    "id": "T004seA2Cpns",
    "outputId": "c726957e-092b-47bf-847b-5fe21f76b810"
   },
   "outputs": [
    {
     "data": {
      "image/png": "[encoded data removed]",
      "text/plain": [
       "<Figure size 720x576 with 2 Axes>"
      ]
     },
     "metadata": {
      "tags": []
     },
     "output_type": "display_data"
    }
   ],
   "source": [
    "corr_mat = train.drop(\"PassengerId\", axis=1).corr()\n",
    "sns.heatmap(corr_mat, annot=True)\n",
    "fig = plt.gcf()\n",
    "fig.set_size_inches(10,8)"
   ]
  },
  {
   "cell_type": "markdown",
   "metadata": {
    "colab_type": "text",
    "id": "mAPpZWtDCpnv"
   },
   "source": [
    "The above heatmap shows the correlation between all numerical variables including our Target Variable \"Survived\". A correlation of 1 means a very strong linear relationship, a correlation coefficient of -1 means a very strong negative linear relationship between variables. A correlation of 0 means that the variables do not have a linear relationship at all.\n",
    "\n",
    "We can learn from the heatmap that there is a pretty strong negative correlation of -0.55 between the class and the fare, which makes sense since tickets for the first and second class are more expensive than for the third class. Furthermore, there seems to be a negative relationship between the class and the chance of survival indicated by the correlation coefficient of -0.34. We have also seen this in the barplots created above. The correlation between the Fare and Survived is pretty strong as well (0.26), which probably stems from the fact that higher fares coincide with a lower (i.e. \"better\") class. \n",
    "The high correlation between SibSp and Parch of 0.41 lets us assume that there may be some families aboard.\n",
    "\n",
    "If there would be very high correlation between some variables, this specific variable would not contain much new information in addition to the correlated feature. This can cause our estimator to be less precise and is known as multicollinearity. The easiest and most appropriate solution would be just to drop one of the features or combining them in some way if possible. Since the highest correlation (in absolute values) is -0.55 multicollinearity is not a problem for our data and thus we can keep all of the features."
   ]
  },
  {
   "cell_type": "markdown",
   "metadata": {
    "colab_type": "text",
    "id": "XLImvdhPCpnw"
   },
   "source": [
    "### Categorical Features"
   ]
  },
  {
   "cell_type": "markdown",
   "metadata": {
    "colab_type": "text",
    "id": "6uJhORJPCpny"
   },
   "source": [
    "#### Sex "
   ]
  },
  {
   "cell_type": "code",
   "execution_count": 26,
   "metadata": {
    "colab": {
     "base_uri": "https://localhost:8080/",
     "height": 351
    },
    "colab_type": "code",
    "id": "dQZ_OR-9Cpn1",
    "outputId": "dfe32615-9eed-4cdc-e40d-0b177d80ecf3"
   },
   "outputs": [
    {
     "data": {
      "text/plain": [
       "(male      577\n",
       " female    314\n",
       " Name: Sex, dtype: int64,\n",
       " <matplotlib.axes._subplots.AxesSubplot at 0x182e30b7ac8>)"
      ]
     },
     "execution_count": 26,
     "metadata": {},
     "output_type": "execute_result"
    },
    {
     "data": {
      "image/png": "[encoded data removed]",
      "text/plain": [
       "<Figure size 432x288 with 1 Axes>"
      ]
     },
     "metadata": {
      "needs_background": "light"
     },
     "output_type": "display_data"
    }
   ],
   "source": [
    "train.Sex.value_counts(), sns.countplot(data=train, x=\"Sex\", hue=\"Survived\")"
   ]
  },
  {
   "cell_type": "code",
   "execution_count": 27,
   "metadata": {
    "colab": {
     "base_uri": "https://localhost:8080/",
     "height": 51
    },
    "colab_type": "code",
    "id": "eiYcd0jjCpn7",
    "outputId": "731603e8-2750-4ca4-e711-3c79ea5ef664"
   },
   "outputs": [
    {
     "name": "stdout",
     "output_type": "stream",
     "text": [
      "0.18890814558058924\n",
      "0.7420382165605095\n"
     ]
    }
   ],
   "source": [
    "print(np.mean(train.Survived[train[\"Sex\"]==\"male\"]))\n",
    "print(np.mean(train.Survived[train[\"Sex\"]==\"female\"]))"
   ]
  },
  {
   "cell_type": "markdown",
   "metadata": {
    "colab_type": "text",
    "id": "pY205K2TCpn_"
   },
   "source": [
    "We can see that the number of females that survived is a lot higher than the number of males surviving although there are much more men on the Titanic than women (577 vs. 314). This is also reflected in the fraction of men and women who survived. While only 18.9% of the male passengers survived, over 74% of the female passengers survived the sinking.\n",
    "\n",
    "Let's take a look if this pattern is consistent through all classes."
   ]
  },
  {
   "cell_type": "code",
   "execution_count": 28,
   "metadata": {
    "colab": {
     "base_uri": "https://localhost:8080/",
     "height": 300
    },
    "colab_type": "code",
    "id": "pwJ80Y3_CpoA",
    "outputId": "05095dab-8c55-4ff1-b91f-787d382e026b"
   },
   "outputs": [
    {
     "data": {
      "text/plain": [
       "<matplotlib.axes._subplots.AxesSubplot at 0x182e3125f98>"
      ]
     },
     "execution_count": 28,
     "metadata": {},
     "output_type": "execute_result"
    },
    {
     "data": {
      "image/png": "[encoded data removed]",
      "text/plain": [
       "<Figure size 432x288 with 1 Axes>"
      ]
     },
     "metadata": {
      "needs_background": "light"
     },
     "output_type": "display_data"
    }
   ],
   "source": [
    "sns.barplot(data=train, x='Pclass', y='Survived', hue='Sex')"
   ]
  },
  {
   "cell_type": "markdown",
   "metadata": {
    "colab_type": "text",
    "id": "16ifp2aUCpoE"
   },
   "source": [
    "We have qualitatively the same picture for each class, although the survival rates are higher in the more expensive classes in general."
   ]
  },
  {
   "cell_type": "markdown",
   "metadata": {
    "colab_type": "text",
    "id": "tMqdUtMVCpoE"
   },
   "source": [
    "#### Cabin"
   ]
  },
  {
   "cell_type": "code",
   "execution_count": 0,
   "metadata": {
    "colab": {
     "base_uri": "https://localhost:8080/",
     "height": 1071
    },
    "colab_type": "code",
    "id": "4z4n1FpyCpoG",
    "outputId": "2f4d7ae0-991f-42a3-fa26-58bfc8568af2",
    "scrolled": true
   },
   "outputs": [
    {
     "data": {
      "text/plain": [
       "C23 C25 C27        4\n",
       "B96 B98            4\n",
       "G6                 4\n",
       "C22 C26            3\n",
       "E101               3\n",
       "F2                 3\n",
       "F33                3\n",
       "D                  3\n",
       "C65                2\n",
       "B20                2\n",
       "B5                 2\n",
       "C78                2\n",
       "B58 B60            2\n",
       "E67                2\n",
       "C126               2\n",
       "B35                2\n",
       "D17                2\n",
       "F4                 2\n",
       "C2                 2\n",
       "B18                2\n",
       "D35                2\n",
       "D26                2\n",
       "C68                2\n",
       "B57 B59 B63 B66    2\n",
       "B49                2\n",
       "B22                2\n",
       "E121               2\n",
       "C52                2\n",
       "B51 B53 B55        2\n",
       "C123               2\n",
       "                  ..\n",
       "A32                1\n",
       "B37                1\n",
       "C54                1\n",
       "E46                1\n",
       "D46                1\n",
       "E38                1\n",
       "E10                1\n",
       "D15                1\n",
       "D37                1\n",
       "D47                1\n",
       "C106               1\n",
       "A16                1\n",
       "A23                1\n",
       "E49                1\n",
       "B4                 1\n",
       "D10 D12            1\n",
       "E40                1\n",
       "C87                1\n",
       "B3                 1\n",
       "B19                1\n",
       "D28                1\n",
       "D50                1\n",
       "D56                1\n",
       "B102               1\n",
       "C32                1\n",
       "C99                1\n",
       "E63                1\n",
       "D7                 1\n",
       "B71                1\n",
       "A7                 1\n",
       "Name: Cabin, Length: 147, dtype: int64"
      ]
     },
     "execution_count": 32,
     "metadata": {
      "tags": []
     },
     "output_type": "execute_result"
    }
   ],
   "source": [
    "train.Cabin.value_counts()"
   ]
  },
  {
   "cell_type": "code",
   "execution_count": 29,
   "metadata": {
    "colab": {
     "base_uri": "https://localhost:8080/",
     "height": 34
    },
    "colab_type": "code",
    "id": "YPB-MXBNCpoJ",
    "outputId": "ebbe23f7-e127-4756-e8ea-aef06c59ee59"
   },
   "outputs": [
    {
     "data": {
      "text/plain": [
       "687"
      ]
     },
     "execution_count": 29,
     "metadata": {},
     "output_type": "execute_result"
    }
   ],
   "source": [
    "train.Cabin.isnull().sum()"
   ]
  },
  {
   "cell_type": "markdown",
   "metadata": {
    "colab_type": "text",
    "id": "aA__Cyb7CpoM"
   },
   "source": [
    "Since there are mostly unique values and 687 missing values we will just drop the column completely."
   ]
  },
  {
   "cell_type": "code",
   "execution_count": 30,
   "metadata": {
    "colab": {},
    "colab_type": "code",
    "id": "ogAAWoqXCpoM"
   },
   "outputs": [],
   "source": [
    "train = train.drop(\"Cabin\", axis=1)\n",
    "test = test.drop(\"Cabin\", axis=1)"
   ]
  },
  {
   "cell_type": "markdown",
   "metadata": {
    "colab_type": "text",
    "id": "pdvGA4v_CpoS"
   },
   "source": [
    "#### Ticket"
   ]
  },
  {
   "cell_type": "code",
   "execution_count": 31,
   "metadata": {
    "colab": {
     "base_uri": "https://localhost:8080/",
     "height": 1071
    },
    "colab_type": "code",
    "id": "UKGYlo78CpoS",
    "outputId": "9734c92d-f139-4ecf-c660-948bfe9bf31f",
    "scrolled": true
   },
   "outputs": [
    {
     "data": {
      "text/plain": [
       "<bound method IndexOpsMixin.value_counts of 0             A/5 21171\n",
       "1              PC 17599\n",
       "2      STON/O2. 3101282\n",
       "3                113803\n",
       "4                373450\n",
       "5                330877\n",
       "6                 17463\n",
       "7                349909\n",
       "8                347742\n",
       "9                237736\n",
       "10              PP 9549\n",
       "11               113783\n",
       "12            A/5. 2151\n",
       "13               347082\n",
       "14               350406\n",
       "15               248706\n",
       "16               382652\n",
       "17               244373\n",
       "18               345763\n",
       "19                 2649\n",
       "20               239865\n",
       "21               248698\n",
       "22               330923\n",
       "23               113788\n",
       "24               349909\n",
       "25               347077\n",
       "26                 2631\n",
       "27                19950\n",
       "28               330959\n",
       "29               349216\n",
       "             ...       \n",
       "861               28134\n",
       "862               17466\n",
       "863            CA. 2343\n",
       "864              233866\n",
       "865              236852\n",
       "866       SC/PARIS 2149\n",
       "867            PC 17590\n",
       "868              345777\n",
       "869              347742\n",
       "870              349248\n",
       "871               11751\n",
       "872                 695\n",
       "873              345765\n",
       "874           P/PP 3381\n",
       "875                2667\n",
       "876                7534\n",
       "877              349212\n",
       "878              349217\n",
       "879               11767\n",
       "880              230433\n",
       "881              349257\n",
       "882                7552\n",
       "883    C.A./SOTON 34068\n",
       "884     SOTON/OQ 392076\n",
       "885              382652\n",
       "886              211536\n",
       "887              112053\n",
       "888          W./C. 6607\n",
       "889              111369\n",
       "890              370376\n",
       "Name: Ticket, Length: 891, dtype: object>"
      ]
     },
     "execution_count": 31,
     "metadata": {},
     "output_type": "execute_result"
    }
   ],
   "source": [
    "train[\"Ticket\"].value_counts"
   ]
  },
  {
   "cell_type": "markdown",
   "metadata": {
    "colab_type": "text",
    "id": "Qc-x8oQGCpoW"
   },
   "source": [
    "The \"Ticket\" feature contains the Ticket number. These are mainly unique values, therefore not adding much explanatory power to our prediction model. Thus, we just drop this column as well."
   ]
  },
  {
   "cell_type": "code",
   "execution_count": 32,
   "metadata": {
    "colab": {},
    "colab_type": "code",
    "id": "UlqUxx_FCpoX"
   },
   "outputs": [],
   "source": [
    "train = train.drop(\"Ticket\", axis=1)\n",
    "test = test.drop(\"Ticket\", axis=1)"
   ]
  },
  {
   "cell_type": "markdown",
   "metadata": {
    "colab_type": "text",
    "id": "lYsOxfWACpoZ"
   },
   "source": [
    "#### Embarked"
   ]
  },
  {
   "cell_type": "code",
   "execution_count": 33,
   "metadata": {
    "colab": {
     "base_uri": "https://localhost:8080/",
     "height": 85
    },
    "colab_type": "code",
    "id": "7yylfXt8Cpoa",
    "outputId": "16e8ddf7-485e-4e10-b12b-0bcbf1e9862b"
   },
   "outputs": [
    {
     "data": {
      "text/plain": [
       "S    644\n",
       "C    168\n",
       "Q     77\n",
       "Name: Embarked, dtype: int64"
      ]
     },
     "execution_count": 33,
     "metadata": {},
     "output_type": "execute_result"
    }
   ],
   "source": [
    "train.Embarked.value_counts()"
   ]
  },
  {
   "cell_type": "markdown",
   "metadata": {
    "colab_type": "text",
    "id": "rEU_-ZnmCpod"
   },
   "source": [
    "The categories of embarkment are C, Q and S which are the first letters of Cherbourg, Queenstown and Southhampton. Most passengers are embarked in Southhampton, the least frequent category is Queenstown."
   ]
  },
  {
   "cell_type": "code",
   "execution_count": 34,
   "metadata": {
    "colab": {
     "base_uri": "https://localhost:8080/",
     "height": 300
    },
    "colab_type": "code",
    "id": "2KfDMuhGCpoe",
    "outputId": "00b6dbeb-8e1b-47a3-85c6-54ec642b379c"
   },
   "outputs": [
    {
     "data": {
      "text/plain": [
       "<matplotlib.axes._subplots.AxesSubplot at 0x182e31aabe0>"
      ]
     },
     "execution_count": 34,
     "metadata": {},
     "output_type": "execute_result"
    },
    {
     "data": {
      "image/png": "[encoded data removed]",
      "text/plain": [
       "<Figure size 432x288 with 1 Axes>"
      ]
     },
     "metadata": {
      "needs_background": "light"
     },
     "output_type": "display_data"
    }
   ],
   "source": [
    "sns.barplot(data=train, x=\"Embarked\", y=\"Survived\", hue=\"Sex\")"
   ]
  },
  {
   "cell_type": "markdown",
   "metadata": {
    "colab_type": "text",
    "id": "YSKAnNwZCpoj"
   },
   "source": [
    "Interestingly, the fraction of people who survived is higher for Cherbourg. The fraction of male survivors is much higher in Southhampton compared to Queenstown, while the fraction of female survivors is higher for Queenstown compared to Southhampton. The high survival rates for Cherbourg might be high due to the fact that first class passengers are mostly embarked in Cherbourg, so we will further investigate that now. "
   ]
  },
  {
   "cell_type": "code",
   "execution_count": 35,
   "metadata": {
    "colab": {
     "base_uri": "https://localhost:8080/",
     "height": 276
    },
    "colab_type": "code",
    "id": "bBukSnHpCpoj",
    "outputId": "6d4fce14-7041-4cfa-a636-d67b7ba94d63"
   },
   "outputs": [
    {
     "name": "stderr",
     "output_type": "stream",
     "text": [
      "C:\\Users\\Tobi\\Anaconda3\\lib\\site-packages\\seaborn\\axisgrid.py:715: UserWarning: Using the countplot function without specifying `order` is likely to produce an incorrect plot.\n",
      "  warnings.warn(warning)\n"
     ]
    },
    {
     "data": {
      "text/plain": [
       "<seaborn.axisgrid.FacetGrid at 0x182e3163ef0>"
      ]
     },
     "execution_count": 35,
     "metadata": {},
     "output_type": "execute_result"
    },
    {
     "data": {
      "image/png": "[encoded data removed]",
      "text/plain": [
       "<Figure size 648x216 with 3 Axes>"
      ]
     },
     "metadata": {
      "needs_background": "light"
     },
     "output_type": "display_data"
    }
   ],
   "source": [
    "grid = sns.FacetGrid(data=train, col=\"Embarked\")\n",
    "grid.map(sns.countplot, \"Pclass\")"
   ]
  },
  {
   "cell_type": "markdown",
   "metadata": {
    "colab_type": "text",
    "id": "Y_NKoRupCpon"
   },
   "source": [
    "Cherbourg is the only category for which the number of first class passengers is the highest, which confirms the assumption from above. At the same time in Queenstown are embarked almost only passengers from the third class which explains the low survival rates for male passengers."
   ]
  },
  {
   "cell_type": "markdown",
   "metadata": {
    "colab_type": "text",
    "id": "bdo79MdyCpoo"
   },
   "source": [
    "## Feature Engineering"
   ]
  },
  {
   "cell_type": "code",
   "execution_count": 36,
   "metadata": {
    "colab": {
     "base_uri": "https://localhost:8080/",
     "height": 34
    },
    "colab_type": "code",
    "id": "7fBrEZJJCpou",
    "outputId": "0f5514c6-9402-4cdd-ef55-fb0d8dfce0a9"
   },
   "outputs": [
    {
     "data": {
      "text/plain": [
       "((891, 10), (418, 10), (1309, 10))"
      ]
     },
     "execution_count": 36,
     "metadata": {},
     "output_type": "execute_result"
    }
   ],
   "source": [
    "X = train.drop(\"Survived\", axis=1)\n",
    "y = train[\"Survived\"]\n",
    "X[\"train\"] = 1\n",
    "test[\"train\"] = 0\n",
    "data = pd.concat([X, test])\n",
    "X.shape, test.shape, data.shape"
   ]
  },
  {
   "cell_type": "markdown",
   "metadata": {
    "colab_type": "text",
    "id": "l3z5Qg-JCpox"
   },
   "source": [
    "#### Age Band"
   ]
  },
  {
   "cell_type": "markdown",
   "metadata": {
    "colab_type": "text",
    "id": "lWCqwYylCpox"
   },
   "source": [
    "Since age is a continuous variable we first want to convert into a categorical variable containing age bands. "
   ]
  },
  {
   "cell_type": "code",
   "execution_count": 37,
   "metadata": {
    "colab": {
     "base_uri": "https://localhost:8080/",
     "height": 170
    },
    "colab_type": "code",
    "id": "YTfZQHfpCpoy",
    "outputId": "5d811397-9381-4d70-b8b5-05476f409e4b"
   },
   "outputs": [
    {
     "data": {
      "text/plain": [
       "count    1309.000000\n",
       "mean       29.329730\n",
       "std        13.127747\n",
       "min         0.170000\n",
       "25%        22.000000\n",
       "50%        26.000000\n",
       "75%        37.000000\n",
       "max        80.000000\n",
       "Name: Age, dtype: float64"
      ]
     },
     "execution_count": 37,
     "metadata": {},
     "output_type": "execute_result"
    }
   ],
   "source": [
    "data.Age.describe()"
   ]
  },
  {
   "cell_type": "markdown",
   "metadata": {
    "colab_type": "text",
    "id": "SxFHY25eCpo1"
   },
   "source": [
    "The lowest value for Age in our datasets is 0.17 years, the oldest passenger is 80 years old. We want to convert the age into 5 categories. In order to get balanced groups we will orientate our splitting at percentiles."
   ]
  },
  {
   "cell_type": "code",
   "execution_count": 38,
   "metadata": {
    "colab": {
     "base_uri": "https://localhost:8080/",
     "height": 102
    },
    "colab_type": "code",
    "id": "WLxdEAJSCpo1",
    "outputId": "88835e27-1975-433c-d28b-0c65f600ecfb"
   },
   "outputs": [
    {
     "data": {
      "text/plain": [
       "0.2    21.00000\n",
       "0.4    25.14062\n",
       "0.6    29.87763\n",
       "0.8    39.00000\n",
       "Name: Age, dtype: float64"
      ]
     },
     "execution_count": 38,
     "metadata": {},
     "output_type": "execute_result"
    }
   ],
   "source": [
    "data.Age.quantile([0.2, 0.4, 0.6, 0.8])"
   ]
  },
  {
   "cell_type": "code",
   "execution_count": 39,
   "metadata": {
    "colab": {},
    "colab_type": "code",
    "id": "Dy-UKlMUCpo3"
   },
   "outputs": [],
   "source": [
    "data[\"age_cat\"] = str(1)\n",
    "data.loc[data[\"Age\"] <= 21, \"age_cat\"] = str(1)\n",
    "data.loc[(data[\"Age\"] > 20) & (data[\"Age\"] <= 25), \"age_cat\"] = str(2)\n",
    "data.loc[(data[\"Age\"] > 25) & (data[\"Age\"] <= 30), \"age_cat\"] = str(3)\n",
    "data.loc[(data[\"Age\"] > 30) & (data[\"Age\"] <= 40), \"age_cat\"] = str(4)\n",
    "data.loc[data[\"Age\"] > 40, \"age_cat\"] = str(5)"
   ]
  },
  {
   "cell_type": "code",
   "execution_count": 40,
   "metadata": {
    "colab": {
     "base_uri": "https://localhost:8080/",
     "height": 119
    },
    "colab_type": "code",
    "id": "cSDfm45jCpo5",
    "outputId": "4931cef7-2935-486d-d46e-4d345e09b8db"
   },
   "outputs": [
    {
     "data": {
      "text/plain": [
       "3    318\n",
       "2    267\n",
       "1    248\n",
       "4    240\n",
       "5    236\n",
       "Name: age_cat, dtype: int64"
      ]
     },
     "execution_count": 40,
     "metadata": {},
     "output_type": "execute_result"
    }
   ],
   "source": [
    "data.age_cat.value_counts()"
   ]
  },
  {
   "cell_type": "markdown",
   "metadata": {
    "colab_type": "text",
    "id": "sigBD9EZCpo7"
   },
   "source": [
    "#### Child"
   ]
  },
  {
   "cell_type": "markdown",
   "metadata": {
    "colab_type": "text",
    "id": "aSImUYrhCpo8"
   },
   "source": [
    "In addition to the age category we just defined, we assume that being a child increases the probability of surviving. Since our youngest age category ranges from newborn to 20 year olds, this is not really reflected by the data yet. We therefore define a dummy variable indicating if a passenger is a child. We do so by saying that children are people younger than 16."
   ]
  },
  {
   "cell_type": "code",
   "execution_count": 0,
   "metadata": {
    "colab": {},
    "colab_type": "code",
    "id": "LxTnae5xCpo9"
   },
   "outputs": [],
   "source": [
    "data[\"child\"] = 0\n",
    "data.loc[data[\"Age\"] <= 16, \"child\"] = 1"
   ]
  },
  {
   "cell_type": "markdown",
   "metadata": {
    "colab_type": "text",
    "id": "VfFtVOrmCppF"
   },
   "source": [
    "Since there is a very high positive correlation between Age and the categorical age variable (which is not surprising since it contains mostly the same information just structured), we are going to drop the continuous age variable."
   ]
  },
  {
   "cell_type": "code",
   "execution_count": 45,
   "metadata": {
    "colab": {},
    "colab_type": "code",
    "id": "Ci7Zy9VYCppF"
   },
   "outputs": [],
   "source": [
    "data = data.drop(\"Age\", axis=1)"
   ]
  },
  {
   "cell_type": "markdown",
   "metadata": {
    "colab_type": "text",
    "id": "wfTT4JYxCppH"
   },
   "source": [
    "#### Fare bands"
   ]
  },
  {
   "cell_type": "markdown",
   "metadata": {
    "colab_type": "text",
    "id": "Fml7gzNpCppI"
   },
   "source": [
    "In the same way as with Age we can proceed with the fares paid by each passenger. Here, we will not define bands by hand, but we use the pandas function qcut(). We use 10 categories to divide the fares into. After doing so, we can drop the original fare column. However, before we can create the bands we check for missing values."
   ]
  },
  {
   "cell_type": "code",
   "execution_count": 46,
   "metadata": {
    "colab": {
     "base_uri": "https://localhost:8080/",
     "height": 49
    },
    "colab_type": "code",
    "id": "1NKMSJO8CppI",
    "outputId": "35de7939-14c7-457d-9654-c6fda5b07194"
   },
   "outputs": [
    {
     "data": {
      "text/html": [
       "<div>\n",
       "<style scoped>\n",
       "    .dataframe tbody tr th:only-of-type {\n",
       "        vertical-align: middle;\n",
       "    }\n",
       "\n",
       "    .dataframe tbody tr th {\n",
       "        vertical-align: top;\n",
       "    }\n",
       "\n",
       "    .dataframe thead th {\n",
       "        text-align: right;\n",
       "    }\n",
       "</style>\n",
       "<table border=\"1\" class=\"dataframe\">\n",
       "  <thead>\n",
       "    <tr style=\"text-align: right;\">\n",
       "      <th></th>\n",
       "      <th>PassengerId</th>\n",
       "      <th>Pclass</th>\n",
       "      <th>Name</th>\n",
       "      <th>Sex</th>\n",
       "      <th>SibSp</th>\n",
       "      <th>Parch</th>\n",
       "      <th>Fare</th>\n",
       "      <th>Embarked</th>\n",
       "      <th>train</th>\n",
       "      <th>age_cat</th>\n",
       "    </tr>\n",
       "  </thead>\n",
       "  <tbody>\n",
       "    <tr>\n",
       "      <th>152</th>\n",
       "      <td>1044</td>\n",
       "      <td>3</td>\n",
       "      <td>Storey, Mr. Thomas</td>\n",
       "      <td>male</td>\n",
       "      <td>0</td>\n",
       "      <td>0</td>\n",
       "      <td>NaN</td>\n",
       "      <td>S</td>\n",
       "      <td>0</td>\n",
       "      <td>5</td>\n",
       "    </tr>\n",
       "  </tbody>\n",
       "</table>\n",
       "</div>"
      ],
      "text/plain": [
       "     PassengerId  Pclass                Name   Sex  SibSp  Parch  Fare  \\\n",
       "152         1044       3  Storey, Mr. Thomas  male      0      0   NaN   \n",
       "\n",
       "    Embarked  train age_cat  \n",
       "152        S      0       5  "
      ]
     },
     "execution_count": 46,
     "metadata": {},
     "output_type": "execute_result"
    }
   ],
   "source": [
    "data[data[\"Fare\"].isnull()]"
   ]
  },
  {
   "cell_type": "markdown",
   "metadata": {
    "colab_type": "text",
    "id": "hq-aPKFpCppL"
   },
   "source": [
    "The observation missing the Fare data belongs to the third class and was embarked in Southhampton. We will therefore impute the missing with the mean Fare of passengers from the third class embarked in Southhampton. Since we have seen before that the fares are systematically lower for male passengers we also take into account that the passenger with the missing fare value is male."
   ]
  },
  {
   "cell_type": "code",
   "execution_count": 47,
   "metadata": {
    "colab": {},
    "colab_type": "code",
    "id": "ybQOXNXVCppM"
   },
   "outputs": [],
   "source": [
    "data.loc[data[\"Fare\"].isnull(), \"Fare\"] = np.mean(data[\"Fare\"].loc[(data[\"Pclass\"] == 3) & (data[\"Embarked\"] == \"S\") & (data[\"Sex\"] == \"male\")])"
   ]
  },
  {
   "cell_type": "markdown",
   "metadata": {
    "colab_type": "text",
    "id": "kmhnY2FXCppN"
   },
   "source": [
    "Now we can continue creating the fare categories based on quantiles."
   ]
  },
  {
   "cell_type": "code",
   "execution_count": 48,
   "metadata": {
    "colab": {},
    "colab_type": "code",
    "id": "S6AyZBv7CppO"
   },
   "outputs": [],
   "source": [
    "data[\"Fare_cat\"] = pd.qcut(data[\"Fare\"], 10)"
   ]
  },
  {
   "cell_type": "code",
   "execution_count": 49,
   "metadata": {
    "colab": {},
    "colab_type": "code",
    "id": "EOH5ngXRCppP"
   },
   "outputs": [],
   "source": [
    "data = data.drop(\"Fare\", axis=1)"
   ]
  },
  {
   "cell_type": "markdown",
   "metadata": {
    "colab_type": "text",
    "id": "zFtvmWqWCppR"
   },
   "source": [
    "#### Family Size SibSp + ParCh"
   ]
  },
  {
   "cell_type": "markdown",
   "metadata": {
    "colab_type": "text",
    "id": "DpAVic33CppR"
   },
   "source": [
    "Since we have information about the number of Siblings and Spouses and about the number of parents or children for each passenger, we can use these features to create a feature that contains the number of a particular family that was aboard the ship. We call it family_size."
   ]
  },
  {
   "cell_type": "code",
   "execution_count": 50,
   "metadata": {
    "colab": {
     "base_uri": "https://localhost:8080/",
     "height": 187
    },
    "colab_type": "code",
    "id": "fH9WuCnmCppS",
    "outputId": "7b222fcd-f6a0-46b5-b607-126704560fe5"
   },
   "outputs": [
    {
     "data": {
      "text/plain": [
       "1     790\n",
       "2     235\n",
       "3     159\n",
       "4      43\n",
       "6      25\n",
       "5      22\n",
       "7      16\n",
       "11     11\n",
       "8       8\n",
       "Name: family_size, dtype: int64"
      ]
     },
     "execution_count": 50,
     "metadata": {},
     "output_type": "execute_result"
    }
   ],
   "source": [
    "data[\"family_size\"] = data[\"SibSp\"] + data[\"Parch\"] + 1\n",
    "data.family_size.value_counts()"
   ]
  },
  {
   "cell_type": "markdown",
   "metadata": {
    "colab_type": "text",
    "id": "kUFXiFguCppU"
   },
   "source": [
    "We can now drop the features SibSp and Parch."
   ]
  },
  {
   "cell_type": "code",
   "execution_count": 51,
   "metadata": {
    "colab": {},
    "colab_type": "code",
    "id": "IthA5TYoCppV",
    "scrolled": true
   },
   "outputs": [],
   "source": [
    "data = data.drop([\"SibSp\", \"Parch\"], axis=1)"
   ]
  },
  {
   "cell_type": "markdown",
   "metadata": {
    "colab_type": "text",
    "id": "h3FTHxBVCppY"
   },
   "source": [
    "#### Title"
   ]
  },
  {
   "cell_type": "code",
   "execution_count": 0,
   "metadata": {
    "colab": {
     "base_uri": "https://localhost:8080/",
     "height": 204
    },
    "colab_type": "code",
    "id": "jqwDOsXdCppZ",
    "outputId": "3da39080-6ee0-4fa0-dff5-33cd5387008d"
   },
   "outputs": [
    {
     "data": {
      "text/plain": [
       "0                              Braund, Mr. Owen Harris\n",
       "1    Cumings, Mrs. John Bradley (Florence Briggs Th...\n",
       "2                               Heikkinen, Miss. Laina\n",
       "3         Futrelle, Mrs. Jacques Heath (Lily May Peel)\n",
       "4                             Allen, Mr. William Henry\n",
       "5                                     Moran, Mr. James\n",
       "6                              McCarthy, Mr. Timothy J\n",
       "7                       Palsson, Master. Gosta Leonard\n",
       "8    Johnson, Mrs. Oscar W (Elisabeth Vilhelmina Berg)\n",
       "9                  Nasser, Mrs. Nicholas (Adele Achem)\n",
       "Name: Name, dtype: object"
      ]
     },
     "execution_count": 54,
     "metadata": {
      "tags": []
     },
     "output_type": "execute_result"
    }
   ],
   "source": [
    "data.Name.head(10)"
   ]
  },
  {
   "cell_type": "markdown",
   "metadata": {
    "colab_type": "text",
    "id": "RJ_pASNjCppb"
   },
   "source": [
    "Looking at the passenger's names, we notice that there are titles attached to them. The structure of this column is *\"Last name, title first name\"*. We can now extract those titles."
   ]
  },
  {
   "cell_type": "code",
   "execution_count": 52,
   "metadata": {
    "colab": {
     "base_uri": "https://localhost:8080/",
     "height": 340
    },
    "colab_type": "code",
    "id": "wavfNLsgCppe",
    "outputId": "ad1f4f4e-38e3-4397-cb7a-69983a419298"
   },
   "outputs": [
    {
     "data": {
      "text/plain": [
       " Mr              757\n",
       " Miss            260\n",
       " Mrs             197\n",
       " Master           61\n",
       " Rev               8\n",
       " Dr                8\n",
       " Col               4\n",
       " Mlle              2\n",
       " Major             2\n",
       " Ms                2\n",
       " Don               1\n",
       " Lady              1\n",
       " Capt              1\n",
       " Mme               1\n",
       " Dona              1\n",
       " Sir               1\n",
       " Jonkheer          1\n",
       " the Countess      1\n",
       "Name: Title, dtype: int64"
      ]
     },
     "execution_count": 52,
     "metadata": {},
     "output_type": "execute_result"
    }
   ],
   "source": [
    "data[\"Title\"] = data.Name.str.split(\",\", expand=True)[1].str.split(\".\", expand=True)[0]\n",
    "data[\"Title\"].value_counts()"
   ]
  },
  {
   "cell_type": "markdown",
   "metadata": {
    "colab_type": "text",
    "id": "T1kOcqpiCppg"
   },
   "source": [
    "We see that the most frequent titles are simply Mr and Miss. We also see that there seem to be, for example, many different titles for women, e.g. Miss, Mrs, Ms, Mlle (Mademoiselle). We therefore group the titles into 5 categories: Mr, Mrs (married females), Miss, Master and other. "
   ]
  },
  {
   "cell_type": "code",
   "execution_count": 53,
   "metadata": {
    "colab": {},
    "colab_type": "code",
    "id": "_n57iC2OCpph"
   },
   "outputs": [],
   "source": [
    "#much more efficient and should work as well; however, it does not here\n",
    "\n",
    "#data[\"Title\"] = data[\"Title\"].replace([\"Mlle\", \"Ms\"], \"Miss\")\n",
    "#data[\"Title\"] = data[\"Title\"].replace(\"Mme\", \"Mrs\")\n",
    "#data[\"Title\"] = data[\"Title\"].replace([\"Don\", \"Dona\", \"Rev\", \"Dr\", \"Major\", \"Lady\", \"Sir\", \"Col\", \"Capt\", \"the Countess\", \"Jonkheer\"], \"Other\")"
   ]
  },
  {
   "cell_type": "code",
   "execution_count": 54,
   "metadata": {
    "colab": {
     "base_uri": "https://localhost:8080/",
     "height": 300
    },
    "colab_type": "code",
    "id": "NaCkDWiHCppk",
    "outputId": "726cbcc9-5346-467e-eaaa-5b7b5dadb040"
   },
   "outputs": [
    {
     "data": {
      "text/plain": [
       "<matplotlib.axes._subplots.AxesSubplot at 0x182e36bb080>"
      ]
     },
     "execution_count": 54,
     "metadata": {},
     "output_type": "execute_result"
    },
    {
     "data": {
      "image/png": "[encoded data removed]",
      "text/plain": [
       "<Figure size 432x288 with 1 Axes>"
      ]
     },
     "metadata": {
      "needs_background": "light"
     },
     "output_type": "display_data"
    }
   ],
   "source": [
    "data[\"Title\"] = data[\"Title\"].apply(lambda x: x.replace(\"Mme\", \"Mrs\"))\n",
    "data[\"Title\"] = data[\"Title\"].apply(lambda x: x.replace(\"Mlle\", \"Miss\"))\n",
    "data[\"Title\"] = data[\"Title\"].apply(lambda x: x.replace(\"Ms\", \"Miss\"))\n",
    "data[\"Title\"] = data[\"Title\"].apply(lambda x: x.replace(\"Dona\", \"Other\"))\n",
    "data[\"Title\"] = data[\"Title\"].apply(lambda x: x.replace(\"Don\", \"Other\"))\n",
    "data[\"Title\"] = data[\"Title\"].apply(lambda x: x.replace(\"Rev\", \"Other\"))\n",
    "data[\"Title\"] = data[\"Title\"].apply(lambda x: x.replace(\"Dr\", \"Other\"))\n",
    "data[\"Title\"] = data[\"Title\"].apply(lambda x: x.replace(\"Major\", \"Other\"))\n",
    "data[\"Title\"] = data[\"Title\"].apply(lambda x: x.replace(\"Lady\", \"Other\"))\n",
    "data[\"Title\"] = data[\"Title\"].apply(lambda x: x.replace(\"Sir\", \"Other\"))\n",
    "data[\"Title\"] = data[\"Title\"].apply(lambda x: x.replace(\"Col\", \"Other\"))\n",
    "data[\"Title\"] = data[\"Title\"].apply(lambda x: x.replace(\"Capt\", \"Other\"))\n",
    "data[\"Title\"] = data[\"Title\"].apply(lambda x: x.replace(\"the Countess\", \"Other\"))\n",
    "data[\"Title\"] = data[\"Title\"].apply(lambda x: x.replace(\"Jonkheer\", \"Other\"))\n",
    "sns.countplot(data=data, x=\"Title\")"
   ]
  },
  {
   "cell_type": "markdown",
   "metadata": {
    "colab_type": "text",
    "id": "tcdG7z1xCppq"
   },
   "source": [
    "We can now drop the Name column.\n"
   ]
  },
  {
   "cell_type": "code",
   "execution_count": 55,
   "metadata": {
    "colab": {},
    "colab_type": "code",
    "id": "BmtbrzKjCppq"
   },
   "outputs": [],
   "source": [
    "data = data.drop(\"Name\", axis=1)"
   ]
  },
  {
   "cell_type": "markdown",
   "metadata": {
    "colab_type": "text",
    "id": "RsLvArx9Cpps"
   },
   "source": [
    "#### Missings"
   ]
  },
  {
   "cell_type": "markdown",
   "metadata": {
    "colab_type": "text",
    "id": "g8TFbuXLCppt"
   },
   "source": [
    "Before starting the modelling part of this notebook, we take a quick look if there are any missing values in addition to those we already took care of."
   ]
  },
  {
   "cell_type": "code",
   "execution_count": 56,
   "metadata": {
    "colab": {
     "base_uri": "https://localhost:8080/",
     "height": 204
    },
    "colab_type": "code",
    "id": "mSk8Bjp6Cppt",
    "outputId": "ba1cef21-c0a6-44f8-944d-fb05302de7a7"
   },
   "outputs": [
    {
     "data": {
      "text/plain": [
       "PassengerId    0\n",
       "Pclass         0\n",
       "Sex            0\n",
       "Embarked       2\n",
       "train          0\n",
       "age_cat        0\n",
       "Fare_cat       0\n",
       "family_size    0\n",
       "Title          0\n",
       "dtype: int64"
      ]
     },
     "execution_count": 56,
     "metadata": {},
     "output_type": "execute_result"
    }
   ],
   "source": [
    "data.isnull().sum()"
   ]
  },
  {
   "cell_type": "markdown",
   "metadata": {
    "colab_type": "text",
    "id": "FSGBxJ53Cppv"
   },
   "source": [
    "There are two more missing values for Embarked. We proceed in a similar manner as we have done so with Age above. However, instead of using means we impute the missings with the most frequent value in the respective class."
   ]
  },
  {
   "cell_type": "code",
   "execution_count": 57,
   "metadata": {
    "colab": {
     "base_uri": "https://localhost:8080/",
     "height": 111
    },
    "colab_type": "code",
    "id": "pnSjJZXsCppv",
    "outputId": "068aee65-f514-4704-b00b-842da1b42b90"
   },
   "outputs": [
    {
     "data": {
      "text/html": [
       "<div>\n",
       "<style scoped>\n",
       "    .dataframe tbody tr th:only-of-type {\n",
       "        vertical-align: middle;\n",
       "    }\n",
       "\n",
       "    .dataframe tbody tr th {\n",
       "        vertical-align: top;\n",
       "    }\n",
       "\n",
       "    .dataframe thead th {\n",
       "        text-align: right;\n",
       "    }\n",
       "</style>\n",
       "<table border=\"1\" class=\"dataframe\">\n",
       "  <thead>\n",
       "    <tr style=\"text-align: right;\">\n",
       "      <th></th>\n",
       "      <th>PassengerId</th>\n",
       "      <th>Pclass</th>\n",
       "      <th>Sex</th>\n",
       "      <th>Embarked</th>\n",
       "      <th>train</th>\n",
       "      <th>age_cat</th>\n",
       "      <th>Fare_cat</th>\n",
       "      <th>family_size</th>\n",
       "      <th>Title</th>\n",
       "    </tr>\n",
       "  </thead>\n",
       "  <tbody>\n",
       "    <tr>\n",
       "      <th>61</th>\n",
       "      <td>62</td>\n",
       "      <td>1</td>\n",
       "      <td>female</td>\n",
       "      <td>NaN</td>\n",
       "      <td>1</td>\n",
       "      <td>4</td>\n",
       "      <td>(78.02, 512.329]</td>\n",
       "      <td>1</td>\n",
       "      <td>Miss</td>\n",
       "    </tr>\n",
       "    <tr>\n",
       "      <th>829</th>\n",
       "      <td>830</td>\n",
       "      <td>1</td>\n",
       "      <td>female</td>\n",
       "      <td>NaN</td>\n",
       "      <td>1</td>\n",
       "      <td>5</td>\n",
       "      <td>(78.02, 512.329]</td>\n",
       "      <td>1</td>\n",
       "      <td>Mrs</td>\n",
       "    </tr>\n",
       "  </tbody>\n",
       "</table>\n",
       "</div>"
      ],
      "text/plain": [
       "     PassengerId  Pclass     Sex Embarked  train age_cat          Fare_cat  \\\n",
       "61            62       1  female      NaN      1       4  (78.02, 512.329]   \n",
       "829          830       1  female      NaN      1       5  (78.02, 512.329]   \n",
       "\n",
       "     family_size  Title  \n",
       "61             1   Miss  \n",
       "829            1    Mrs  "
      ]
     },
     "execution_count": 57,
     "metadata": {},
     "output_type": "execute_result"
    }
   ],
   "source": [
    "data[data[\"Embarked\"].isnull()]"
   ]
  },
  {
   "cell_type": "code",
   "execution_count": 58,
   "metadata": {
    "colab": {
     "base_uri": "https://localhost:8080/",
     "height": 85
    },
    "colab_type": "code",
    "id": "9otNHPcPCppy",
    "outputId": "3b624b1a-27d6-4763-f7eb-26bcee5ccda3"
   },
   "outputs": [
    {
     "data": {
      "text/plain": [
       "S    177\n",
       "C    141\n",
       "Q      3\n",
       "Name: Embarked, dtype: int64"
      ]
     },
     "execution_count": 58,
     "metadata": {},
     "output_type": "execute_result"
    }
   ],
   "source": [
    "data[\"Embarked\"].loc[data[\"Pclass\"] == 1].value_counts()"
   ]
  },
  {
   "cell_type": "markdown",
   "metadata": {
    "colab_type": "text",
    "id": "Ktb7DY0fCpp0"
   },
   "source": [
    "The most frequent value of Embarked for passengers in the first class is Southhampton."
   ]
  },
  {
   "cell_type": "code",
   "execution_count": 59,
   "metadata": {
    "colab": {},
    "colab_type": "code",
    "id": "Tc5Z0WKoCpp1"
   },
   "outputs": [],
   "source": [
    "data.loc[data[\"Embarked\"].isnull(), \"Embarked\"] = \"S\""
   ]
  },
  {
   "cell_type": "code",
   "execution_count": 60,
   "metadata": {
    "colab": {
     "base_uri": "https://localhost:8080/",
     "height": 204
    },
    "colab_type": "code",
    "id": "KEJaTTjRCpp2",
    "outputId": "3ce008cc-516d-4f39-98a6-8c4039119149"
   },
   "outputs": [
    {
     "data": {
      "text/plain": [
       "PassengerId    0\n",
       "Pclass         0\n",
       "Sex            0\n",
       "Embarked       0\n",
       "train          0\n",
       "age_cat        0\n",
       "Fare_cat       0\n",
       "family_size    0\n",
       "Title          0\n",
       "dtype: int64"
      ]
     },
     "execution_count": 60,
     "metadata": {},
     "output_type": "execute_result"
    }
   ],
   "source": [
    "data.isnull().sum()"
   ]
  },
  {
   "cell_type": "markdown",
   "metadata": {
    "colab_type": "text",
    "id": "W4kFhN9TCpp3"
   },
   "source": [
    "Our data looks good now, there are no more missing values."
   ]
  },
  {
   "cell_type": "markdown",
   "metadata": {
    "colab_type": "text",
    "id": "LC7AlhGsCpp4"
   },
   "source": [
    "#### Dummy variables"
   ]
  },
  {
   "cell_type": "markdown",
   "metadata": {
    "colab_type": "text",
    "id": "xFBVyeynCpp4"
   },
   "source": [
    "sklearn cannot handle categorical data, therefore we need to transform categorical features into dummy variables. If we have, for example, sex as a categorical feature (\"male\" or \"female\") and we convert this feature into dummies we get one dummy for \"male\" (0: no, 1: yes) and one for \"female\". Since both features are just linear combinations of each other (i.e. if we have the value for \"male\" we also have the value for \"female\") this would cause perfect multicollinearity. We therefore drop the first category dummy per feature to prevent this."
   ]
  },
  {
   "cell_type": "code",
   "execution_count": 61,
   "metadata": {
    "colab": {
     "base_uri": "https://localhost:8080/",
     "height": 241
    },
    "colab_type": "code",
    "id": "q8XDv46_Cpp4",
    "outputId": "d1998e35-7bc5-445d-f82f-adcbcb2e83e4"
   },
   "outputs": [
    {
     "data": {
      "text/html": [
       "<div>\n",
       "<style scoped>\n",
       "    .dataframe tbody tr th:only-of-type {\n",
       "        vertical-align: middle;\n",
       "    }\n",
       "\n",
       "    .dataframe tbody tr th {\n",
       "        vertical-align: top;\n",
       "    }\n",
       "\n",
       "    .dataframe thead th {\n",
       "        text-align: right;\n",
       "    }\n",
       "</style>\n",
       "<table border=\"1\" class=\"dataframe\">\n",
       "  <thead>\n",
       "    <tr style=\"text-align: right;\">\n",
       "      <th></th>\n",
       "      <th>PassengerId</th>\n",
       "      <th>Pclass</th>\n",
       "      <th>train</th>\n",
       "      <th>family_size</th>\n",
       "      <th>Sex_male</th>\n",
       "      <th>Embarked_Q</th>\n",
       "      <th>Embarked_S</th>\n",
       "      <th>age_cat_2</th>\n",
       "      <th>age_cat_3</th>\n",
       "      <th>age_cat_4</th>\n",
       "      <th>...</th>\n",
       "      <th>Fare_cat_(10.5, 14.454]</th>\n",
       "      <th>Fare_cat_(14.454, 21.558]</th>\n",
       "      <th>Fare_cat_(21.558, 26.82]</th>\n",
       "      <th>Fare_cat_(26.82, 41.579]</th>\n",
       "      <th>Fare_cat_(41.579, 78.02]</th>\n",
       "      <th>Fare_cat_(78.02, 512.329]</th>\n",
       "      <th>Title_ Miss</th>\n",
       "      <th>Title_ Mr</th>\n",
       "      <th>Title_ Mrs</th>\n",
       "      <th>Title_ Other</th>\n",
       "    </tr>\n",
       "  </thead>\n",
       "  <tbody>\n",
       "    <tr>\n",
       "      <th>0</th>\n",
       "      <td>1</td>\n",
       "      <td>3</td>\n",
       "      <td>1</td>\n",
       "      <td>2</td>\n",
       "      <td>1</td>\n",
       "      <td>0</td>\n",
       "      <td>1</td>\n",
       "      <td>1</td>\n",
       "      <td>0</td>\n",
       "      <td>0</td>\n",
       "      <td>...</td>\n",
       "      <td>0</td>\n",
       "      <td>0</td>\n",
       "      <td>0</td>\n",
       "      <td>0</td>\n",
       "      <td>0</td>\n",
       "      <td>0</td>\n",
       "      <td>0</td>\n",
       "      <td>1</td>\n",
       "      <td>0</td>\n",
       "      <td>0</td>\n",
       "    </tr>\n",
       "    <tr>\n",
       "      <th>1</th>\n",
       "      <td>2</td>\n",
       "      <td>1</td>\n",
       "      <td>1</td>\n",
       "      <td>2</td>\n",
       "      <td>0</td>\n",
       "      <td>0</td>\n",
       "      <td>0</td>\n",
       "      <td>0</td>\n",
       "      <td>0</td>\n",
       "      <td>1</td>\n",
       "      <td>...</td>\n",
       "      <td>0</td>\n",
       "      <td>0</td>\n",
       "      <td>0</td>\n",
       "      <td>0</td>\n",
       "      <td>1</td>\n",
       "      <td>0</td>\n",
       "      <td>0</td>\n",
       "      <td>0</td>\n",
       "      <td>1</td>\n",
       "      <td>0</td>\n",
       "    </tr>\n",
       "    <tr>\n",
       "      <th>2</th>\n",
       "      <td>3</td>\n",
       "      <td>3</td>\n",
       "      <td>1</td>\n",
       "      <td>1</td>\n",
       "      <td>0</td>\n",
       "      <td>0</td>\n",
       "      <td>1</td>\n",
       "      <td>0</td>\n",
       "      <td>1</td>\n",
       "      <td>0</td>\n",
       "      <td>...</td>\n",
       "      <td>0</td>\n",
       "      <td>0</td>\n",
       "      <td>0</td>\n",
       "      <td>0</td>\n",
       "      <td>0</td>\n",
       "      <td>0</td>\n",
       "      <td>1</td>\n",
       "      <td>0</td>\n",
       "      <td>0</td>\n",
       "      <td>0</td>\n",
       "    </tr>\n",
       "    <tr>\n",
       "      <th>3</th>\n",
       "      <td>4</td>\n",
       "      <td>1</td>\n",
       "      <td>1</td>\n",
       "      <td>2</td>\n",
       "      <td>0</td>\n",
       "      <td>0</td>\n",
       "      <td>1</td>\n",
       "      <td>0</td>\n",
       "      <td>0</td>\n",
       "      <td>1</td>\n",
       "      <td>...</td>\n",
       "      <td>0</td>\n",
       "      <td>0</td>\n",
       "      <td>0</td>\n",
       "      <td>0</td>\n",
       "      <td>1</td>\n",
       "      <td>0</td>\n",
       "      <td>0</td>\n",
       "      <td>0</td>\n",
       "      <td>1</td>\n",
       "      <td>0</td>\n",
       "    </tr>\n",
       "    <tr>\n",
       "      <th>4</th>\n",
       "      <td>5</td>\n",
       "      <td>3</td>\n",
       "      <td>1</td>\n",
       "      <td>1</td>\n",
       "      <td>1</td>\n",
       "      <td>0</td>\n",
       "      <td>1</td>\n",
       "      <td>0</td>\n",
       "      <td>0</td>\n",
       "      <td>1</td>\n",
       "      <td>...</td>\n",
       "      <td>0</td>\n",
       "      <td>0</td>\n",
       "      <td>0</td>\n",
       "      <td>0</td>\n",
       "      <td>0</td>\n",
       "      <td>0</td>\n",
       "      <td>0</td>\n",
       "      <td>1</td>\n",
       "      <td>0</td>\n",
       "      <td>0</td>\n",
       "    </tr>\n",
       "  </tbody>\n",
       "</table>\n",
       "<p>5 rows × 24 columns</p>\n",
       "</div>"
      ],
      "text/plain": [
       "   PassengerId  Pclass  train  family_size  Sex_male  Embarked_Q  Embarked_S  \\\n",
       "0            1       3      1            2         1           0           1   \n",
       "1            2       1      1            2         0           0           0   \n",
       "2            3       3      1            1         0           0           1   \n",
       "3            4       1      1            2         0           0           1   \n",
       "4            5       3      1            1         1           0           1   \n",
       "\n",
       "   age_cat_2  age_cat_3  age_cat_4  ...  Fare_cat_(10.5, 14.454]  \\\n",
       "0          1          0          0  ...                        0   \n",
       "1          0          0          1  ...                        0   \n",
       "2          0          1          0  ...                        0   \n",
       "3          0          0          1  ...                        0   \n",
       "4          0          0          1  ...                        0   \n",
       "\n",
       "   Fare_cat_(14.454, 21.558]  Fare_cat_(21.558, 26.82]  \\\n",
       "0                          0                         0   \n",
       "1                          0                         0   \n",
       "2                          0                         0   \n",
       "3                          0                         0   \n",
       "4                          0                         0   \n",
       "\n",
       "   Fare_cat_(26.82, 41.579]  Fare_cat_(41.579, 78.02]  \\\n",
       "0                         0                         0   \n",
       "1                         0                         1   \n",
       "2                         0                         0   \n",
       "3                         0                         1   \n",
       "4                         0                         0   \n",
       "\n",
       "   Fare_cat_(78.02, 512.329]  Title_ Miss  Title_ Mr  Title_ Mrs  Title_ Other  \n",
       "0                          0            0          1           0             0  \n",
       "1                          0            0          0           1             0  \n",
       "2                          0            1          0           0             0  \n",
       "3                          0            0          0           1             0  \n",
       "4                          0            0          1           0             0  \n",
       "\n",
       "[5 rows x 24 columns]"
      ]
     },
     "execution_count": 61,
     "metadata": {},
     "output_type": "execute_result"
    }
   ],
   "source": [
    "data = pd.get_dummies(data, drop_first=True)\n",
    "data.head()"
   ]
  },
  {
   "cell_type": "markdown",
   "metadata": {
    "colab_type": "text",
    "id": "NPPMlVCRCpp6"
   },
   "source": [
    "We can now split our data again into the training and the test set. To do so, we have defined a binary variable \"train\" before concatenating both data frames. We can now use this indicator to split them again. After doing so, we drop the PassengerId in since it does not add any information to our model. "
   ]
  },
  {
   "cell_type": "code",
   "execution_count": 62,
   "metadata": {
    "colab": {
     "base_uri": "https://localhost:8080/",
     "height": 34
    },
    "colab_type": "code",
    "id": "wuf6yT2jCpp8",
    "outputId": "5e4d9e7f-adcb-447b-b0b4-1fba99c4a02a"
   },
   "outputs": [
    {
     "data": {
      "text/plain": [
       "((891, 23), (891,), (418, 23))"
      ]
     },
     "execution_count": 62,
     "metadata": {},
     "output_type": "execute_result"
    }
   ],
   "source": [
    "X = data[data[\"train\"]==1]\n",
    "X = X.drop(\"PassengerId\", axis=1)\n",
    "test = data[data[\"train\"]==0]\n",
    "ID = test[\"PassengerId\"] # saving the test set PassengerId for submission file\n",
    "test = test.drop(\"PassengerId\", axis=1)\n",
    "X.shape, y.shape, test.shape"
   ]
  },
  {
   "cell_type": "markdown",
   "metadata": {
    "colab_type": "text",
    "id": "YIqQ7lofCpp-"
   },
   "source": [
    "## Building our Models"
   ]
  },
  {
   "cell_type": "markdown",
   "metadata": {
    "colab_type": "text",
    "id": "AYqILMBfEDO0"
   },
   "source": [
    "We will try 2 different algorithms: a Random Forest Classifier and XGBoost Classifier. Since the Kaggle Leaderboard is based on the accuracy, i.e. the percentage of correctly classified samples, we will also use this metric to evaluate our models using k-fold cross-validation on a hold-out (test) set."
   ]
  },
  {
   "cell_type": "markdown",
   "metadata": {
    "colab_type": "text",
    "id": "y5c5pK3YEl_7"
   },
   "source": [
    "### Random Forest "
   ]
  },
  {
   "cell_type": "markdown",
   "metadata": {
    "colab_type": "text",
    "id": "Bcnu4RU7EtpD"
   },
   "source": [
    "We are going to start with the Random Forest Classifier."
   ]
  },
  {
   "cell_type": "code",
   "execution_count": 64,
   "metadata": {
    "colab": {},
    "colab_type": "code",
    "id": "aIaQ1cFeE2ga"
   },
   "outputs": [],
   "source": [
    "from sklearn.ensemble import RandomForestClassifier\n",
    "from sklearn.metrics import accuracy_score\n",
    "from sklearn.metrics import confusion_matrix\n",
    "from sklearn import preprocessing\n",
    "from sklearn.pipeline import Pipeline\n",
    "from sklearn.model_selection import train_test_split\n",
    "from sklearn.model_selection import GridSearchCV\n",
    "from sklearn.model_selection import RandomizedSearchCV"
   ]
  },
  {
   "cell_type": "markdown",
   "metadata": {
    "colab_type": "text",
    "id": "gm4QPs2jHzbE"
   },
   "source": [
    "At first we have to split our data into a training set and a test set, on which the models can be evaluated on later."
   ]
  },
  {
   "cell_type": "code",
   "execution_count": 65,
   "metadata": {
    "colab": {
     "base_uri": "https://localhost:8080/",
     "height": 34
    },
    "colab_type": "code",
    "id": "8PqJR4D9H9zV",
    "outputId": "88976b33-98ce-4f50-c18c-502bf46625d3"
   },
   "outputs": [
    {
     "data": {
      "text/plain": [
       "((712, 23), (179, 23), (712,), (179,))"
      ]
     },
     "execution_count": 65,
     "metadata": {},
     "output_type": "execute_result"
    }
   ],
   "source": [
    "X_train, X_test, y_train, y_test = train_test_split(X, y, test_size=0.2, random_state=123)\n",
    "X_train.shape, X_test.shape, y_train.shape, y_test.shape"
   ]
  },
  {
   "cell_type": "markdown",
   "metadata": {
    "colab_type": "text",
    "id": "CumR5tZzGGN6"
   },
   "source": [
    "Then we will create our pipeline object, define the functions that should be applied and define a grid with the parameters we want to tune and the range from which RandomizedSearchCV should draw from."
   ]
  },
  {
   "cell_type": "code",
   "execution_count": 0,
   "metadata": {
    "colab": {},
    "colab_type": "code",
    "id": "nyBQ6u_TGRNW"
   },
   "outputs": [],
   "source": [
    "steps_rf = [(\"scaler\", preprocessing.StandardScaler()), (\"rf_class\", RandomForestClassifier(random_state=123))]\n",
    "pipeline_rf = Pipeline(steps_rf)\n",
    "\n",
    "# define our hyperparameter grid\n",
    "n_estimators = list(np.arange(200, 2001, 200))\n",
    "max_features = [\"auto\", \"sqrt\", \"log2\"]\n",
    "max_depth = list(np.arange(10, 101, 10))\n",
    "max_depth.append(None)\n",
    "min_samples_split = [2, 5, 10]\n",
    "min_samples_leaf = [1, 2, 4, 8]\n",
    "bootstrap = [True, False]\n",
    "param_dist = {\"rf_class__n_estimators\": n_estimators,\n",
    "              \"rf_class__max_features\": max_features,\n",
    "              \"rf_class__max_depth\": max_depth,\n",
    "              \"rf_class__min_samples_split\": min_samples_split,\n",
    "              \"rf_class__min_samples_leaf\": min_samples_leaf,\n",
    "              \"rf_class__bootstrap\": bootstrap}"
   ]
  },
  {
   "cell_type": "markdown",
   "metadata": {
    "colab_type": "text",
    "id": "_BKq0zmZHZKn"
   },
   "source": [
    "We can now start to narrow down the range for our hyperparameters by using using RandomizedSearchCV to get a first hint of the ideally chosen hyperparameters for our data."
   ]
  },
  {
   "cell_type": "code",
   "execution_count": 0,
   "metadata": {
    "colab": {},
    "colab_type": "code",
    "id": "qnITJMIHIo58"
   },
   "outputs": [],
   "source": [
    "cv_random_rf = RandomizedSearchCV(pipeline_rf, param_dist, cv=5, n_iter=500)"
   ]
  },
  {
   "cell_type": "code",
   "execution_count": 0,
   "metadata": {
    "colab": {
     "base_uri": "https://localhost:8080/",
     "height": 578
    },
    "colab_type": "code",
    "id": "d8CduJv1I1D0",
    "outputId": "5c828a6d-162f-4f3e-d03e-b6c22d39b9a9"
   },
   "outputs": [
    {
     "data": {
      "text/plain": [
       "RandomizedSearchCV(cv=5, error_score='raise-deprecating',\n",
       "                   estimator=Pipeline(memory=None,\n",
       "                                      steps=[('scaler',\n",
       "                                              StandardScaler(copy=True,\n",
       "                                                             with_mean=True,\n",
       "                                                             with_std=True)),\n",
       "                                             ('rf_class',\n",
       "                                              RandomForestClassifier(bootstrap=True,\n",
       "                                                                     class_weight=None,\n",
       "                                                                     criterion='gini',\n",
       "                                                                     max_depth=None,\n",
       "                                                                     max_features='auto',\n",
       "                                                                     max_leaf_nodes=None,\n",
       "                                                                     min_impurity_decrease=0.0,\n",
       "                                                                     min_impurity_split=None,...\n",
       "                                        'rf_class__max_depth': [10, 20, 30, 40,\n",
       "                                                                50, 60, 70, 80,\n",
       "                                                                90, 100, None],\n",
       "                                        'rf_class__max_features': ['auto',\n",
       "                                                                   'sqrt',\n",
       "                                                                   'log2'],\n",
       "                                        'rf_class__min_samples_leaf': [1, 2, 4,\n",
       "                                                                       8],\n",
       "                                        'rf_class__min_samples_split': [2, 5,\n",
       "                                                                        10],\n",
       "                                        'rf_class__n_estimators': [200, 400,\n",
       "                                                                   600, 800,\n",
       "                                                                   1000, 1200,\n",
       "                                                                   1400, 1600,\n",
       "                                                                   1800,\n",
       "                                                                   2000]},\n",
       "                   pre_dispatch='2*n_jobs', random_state=None, refit=True,\n",
       "                   return_train_score=False, scoring=None, verbose=0)"
      ]
     },
     "execution_count": 78,
     "metadata": {
      "tags": []
     },
     "output_type": "execute_result"
    }
   ],
   "source": [
    "cv_random_rf.fit(X_train, y_train)"
   ]
  },
  {
   "cell_type": "code",
   "execution_count": 0,
   "metadata": {
    "colab": {
     "base_uri": "https://localhost:8080/",
     "height": 163
    },
    "colab_type": "code",
    "id": "wK1P_9W3Ws-g",
    "outputId": "c9f6a580-6141-4692-d8cf-338bceada926"
   },
   "outputs": [
    {
     "ename": "NameError",
     "evalue": "ignored",
     "output_type": "error",
     "traceback": [
      "\u001b[0;31m---------------------------------------------------------------------------\u001b[0m",
      "\u001b[0;31mNameError\u001b[0m                                 Traceback (most recent call last)",
      "\u001b[0;32m<ipython-input-52-66f7fd8d104d>\u001b[0m in \u001b[0;36m<module>\u001b[0;34m()\u001b[0m\n\u001b[0;32m----> 1\u001b[0;31m \u001b[0mcv_random_rf\u001b[0m\u001b[0;34m.\u001b[0m\u001b[0mbest_params_\u001b[0m\u001b[0;34m\u001b[0m\u001b[0;34m\u001b[0m\u001b[0m\n\u001b[0m",
      "\u001b[0;31mNameError\u001b[0m: name 'cv_random_rf' is not defined"
     ]
    }
   ],
   "source": [
    "cv_random_rf.best_params_"
   ]
  },
  {
   "cell_type": "markdown",
   "metadata": {
    "colab_type": "text",
    "id": "7Gy3jmElEE44"
   },
   "source": [
    "Based on the chosen parameters from RandomizedSearchCV we can now manually decrease the range of the hyperparameters to be tested and use GridSearchCV as before to find the best parameters for our model."
   ]
  },
  {
   "cell_type": "code",
   "execution_count": 0,
   "metadata": {
    "colab": {
     "base_uri": "https://localhost:8080/",
     "height": 119
    },
    "colab_type": "code",
    "id": "o8qYyJsKEBj0",
    "outputId": "29e110e5-8205-4413-82ff-cbfb6c2f0fad"
   },
   "outputs": [
    {
     "data": {
      "text/plain": [
       "{'rf_class__bootstrap': [True, False],\n",
       " 'rf_class__max_depth': [5, 10, 15, 20],\n",
       " 'rf_class__max_features': ['auto'],\n",
       " 'rf_class__min_samples_leaf': [2, 4, 6],\n",
       " 'rf_class__min_samples_split': [3, 5, 7],\n",
       " 'rf_class__n_estimators': [500, 550, 600, 650, 700]}"
      ]
     },
     "execution_count": 63,
     "metadata": {
      "tags": []
     },
     "output_type": "execute_result"
    }
   ],
   "source": [
    "n_estimators_2 = list(np.arange(500, 701, 50))\n",
    "max_depth_2 = list(np.arange(5, 21, 5))\n",
    "max_features_2 = [\"auto\"]\n",
    "min_samples_split_2 = [3, 5, 7]\n",
    "min_samples_leaf_2 = [2, 4, 6]\n",
    "bootstrap_2 = [True, False]\n",
    "param_grid = {\"rf_class__n_estimators\": n_estimators_2,\n",
    "              \"rf_class__max_depth\": max_depth_2,\n",
    "              \"rf_class__max_features\": max_features_2,\n",
    "              \"rf_class__min_samples_split\": min_samples_split_2,\n",
    "              \"rf_class__min_samples_leaf\": min_samples_leaf_2,\n",
    "              \"rf_class__bootstrap\": bootstrap_2}\n",
    "param_grid"
   ]
  },
  {
   "cell_type": "code",
   "execution_count": 0,
   "metadata": {
    "colab": {
     "base_uri": "https://localhost:8080/",
     "height": 459
    },
    "colab_type": "code",
    "id": "ds66yAhaEeJD",
    "outputId": "145026eb-7642-4623-b645-4905132ed18d"
   },
   "outputs": [
    {
     "data": {
      "text/plain": [
       "GridSearchCV(cv=5, error_score='raise-deprecating',\n",
       "             estimator=Pipeline(memory=None,\n",
       "                                steps=[('scaler',\n",
       "                                        StandardScaler(copy=True,\n",
       "                                                       with_mean=True,\n",
       "                                                       with_std=True)),\n",
       "                                       ('rf_class',\n",
       "                                        RandomForestClassifier(bootstrap=True,\n",
       "                                                               class_weight=None,\n",
       "                                                               criterion='gini',\n",
       "                                                               max_depth=None,\n",
       "                                                               max_features='auto',\n",
       "                                                               max_leaf_nodes=None,\n",
       "                                                               min_impurity_decrease=0.0,\n",
       "                                                               min_impurity_split=None,\n",
       "                                                               min_sa...\n",
       "                                verbose=False),\n",
       "             iid='warn', n_jobs=None,\n",
       "             param_grid={'rf_class__bootstrap': [True, False],\n",
       "                         'rf_class__max_depth': [5, 10, 15, 20],\n",
       "                         'rf_class__max_features': ['auto'],\n",
       "                         'rf_class__min_samples_leaf': [2, 4, 6],\n",
       "                         'rf_class__min_samples_split': [3, 5, 7],\n",
       "                         'rf_class__n_estimators': [500, 550, 600, 650, 700]},\n",
       "             pre_dispatch='2*n_jobs', refit=True, return_train_score=False,\n",
       "             scoring=None, verbose=0)"
      ]
     },
     "execution_count": 64,
     "metadata": {
      "tags": []
     },
     "output_type": "execute_result"
    }
   ],
   "source": [
    "cv_rf = GridSearchCV(pipeline_rf, param_grid, cv=5)\n",
    "cv_rf.fit(X_train, y_train)"
   ]
  },
  {
   "cell_type": "code",
   "execution_count": 0,
   "metadata": {
    "colab": {
     "base_uri": "https://localhost:8080/",
     "height": 119
    },
    "colab_type": "code",
    "id": "yskJ0U_25OK_",
    "outputId": "afd4ee62-3fb1-4523-debc-fd40a6dbdfb4"
   },
   "outputs": [
    {
     "data": {
      "text/plain": [
       "{'rf_class__bootstrap': True,\n",
       " 'rf_class__max_depth': 10,\n",
       " 'rf_class__max_features': 'auto',\n",
       " 'rf_class__min_samples_leaf': 4,\n",
       " 'rf_class__min_samples_split': 3,\n",
       " 'rf_class__n_estimators': 600}"
      ]
     },
     "execution_count": 66,
     "metadata": {
      "tags": []
     },
     "output_type": "execute_result"
    }
   ],
   "source": [
    "cv_rf.best_params_"
   ]
  },
  {
   "cell_type": "markdown",
   "metadata": {
    "colab_type": "text",
    "id": "Ae550pMh6VzL"
   },
   "source": [
    "We now can evaluate our model on our hold out test set using the accuracy metric."
   ]
  },
  {
   "cell_type": "code",
   "execution_count": 66,
   "metadata": {
    "colab": {
     "base_uri": "https://localhost:8080/",
     "height": 34
    },
    "colab_type": "code",
    "id": "cQLJrGLj6dfv",
    "outputId": "7facfcd2-ba03-4872-c2b9-f377501e8b67"
   },
   "outputs": [
    {
     "ename": "NameError",
     "evalue": "name 'cv_rf' is not defined",
     "output_type": "error",
     "traceback": [
      "\u001b[1;31m---------------------------------------------------------------------------\u001b[0m",
      "\u001b[1;31mNameError\u001b[0m                                 Traceback (most recent call last)",
      "\u001b[1;32m<ipython-input-66-522a84cd4ea3>\u001b[0m in \u001b[0;36m<module>\u001b[1;34m\u001b[0m\n\u001b[1;32m----> 1\u001b[1;33m \u001b[0my_pred_rf\u001b[0m \u001b[1;33m=\u001b[0m \u001b[0mcv_rf\u001b[0m\u001b[1;33m.\u001b[0m\u001b[0mpredict\u001b[0m\u001b[1;33m(\u001b[0m\u001b[0mX_test\u001b[0m\u001b[1;33m)\u001b[0m\u001b[1;33m\u001b[0m\u001b[1;33m\u001b[0m\u001b[0m\n\u001b[0m\u001b[0;32m      2\u001b[0m \u001b[0maccuracy_score\u001b[0m\u001b[1;33m(\u001b[0m\u001b[0my_test\u001b[0m\u001b[1;33m,\u001b[0m \u001b[0my_pred_rf\u001b[0m\u001b[1;33m)\u001b[0m\u001b[1;33m\u001b[0m\u001b[1;33m\u001b[0m\u001b[0m\n",
      "\u001b[1;31mNameError\u001b[0m: name 'cv_rf' is not defined"
     ]
    }
   ],
   "source": [
    "y_pred_rf = cv_rf.predict(X_test)\n",
    "accuracy_score(y_test, y_pred_rf)"
   ]
  },
  {
   "cell_type": "markdown",
   "metadata": {
    "colab_type": "text",
    "id": "jsxm4Y4269p0"
   },
   "source": [
    "We get an accuray of 0.85475, which means that the model correctly classified 85.5% of the unseen test data, which is pretty good. We can also plot the confusion matrix."
   ]
  },
  {
   "cell_type": "code",
   "execution_count": 0,
   "metadata": {
    "colab": {
     "base_uri": "https://localhost:8080/",
     "height": 318
    },
    "colab_type": "code",
    "id": "HA1XZdHn7eo9",
    "outputId": "79893504-4378-402d-efc4-9847c15cfcca"
   },
   "outputs": [
    {
     "data": {
      "text/plain": [
       "[Text(25.5, 0.5, 'Predicted Label'), Text(0.5, 7.5, 'True label')]"
      ]
     },
     "execution_count": 77,
     "metadata": {
      "tags": []
     },
     "output_type": "execute_result"
    },
    {
     "data": {
      "image/png": "[encoded data removed]",
      "text/plain": [
       "<Figure size 432x288 with 2 Axes>"
      ]
     },
     "metadata": {
      "tags": []
     },
     "output_type": "display_data"
    }
   ],
   "source": [
    "cm_rf_df = pd.DataFrame(confusion_matrix(y_test, y_pred_rf))\n",
    "sns.set(font_scale=1.4)\n",
    "cm_rf = sns.heatmap(cm_rf, annot=True, fmt=\"g\")\n",
    "cm_rf.set(xlabel=\"True label\", ylabel=\"Predicted Label\")"
   ]
  },
  {
   "cell_type": "markdown",
   "metadata": {
    "colab_type": "text",
    "id": "x6tXKf5t9n8e"
   },
   "source": [
    "We can now run our model on the test set provided by Kaggle to see how well our model performs in the challenge compared to other models."
   ]
  },
  {
   "cell_type": "code",
   "execution_count": 0,
   "metadata": {
    "colab": {
     "base_uri": "https://localhost:8080/",
     "height": 119
    },
    "colab_type": "code",
    "id": "S7EpVc6G9w7A",
    "outputId": "a16cdad6-d039-4310-9cf9-d3c66c007b2b"
   },
   "outputs": [
    {
     "name": "stdout",
     "output_type": "stream",
     "text": [
      "   PassengerId  Survived\n",
      "0          892         0\n",
      "1          893         1\n",
      "2          894         0\n",
      "3          895         0\n",
      "4          896         1\n"
     ]
    }
   ],
   "source": [
    "pred_rf = cv_rf.predict(test)\n",
    "submiss_rf = {\"PassengerId\":ID, \"Survived\": pred_rf}\n",
    "submission_rf = pd.DataFrame(submiss_rf)\n",
    "print(submission_rf.head())"
   ]
  },
  {
   "cell_type": "markdown",
   "metadata": {
    "colab_type": "text",
    "id": "GrtEJbs7-kpt"
   },
   "source": [
    "We can now download our submission file and upload it to Kaggle."
   ]
  },
  {
   "cell_type": "code",
   "execution_count": 0,
   "metadata": {
    "colab": {},
    "colab_type": "code",
    "id": "qHqiSoQy-pds"
   },
   "outputs": [],
   "source": [
    "from google.colab import files\n",
    "submission_rf.to_csv(\"submission_rf.csv\", index=False)\n",
    "#files.download(\"submission_rf.csv\")"
   ]
  },
  {
   "cell_type": "markdown",
   "metadata": {
    "colab_type": "text",
    "id": "rh_cxLVULIef"
   },
   "source": [
    "### XGBoost"
   ]
  },
  {
   "cell_type": "markdown",
   "metadata": {
    "colab_type": "text",
    "id": "MyjY_Vu2LIef"
   },
   "source": [
    "After the random forest, we will now try the XGBoost algorithm with our data."
   ]
  },
  {
   "cell_type": "code",
   "execution_count": 0,
   "metadata": {
    "colab": {},
    "colab_type": "code",
    "id": "Bx5VKr48LIeg"
   },
   "outputs": [],
   "source": [
    "import xgboost as xgb\n",
    "from xgboost.sklearn import XGBClassifier"
   ]
  },
  {
   "cell_type": "code",
   "execution_count": 0,
   "metadata": {
    "colab": {},
    "colab_type": "code",
    "id": "pm5gmtysLIeh"
   },
   "outputs": [],
   "source": [
    "steps_xgb = [(\"scaler\", preprocessing.StandardScaler()), (\"xgb\", XGBClassifier(objective=\"binary:logistic\", eval_metric=\"auc\", random_state=123))]\n",
    "pipeline_xgb = Pipeline(steps_xgb)"
   ]
  },
  {
   "cell_type": "markdown",
   "metadata": {
    "colab_type": "text",
    "id": "fVU-fUeDLIei"
   },
   "source": [
    "As already done so with our RandomForest model we first define a grid of hyperparameters and then tune these using RandomizedSearchCV and then GridSearchCV."
   ]
  },
  {
   "cell_type": "code",
   "execution_count": 0,
   "metadata": {
    "colab": {},
    "colab_type": "code",
    "id": "wxpSLnXDLIej"
   },
   "outputs": [],
   "source": [
    "learning_rate = list(np.arange(0.01, 0.311, 0.01))\n",
    "max_depth = list(np.arange(5,51,5))\n",
    "min_child_weight = list(np.arange(0,11,2))\n",
    "colsample_bytree = list(np.arange(0.5, 0.91, 0.05))\n",
    "gamma = [0,1,2,3,4,5]\n",
    "n_estimators = list(np.arange(100,1001,100))\n",
    "param_dist_xgb = {\"xgb__learning_rate\": learning_rate,\n",
    "              \"xgb__max_depth\": max_depth,\n",
    "              \"xgb__min_child_weight\": min_child_weight,\n",
    "              \"xgb__colsample_bytree\": colsample_bytree,\n",
    "              \"xgb__gamma\": gamma,\n",
    "              \"xgb__n_estimators\": n_estimators}"
   ]
  },
  {
   "cell_type": "code",
   "execution_count": 0,
   "metadata": {
    "colab": {},
    "colab_type": "code",
    "id": "UZ00v6vnLIek"
   },
   "outputs": [],
   "source": [
    "cv_random_xgb = RandomizedSearchCV(pipeline_xgb, param_dist_xgb, cv=5, n_iter=500)"
   ]
  },
  {
   "cell_type": "code",
   "execution_count": 0,
   "metadata": {
    "colab": {
     "base_uri": "https://localhost:8080/",
     "height": 612
    },
    "colab_type": "code",
    "id": "dWQifFVFLIel",
    "outputId": "135160bd-f16d-45d3-f21f-810883288bce"
   },
   "outputs": [
    {
     "data": {
      "text/plain": [
       "RandomizedSearchCV(cv=5, error_score='raise-deprecating',\n",
       "                   estimator=Pipeline(memory=None,\n",
       "                                      steps=[('scaler',\n",
       "                                              StandardScaler(copy=True,\n",
       "                                                             with_mean=True,\n",
       "                                                             with_std=True)),\n",
       "                                             ('xgb',\n",
       "                                              XGBClassifier(base_score=0.5,\n",
       "                                                            booster='gbtree',\n",
       "                                                            colsample_bylevel=1,\n",
       "                                                            colsample_bynode=1,\n",
       "                                                            colsample_bytree=1,\n",
       "                                                            eval_metric='auc',\n",
       "                                                            gamma=0,\n",
       "                                                            learning_rate=0.1,\n",
       "                                                            max_delta_step=0,\n",
       "                                                            max_depth=3,\n",
       "                                                            min_ch...\n",
       "                                                               0.21000000000000002,\n",
       "                                                               0.22, 0.23,\n",
       "                                                               0.24000000000000002,\n",
       "                                                               0.25, 0.26, 0.27,\n",
       "                                                               0.28,\n",
       "                                                               0.29000000000000004,\n",
       "                                                               0.3, ...],\n",
       "                                        'xgb__max_depth': [5, 10, 15, 20, 25,\n",
       "                                                           30, 35, 40, 45, 50],\n",
       "                                        'xgb__min_child_weight': [0, 2, 4, 6, 8,\n",
       "                                                                  10],\n",
       "                                        'xgb__n_estimators': [100, 200, 300,\n",
       "                                                              400, 500, 600,\n",
       "                                                              700, 800, 900,\n",
       "                                                              1000]},\n",
       "                   pre_dispatch='2*n_jobs', random_state=None, refit=True,\n",
       "                   return_train_score=False, scoring=None, verbose=0)"
      ]
     },
     "execution_count": 39,
     "metadata": {
      "tags": []
     },
     "output_type": "execute_result"
    }
   ],
   "source": [
    "cv_random_xgb.fit(X_train, y_train)"
   ]
  },
  {
   "cell_type": "markdown",
   "metadata": {
    "colab_type": "text",
    "id": "bw6hrS-hNipp"
   },
   "source": [
    "We can now again use the best hyperparameters found by RandomizedSearchCV to do a grid search on a smaller band of hyperparameters to find the best performing ones."
   ]
  },
  {
   "cell_type": "code",
   "execution_count": 0,
   "metadata": {
    "colab": {
     "base_uri": "https://localhost:8080/",
     "height": 119
    },
    "colab_type": "code",
    "id": "dF9jwnrXNsrE",
    "outputId": "edb26822-fc62-4d58-f889-4a1cb89c12a6"
   },
   "outputs": [
    {
     "data": {
      "text/plain": [
       "{'xgb__colsample_bytree': 0.8000000000000003,\n",
       " 'xgb__gamma': 4,\n",
       " 'xgb__learning_rate': 0.23,\n",
       " 'xgb__max_depth': 40,\n",
       " 'xgb__min_child_weight': 2,\n",
       " 'xgb__n_estimators': 200}"
      ]
     },
     "execution_count": 40,
     "metadata": {
      "tags": []
     },
     "output_type": "execute_result"
    }
   ],
   "source": [
    "cv_random_xgb.best_params_"
   ]
  },
  {
   "cell_type": "code",
   "execution_count": 0,
   "metadata": {
    "colab": {},
    "colab_type": "code",
    "id": "JKwpT_JWNzQq"
   },
   "outputs": [],
   "source": [
    "learning_rate_2 = list(np.arange(0.2, 0.26, 0.01))\n",
    "max_depth_2 = list(np.arange(35,50,5))\n",
    "min_child_weight_2 = list(np.arange(1,4,1))\n",
    "colsample_bytree_2 = list(np.arange(0.7, 0.95, 0.05))\n",
    "gamma_2 = [3,4,5]\n",
    "n_estimators_2 = list(np.arange(100,301,100))\n",
    "params_xgb = {\"xgb__learning_rate\": learning_rate_2,\n",
    "              \"xgb__max_depth\": max_depth_2,\n",
    "              \"xgb__min_child_weight\": min_child_weight_2,\n",
    "              \"xgb__colsample_bytree\": colsample_bytree_2,\n",
    "              \"xgb__gamma\": gamma_2,\n",
    "              \"xgb__n_estimators\": n_estimators_2}"
   ]
  },
  {
   "cell_type": "code",
   "execution_count": 0,
   "metadata": {
    "colab": {
     "base_uri": "https://localhost:8080/",
     "height": 544
    },
    "colab_type": "code",
    "id": "f8gr7B7gN6W9",
    "outputId": "2039fffd-6632-477f-cde6-31cc7d8f6612"
   },
   "outputs": [
    {
     "data": {
      "text/plain": [
       "GridSearchCV(cv=5, error_score='raise-deprecating',\n",
       "             estimator=Pipeline(memory=None,\n",
       "                                steps=[('scaler',\n",
       "                                        StandardScaler(copy=True,\n",
       "                                                       with_mean=True,\n",
       "                                                       with_std=True)),\n",
       "                                       ('xgb',\n",
       "                                        XGBClassifier(base_score=0.5,\n",
       "                                                      booster='gbtree',\n",
       "                                                      colsample_bylevel=1,\n",
       "                                                      colsample_bynode=1,\n",
       "                                                      colsample_bytree=1,\n",
       "                                                      eval_metric='auc',\n",
       "                                                      gamma=0,\n",
       "                                                      learning_rate=0.1,\n",
       "                                                      max_delta_step=0,\n",
       "                                                      max_depth=3,\n",
       "                                                      min_child_we...\n",
       "                                                   0.8500000000000001,\n",
       "                                                   0.9000000000000001],\n",
       "                         'xgb__gamma': [3, 4, 5],\n",
       "                         'xgb__learning_rate': [0.2, 0.21000000000000002,\n",
       "                                                0.22000000000000003,\n",
       "                                                0.23000000000000004,\n",
       "                                                0.24000000000000005,\n",
       "                                                0.25000000000000006],\n",
       "                         'xgb__max_depth': [35, 40, 45],\n",
       "                         'xgb__min_child_weight': [1, 2, 3],\n",
       "                         'xgb__n_estimators': [100, 200, 300]},\n",
       "             pre_dispatch='2*n_jobs', refit=True, return_train_score=False,\n",
       "             scoring=None, verbose=0)"
      ]
     },
     "execution_count": 48,
     "metadata": {
      "tags": []
     },
     "output_type": "execute_result"
    }
   ],
   "source": [
    "cv_xgb = GridSearchCV(pipeline_xgb, params_xgb, cv=5)\n",
    "cv_xgb.fit(X_train, y_train)"
   ]
  },
  {
   "cell_type": "code",
   "execution_count": 0,
   "metadata": {
    "colab": {
     "base_uri": "https://localhost:8080/",
     "height": 34
    },
    "colab_type": "code",
    "id": "LCxu_R2uOLkH",
    "outputId": "db383c4e-a444-463d-d012-8bc0119a6fa5"
   },
   "outputs": [
    {
     "data": {
      "text/plain": [
       "0.8547486033519553"
      ]
     },
     "execution_count": 51,
     "metadata": {
      "tags": []
     },
     "output_type": "execute_result"
    }
   ],
   "source": [
    "y_pred_xgb = cv_xgb.predict(X_test)\n",
    "accuracy_score(y_test, y_pred_xgb)"
   ]
  },
  {
   "cell_type": "markdown",
   "metadata": {
    "colab_type": "text",
    "id": "GikZTIkaOTJq"
   },
   "source": [
    "We get an accuracy of 0.85475 using the tuned XGBoost Classifier, which is exactly the same accuracy score as for the RandomForestRegressor. It would be interesting to see which of these models performs better on the unseen test dataset evaluated on Kaggle. We will do a short comparison at the end of this Notebook.\n",
    "We can again plot the Confusion Matrix to visualize our predictions and the true values of the hold out set."
   ]
  },
  {
   "cell_type": "code",
   "execution_count": 0,
   "metadata": {
    "colab": {
     "base_uri": "https://localhost:8080/",
     "height": 318
    },
    "colab_type": "code",
    "id": "7WXk-Eg9OpLE",
    "outputId": "2233157b-207c-45ef-bbf0-3eac97697c79"
   },
   "outputs": [
    {
     "data": {
      "text/plain": [
       "[Text(25.5, 0.5, 'Predicted Label'), Text(0.5, 7.5, 'True label')]"
      ]
     },
     "execution_count": 53,
     "metadata": {
      "tags": []
     },
     "output_type": "execute_result"
    },
    {
     "data": {
      "image/png": "[encoded data removed]",
      "text/plain": [
       "<Figure size 432x288 with 2 Axes>"
      ]
     },
     "metadata": {
      "tags": []
     },
     "output_type": "display_data"
    }
   ],
   "source": [
    "cm_xgb_df = pd.DataFrame(confusion_matrix(y_test, y_pred_xgb))\n",
    "sns.set(font_scale=1.4)\n",
    "cm_xgb = sns.heatmap(cm_xgb_df, annot=True, fmt=\"g\")\n",
    "cm_xgb.set(xlabel=\"True label\", ylabel=\"Predicted Label\")"
   ]
  },
  {
   "cell_type": "markdown",
   "metadata": {
    "colab_type": "text",
    "id": "9p_TBNrHO2cF"
   },
   "source": [
    "The last step now is to predict the labels on the test set, create a dataframe containing the passengers' ID and if they survived or not and to download this, so it can be uploaded to Kaggle and evaluated there."
   ]
  },
  {
   "cell_type": "code",
   "execution_count": 0,
   "metadata": {
    "colab": {
     "base_uri": "https://localhost:8080/",
     "height": 119
    },
    "colab_type": "code",
    "id": "UgnWsjySPwjG",
    "outputId": "b165c7c9-6b14-41c8-efb1-8cfe85500525"
   },
   "outputs": [
    {
     "name": "stdout",
     "output_type": "stream",
     "text": [
      "   PassengerId  Survived\n",
      "0          892         0\n",
      "1          893         0\n",
      "2          894         0\n",
      "3          895         0\n",
      "4          896         1\n"
     ]
    }
   ],
   "source": [
    "pred_xgb = cv_xgb.predict(test)\n",
    "submiss_xgb = {\"PassengerId\":ID, \"Survived\": pred_xgb}\n",
    "submission_xgb = pd.DataFrame(submiss_xgb)\n",
    "print(submission_xgb.head())"
   ]
  },
  {
   "cell_type": "code",
   "execution_count": 0,
   "metadata": {
    "colab": {},
    "colab_type": "code",
    "id": "XoGqhmETP49m"
   },
   "outputs": [],
   "source": [
    "from google.colab import files \n",
    "submission_xgb.to_csv(\"submission_xgb.csv\", index=False)\n",
    "#files.download(\"submission_xgb.csv\")"
   ]
  },
  {
   "cell_type": "markdown",
   "metadata": {
    "colab_type": "text",
    "id": "vrBfDf-YeqNv"
   },
   "source": [
    "## Comparison of Kaggle results"
   ]
  },
  {
   "cell_type": "markdown",
   "metadata": {
    "colab_type": "text",
    "id": "WaQQEFRtev43"
   },
   "source": [
    "Uploading both submission files, we get an accuracy score of 0.79425 using the RandomForestClassifier built at first. The XGBoost Classifier yields an accuracy score of 0.77511. Thus, the RandomForest clearly outperforms the XGBoost algorithm, which is surprising since XGBoost is known to be the best working algorithm for a very large field of applications for both regression and classifciation. "
   ]
  },
  {
   "cell_type": "markdown",
   "metadata": {
    "colab_type": "text",
    "id": "LEobsGnKMiyq"
   },
   "source": [
    "### XGBoost with Accuracy as eval_metric, not AUC"
   ]
  },
  {
   "cell_type": "code",
   "execution_count": 60,
   "metadata": {
    "colab": {
     "base_uri": "https://localhost:8080/",
     "height": 544
    },
    "colab_type": "code",
    "id": "KL8Mhg_-g2W6",
    "outputId": "d2a3b853-2d54-477e-bd27-4187a2f1f1c5"
   },
   "outputs": [
    {
     "data": {
      "text/plain": [
       "GridSearchCV(cv=5, error_score='raise-deprecating',\n",
       "             estimator=Pipeline(memory=None,\n",
       "                                steps=[('scaler',\n",
       "                                        StandardScaler(copy=True,\n",
       "                                                       with_mean=True,\n",
       "                                                       with_std=True)),\n",
       "                                       ('xgb',\n",
       "                                        XGBClassifier(base_score=0.5,\n",
       "                                                      booster='gbtree',\n",
       "                                                      colsample_bylevel=1,\n",
       "                                                      colsample_bynode=1,\n",
       "                                                      colsample_bytree=1,\n",
       "                                                      eval_metric='auc',\n",
       "                                                      gamma=0,\n",
       "                                                      learning_rate=0.1,\n",
       "                                                      max_delta_step=0,\n",
       "                                                      max_depth=3,\n",
       "                                                      min_child_we...\n",
       "                                                   0.8500000000000001,\n",
       "                                                   0.9000000000000001],\n",
       "                         'xgb__gamma': [3, 4, 5],\n",
       "                         'xgb__learning_rate': [0.2, 0.21000000000000002,\n",
       "                                                0.22000000000000003,\n",
       "                                                0.23000000000000004,\n",
       "                                                0.24000000000000005,\n",
       "                                                0.25000000000000006],\n",
       "                         'xgb__max_depth': [35, 40, 45],\n",
       "                         'xgb__min_child_weight': [1, 2, 3],\n",
       "                         'xgb__n_estimators': [100, 200, 300]},\n",
       "             pre_dispatch='2*n_jobs', refit=True, return_train_score=False,\n",
       "             scoring=None, verbose=0)"
      ]
     },
     "execution_count": 60,
     "metadata": {
      "tags": []
     },
     "output_type": "execute_result"
    }
   ],
   "source": [
    "steps_xgb_acc = [(\"scaler\", preprocessing.StandardScaler()), (\"xgb\", XGBClassifier(objective=\"binary:logistic\", eval_metric=\"accuracy\", random_state=123))]\n",
    "pipeline_xgb_acc = Pipeline(steps_xgb)\n",
    "cv_xgb_acc = GridSearchCV(pipeline_xgb, params_xgb, cv=5)\n",
    "cv_xgb_acc.fit(X_train, y_train)"
   ]
  },
  {
   "cell_type": "code",
   "execution_count": 62,
   "metadata": {
    "colab": {
     "base_uri": "https://localhost:8080/",
     "height": 34
    },
    "colab_type": "code",
    "id": "-iRZuB4IL6qK",
    "outputId": "ea92232c-247f-4174-fe31-c548c9ac48aa"
   },
   "outputs": [
    {
     "data": {
      "text/plain": [
       "0.8547486033519553"
      ]
     },
     "execution_count": 62,
     "metadata": {
      "tags": []
     },
     "output_type": "execute_result"
    }
   ],
   "source": [
    "y_pred_xgb_2 = cv_xgb.predict(X_test)\n",
    "accuracy_score(y_test, y_pred_xgb_2)"
   ]
  },
  {
   "cell_type": "code",
   "execution_count": 63,
   "metadata": {
    "colab": {
     "base_uri": "https://localhost:8080/",
     "height": 318
    },
    "colab_type": "code",
    "id": "b2VgXJakMEWV",
    "outputId": "51e2b15c-cc7d-4bf2-b241-688a474474de"
   },
   "outputs": [
    {
     "data": {
      "text/plain": [
       "[Text(25.5, 0.5, 'Predicted Label'), Text(0.5, 7.5, 'True label')]"
      ]
     },
     "execution_count": 63,
     "metadata": {
      "tags": []
     },
     "output_type": "execute_result"
    },
    {
     "data": {
      "image/png": "[encoded data removed]",
      "text/plain": [
       "<Figure size 432x288 with 2 Axes>"
      ]
     },
     "metadata": {
      "tags": []
     },
     "output_type": "display_data"
    }
   ],
   "source": [
    "cm_xgb2_df = pd.DataFrame(confusion_matrix(y_test, y_pred_xgb))\n",
    "sns.set(font_scale=1.4)\n",
    "cm_xgb2 = sns.heatmap(cm_xgb2_df, annot=True, fmt=\"g\")\n",
    "cm_xgb2.set(xlabel=\"True label\", ylabel=\"Predicted Label\")"
   ]
  },
  {
   "cell_type": "code",
   "execution_count": 0,
   "metadata": {
    "colab": {},
    "colab_type": "code",
    "id": "BBlTqkkxMJzA"
   },
   "outputs": [],
   "source": [
    "pred_xgb2 = cv_xgb.predict(test)\n",
    "submiss_xgb2 = {\"PassengerId\":ID, \"Survived\": pred_xgb2}\n",
    "submission_xgb2 = pd.DataFrame(submiss_xgb2)\n",
    "from google.colab import files \n",
    "submission_xgb2.to_csv(\"submission_xgb2.csv\", index=False)\n",
    "#files.download(\"submission_xgb2.csv\")"
   ]
  }
 ],
 "metadata": {
  "accelerator": "GPU",
  "colab": {
   "name": "Titanic.ipynb",
   "provenance": [],
   "toc_visible": true,
   "version": "0.3.2"
  },
  "kernelspec": {
   "display_name": "Python 3",
   "language": "python",
   "name": "python3"
  },
  "language_info": {
   "codemirror_mode": {
    "name": "ipython",
    "version": 3
   },
   "file_extension": ".py",
   "mimetype": "text/x-python",
   "name": "python",
   "nbconvert_exporter": "python",
   "pygments_lexer": "ipython3",
   "version": "3.7.3"
  }
 },
 "nbformat": 4,
 "nbformat_minor": 1
}
