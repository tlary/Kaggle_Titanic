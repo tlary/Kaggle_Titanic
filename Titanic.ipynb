{
  "nbformat": 4,
  "nbformat_minor": 0,
  "metadata": {
    "colab": {
      "name": "Titanic.ipynb",
      "version": "0.3.2",
      "provenance": [],
      "toc_visible": true
    },
    "language_info": {
      "codemirror_mode": {
        "name": "ipython",
        "version": 3
      },
      "file_extension": ".py",
      "mimetype": "text/x-python",
      "name": "python",
      "nbconvert_exporter": "python",
      "pygments_lexer": "ipython3",
      "version": "3.7.0"
    },
    "kernelspec": {
      "name": "python3",
      "display_name": "Python 3"
    },
    "accelerator": "GPU"
  },
  "cells": [
    {
      "cell_type": "markdown",
      "metadata": {
        "id": "mKgbQ4v-Cplg",
        "colab_type": "text"
      },
      "source": [
        "# Titanic: Machine Learning from Disaster"
      ]
    },
    {
      "cell_type": "markdown",
      "metadata": {
        "id": "K7SZImcACpli",
        "colab_type": "text"
      },
      "source": [
        "(https://www.kaggle.com/c/titanic/overview)"
      ]
    },
    {
      "cell_type": "markdown",
      "metadata": {
        "id": "dNcYScb5Cplj",
        "colab_type": "text"
      },
      "source": [
        "We start off by importing the basic Python libraries that will be needed throughout the whole time of this notebook and by loading the datasets into pandas DataFrames."
      ]
    },
    {
      "cell_type": "code",
      "metadata": {
        "id": "u2F-wtUOCplk",
        "colab_type": "code",
        "colab": {}
      },
      "source": [
        "import pandas as pd\n",
        "import numpy as np\n",
        "import matplotlib.pyplot as plt\n",
        "import seaborn as sns\n",
        "%matplotlib inline"
      ],
      "execution_count": 0,
      "outputs": []
    },
    {
      "cell_type": "code",
      "metadata": {
        "id": "LZ51VrHZCplo",
        "colab_type": "code",
        "colab": {}
      },
      "source": [
        "train = pd.read_csv(\"train.csv\")\n",
        "test = pd.read_csv(\"test.csv\")"
      ],
      "execution_count": 0,
      "outputs": []
    },
    {
      "cell_type": "markdown",
      "metadata": {
        "id": "ccy5pevTCplr",
        "colab_type": "text"
      },
      "source": [
        "## Exploratory Data Analysis (EDA)"
      ]
    },
    {
      "cell_type": "markdown",
      "metadata": {
        "id": "R5RBQEP-Cplr",
        "colab_type": "text"
      },
      "source": [
        "The first step when tackling a new challenge or project should always be to first get to know the data. Therefore, we will start by looking at the data and the variables."
      ]
    },
    {
      "cell_type": "code",
      "metadata": {
        "id": "3Q3FeBQYCpls",
        "colab_type": "code",
        "colab": {
          "base_uri": "https://localhost:8080/",
          "height": 34
        },
        "outputId": "2c93ad9d-c112-4983-ca2b-6bce75a086ad"
      },
      "source": [
        "train.shape, test.shape"
      ],
      "execution_count": 4,
      "outputs": [
        {
          "output_type": "execute_result",
          "data": {
            "text/plain": [
              "((891, 12), (418, 11))"
            ]
          },
          "metadata": {
            "tags": []
          },
          "execution_count": 4
        }
      ]
    },
    {
      "cell_type": "markdown",
      "metadata": {
        "id": "7RNVf3t6Cplw",
        "colab_type": "text"
      },
      "source": [
        "We see that the training set contains 891 observations (rows) and 12 variables or features (columns). The test set contains less observations (418) and only 11 features. We will at first take a glimpse at the first few rows of each dataset."
      ]
    },
    {
      "cell_type": "code",
      "metadata": {
        "id": "8AAMpzwoCplx",
        "colab_type": "code",
        "colab": {
          "base_uri": "https://localhost:8080/",
          "height": 204
        },
        "outputId": "a6bc1262-a01a-4917-97e7-b2d38c83baee"
      },
      "source": [
        "train.head()"
      ],
      "execution_count": 5,
      "outputs": [
        {
          "output_type": "execute_result",
          "data": {
            "text/html": [
              "<div>\n",
              "<style scoped>\n",
              "    .dataframe tbody tr th:only-of-type {\n",
              "        vertical-align: middle;\n",
              "    }\n",
              "\n",
              "    .dataframe tbody tr th {\n",
              "        vertical-align: top;\n",
              "    }\n",
              "\n",
              "    .dataframe thead th {\n",
              "        text-align: right;\n",
              "    }\n",
              "</style>\n",
              "<table border=\"1\" class=\"dataframe\">\n",
              "  <thead>\n",
              "    <tr style=\"text-align: right;\">\n",
              "      <th></th>\n",
              "      <th>PassengerId</th>\n",
              "      <th>Survived</th>\n",
              "      <th>Pclass</th>\n",
              "      <th>Name</th>\n",
              "      <th>Sex</th>\n",
              "      <th>Age</th>\n",
              "      <th>SibSp</th>\n",
              "      <th>Parch</th>\n",
              "      <th>Ticket</th>\n",
              "      <th>Fare</th>\n",
              "      <th>Cabin</th>\n",
              "      <th>Embarked</th>\n",
              "    </tr>\n",
              "  </thead>\n",
              "  <tbody>\n",
              "    <tr>\n",
              "      <th>0</th>\n",
              "      <td>1</td>\n",
              "      <td>0</td>\n",
              "      <td>3</td>\n",
              "      <td>Braund, Mr. Owen Harris</td>\n",
              "      <td>male</td>\n",
              "      <td>22.0</td>\n",
              "      <td>1</td>\n",
              "      <td>0</td>\n",
              "      <td>A/5 21171</td>\n",
              "      <td>7.2500</td>\n",
              "      <td>NaN</td>\n",
              "      <td>S</td>\n",
              "    </tr>\n",
              "    <tr>\n",
              "      <th>1</th>\n",
              "      <td>2</td>\n",
              "      <td>1</td>\n",
              "      <td>1</td>\n",
              "      <td>Cumings, Mrs. John Bradley (Florence Briggs Th...</td>\n",
              "      <td>female</td>\n",
              "      <td>38.0</td>\n",
              "      <td>1</td>\n",
              "      <td>0</td>\n",
              "      <td>PC 17599</td>\n",
              "      <td>71.2833</td>\n",
              "      <td>C85</td>\n",
              "      <td>C</td>\n",
              "    </tr>\n",
              "    <tr>\n",
              "      <th>2</th>\n",
              "      <td>3</td>\n",
              "      <td>1</td>\n",
              "      <td>3</td>\n",
              "      <td>Heikkinen, Miss. Laina</td>\n",
              "      <td>female</td>\n",
              "      <td>26.0</td>\n",
              "      <td>0</td>\n",
              "      <td>0</td>\n",
              "      <td>STON/O2. 3101282</td>\n",
              "      <td>7.9250</td>\n",
              "      <td>NaN</td>\n",
              "      <td>S</td>\n",
              "    </tr>\n",
              "    <tr>\n",
              "      <th>3</th>\n",
              "      <td>4</td>\n",
              "      <td>1</td>\n",
              "      <td>1</td>\n",
              "      <td>Futrelle, Mrs. Jacques Heath (Lily May Peel)</td>\n",
              "      <td>female</td>\n",
              "      <td>35.0</td>\n",
              "      <td>1</td>\n",
              "      <td>0</td>\n",
              "      <td>113803</td>\n",
              "      <td>53.1000</td>\n",
              "      <td>C123</td>\n",
              "      <td>S</td>\n",
              "    </tr>\n",
              "    <tr>\n",
              "      <th>4</th>\n",
              "      <td>5</td>\n",
              "      <td>0</td>\n",
              "      <td>3</td>\n",
              "      <td>Allen, Mr. William Henry</td>\n",
              "      <td>male</td>\n",
              "      <td>35.0</td>\n",
              "      <td>0</td>\n",
              "      <td>0</td>\n",
              "      <td>373450</td>\n",
              "      <td>8.0500</td>\n",
              "      <td>NaN</td>\n",
              "      <td>S</td>\n",
              "    </tr>\n",
              "  </tbody>\n",
              "</table>\n",
              "</div>"
            ],
            "text/plain": [
              "   PassengerId  Survived  Pclass  ...     Fare Cabin  Embarked\n",
              "0            1         0       3  ...   7.2500   NaN         S\n",
              "1            2         1       1  ...  71.2833   C85         C\n",
              "2            3         1       3  ...   7.9250   NaN         S\n",
              "3            4         1       1  ...  53.1000  C123         S\n",
              "4            5         0       3  ...   8.0500   NaN         S\n",
              "\n",
              "[5 rows x 12 columns]"
            ]
          },
          "metadata": {
            "tags": []
          },
          "execution_count": 5
        }
      ]
    },
    {
      "cell_type": "code",
      "metadata": {
        "id": "jOSa3Yr0Cpl1",
        "colab_type": "code",
        "colab": {
          "base_uri": "https://localhost:8080/",
          "height": 204
        },
        "outputId": "3291d6c9-4fe0-46ce-9421-2c831bd6ed5e"
      },
      "source": [
        "test.head()"
      ],
      "execution_count": 6,
      "outputs": [
        {
          "output_type": "execute_result",
          "data": {
            "text/html": [
              "<div>\n",
              "<style scoped>\n",
              "    .dataframe tbody tr th:only-of-type {\n",
              "        vertical-align: middle;\n",
              "    }\n",
              "\n",
              "    .dataframe tbody tr th {\n",
              "        vertical-align: top;\n",
              "    }\n",
              "\n",
              "    .dataframe thead th {\n",
              "        text-align: right;\n",
              "    }\n",
              "</style>\n",
              "<table border=\"1\" class=\"dataframe\">\n",
              "  <thead>\n",
              "    <tr style=\"text-align: right;\">\n",
              "      <th></th>\n",
              "      <th>PassengerId</th>\n",
              "      <th>Pclass</th>\n",
              "      <th>Name</th>\n",
              "      <th>Sex</th>\n",
              "      <th>Age</th>\n",
              "      <th>SibSp</th>\n",
              "      <th>Parch</th>\n",
              "      <th>Ticket</th>\n",
              "      <th>Fare</th>\n",
              "      <th>Cabin</th>\n",
              "      <th>Embarked</th>\n",
              "    </tr>\n",
              "  </thead>\n",
              "  <tbody>\n",
              "    <tr>\n",
              "      <th>0</th>\n",
              "      <td>892</td>\n",
              "      <td>3</td>\n",
              "      <td>Kelly, Mr. James</td>\n",
              "      <td>male</td>\n",
              "      <td>34.5</td>\n",
              "      <td>0</td>\n",
              "      <td>0</td>\n",
              "      <td>330911</td>\n",
              "      <td>7.8292</td>\n",
              "      <td>NaN</td>\n",
              "      <td>Q</td>\n",
              "    </tr>\n",
              "    <tr>\n",
              "      <th>1</th>\n",
              "      <td>893</td>\n",
              "      <td>3</td>\n",
              "      <td>Wilkes, Mrs. James (Ellen Needs)</td>\n",
              "      <td>female</td>\n",
              "      <td>47.0</td>\n",
              "      <td>1</td>\n",
              "      <td>0</td>\n",
              "      <td>363272</td>\n",
              "      <td>7.0000</td>\n",
              "      <td>NaN</td>\n",
              "      <td>S</td>\n",
              "    </tr>\n",
              "    <tr>\n",
              "      <th>2</th>\n",
              "      <td>894</td>\n",
              "      <td>2</td>\n",
              "      <td>Myles, Mr. Thomas Francis</td>\n",
              "      <td>male</td>\n",
              "      <td>62.0</td>\n",
              "      <td>0</td>\n",
              "      <td>0</td>\n",
              "      <td>240276</td>\n",
              "      <td>9.6875</td>\n",
              "      <td>NaN</td>\n",
              "      <td>Q</td>\n",
              "    </tr>\n",
              "    <tr>\n",
              "      <th>3</th>\n",
              "      <td>895</td>\n",
              "      <td>3</td>\n",
              "      <td>Wirz, Mr. Albert</td>\n",
              "      <td>male</td>\n",
              "      <td>27.0</td>\n",
              "      <td>0</td>\n",
              "      <td>0</td>\n",
              "      <td>315154</td>\n",
              "      <td>8.6625</td>\n",
              "      <td>NaN</td>\n",
              "      <td>S</td>\n",
              "    </tr>\n",
              "    <tr>\n",
              "      <th>4</th>\n",
              "      <td>896</td>\n",
              "      <td>3</td>\n",
              "      <td>Hirvonen, Mrs. Alexander (Helga E Lindqvist)</td>\n",
              "      <td>female</td>\n",
              "      <td>22.0</td>\n",
              "      <td>1</td>\n",
              "      <td>1</td>\n",
              "      <td>3101298</td>\n",
              "      <td>12.2875</td>\n",
              "      <td>NaN</td>\n",
              "      <td>S</td>\n",
              "    </tr>\n",
              "  </tbody>\n",
              "</table>\n",
              "</div>"
            ],
            "text/plain": [
              "   PassengerId  Pclass  ... Cabin Embarked\n",
              "0          892       3  ...   NaN        Q\n",
              "1          893       3  ...   NaN        S\n",
              "2          894       2  ...   NaN        Q\n",
              "3          895       3  ...   NaN        S\n",
              "4          896       3  ...   NaN        S\n",
              "\n",
              "[5 rows x 11 columns]"
            ]
          },
          "metadata": {
            "tags": []
          },
          "execution_count": 6
        }
      ]
    },
    {
      "cell_type": "code",
      "metadata": {
        "id": "6c-2Wp0dCpl4",
        "colab_type": "code",
        "colab": {
          "base_uri": "https://localhost:8080/",
          "height": 119
        },
        "outputId": "7cbe686f-c63e-46f3-f215-d53beb2f4196"
      },
      "source": [
        "train.columns, test.columns"
      ],
      "execution_count": 7,
      "outputs": [
        {
          "output_type": "execute_result",
          "data": {
            "text/plain": [
              "(Index(['PassengerId', 'Survived', 'Pclass', 'Name', 'Sex', 'Age', 'SibSp',\n",
              "        'Parch', 'Ticket', 'Fare', 'Cabin', 'Embarked'],\n",
              "       dtype='object'),\n",
              " Index(['PassengerId', 'Pclass', 'Name', 'Sex', 'Age', 'SibSp', 'Parch',\n",
              "        'Ticket', 'Fare', 'Cabin', 'Embarked'],\n",
              "       dtype='object'))"
            ]
          },
          "metadata": {
            "tags": []
          },
          "execution_count": 7
        }
      ]
    },
    {
      "cell_type": "markdown",
      "metadata": {
        "id": "rmAh31TmCpl8",
        "colab_type": "text"
      },
      "source": [
        "We can see that both datasets contain exactly the same variables except for \"Survived\", which is missing in the test dataset since this is the variable we want to predict. It is a dummy variable, 1 means survived, 0 means not survived. The \"Name\" variable has unique values for every person and does not directly predict the chance of survival. However, we will not drop the feature at this point, but are going to extract some information from it in the section \"Feature Engineering\"."
      ]
    },
    {
      "cell_type": "markdown",
      "metadata": {
        "id": "8JmKoMn6Cpl9",
        "colab_type": "text"
      },
      "source": [
        "As a next step we can look at the data types of the variables."
      ]
    },
    {
      "cell_type": "code",
      "metadata": {
        "id": "2JzggWB8Cpl-",
        "colab_type": "code",
        "colab": {
          "base_uri": "https://localhost:8080/",
          "height": 306
        },
        "outputId": "6dd5ea6c-5426-4f49-d8fb-46a04eec9952"
      },
      "source": [
        "train.info()"
      ],
      "execution_count": 8,
      "outputs": [
        {
          "output_type": "stream",
          "text": [
            "<class 'pandas.core.frame.DataFrame'>\n",
            "RangeIndex: 891 entries, 0 to 890\n",
            "Data columns (total 12 columns):\n",
            "PassengerId    891 non-null int64\n",
            "Survived       891 non-null int64\n",
            "Pclass         891 non-null int64\n",
            "Name           891 non-null object\n",
            "Sex            891 non-null object\n",
            "Age            714 non-null float64\n",
            "SibSp          891 non-null int64\n",
            "Parch          891 non-null int64\n",
            "Ticket         891 non-null object\n",
            "Fare           891 non-null float64\n",
            "Cabin          204 non-null object\n",
            "Embarked       889 non-null object\n",
            "dtypes: float64(2), int64(5), object(5)\n",
            "memory usage: 83.6+ KB\n"
          ],
          "name": "stdout"
        }
      ]
    },
    {
      "cell_type": "markdown",
      "metadata": {
        "id": "K_45AGdzCpmB",
        "colab_type": "text"
      },
      "source": [
        "The variables \"Sex\", \"Ticket\", \"Cabin\" and \"Embarked\" are categorical data, the remaining features are numerical. We will first look at the numerical variables in more detail and then at the categorical variables. \n",
        "\n",
        "In order to see which variables have an influence on the chance of survival, we will also investigate the relation between each variable and the Target Variable \"Survived\"."
      ]
    },
    {
      "cell_type": "markdown",
      "metadata": {
        "id": "m0u6ONL_CpmC",
        "colab_type": "text"
      },
      "source": [
        "### Numerical Features"
      ]
    },
    {
      "cell_type": "markdown",
      "metadata": {
        "id": "d0Tq534SCpmD",
        "colab_type": "text"
      },
      "source": [
        "#### Survived"
      ]
    },
    {
      "cell_type": "markdown",
      "metadata": {
        "id": "2M3F6ObuCpmE",
        "colab_type": "text"
      },
      "source": [
        "We start with the target variable, indicating if a passenger has survived the sinking of the Titanic."
      ]
    },
    {
      "cell_type": "code",
      "metadata": {
        "id": "a5AMmYQhCpmF",
        "colab_type": "code",
        "colab": {
          "base_uri": "https://localhost:8080/",
          "height": 300
        },
        "outputId": "5f9adf8e-e955-4008-be76-e1f83f5bbb23"
      },
      "source": [
        "np.mean(train.Survived), sns.countplot(data=train, x=\"Survived\")"
      ],
      "execution_count": 9,
      "outputs": [
        {
          "output_type": "execute_result",
          "data": {
            "text/plain": [
              "(0.3838383838383838, <matplotlib.axes._subplots.AxesSubplot at 0x7f83e5f6dcc0>)"
            ]
          },
          "metadata": {
            "tags": []
          },
          "execution_count": 9
        },
        {
          "output_type": "display_data",
          "data": {
            "image/png": "[encoded data removed]",
            "text/plain": [
              "<Figure size 432x288 with 1 Axes>"
            ]
          },
          "metadata": {
            "tags": []
          }
        }
      ]
    },
    {
      "cell_type": "markdown",
      "metadata": {
        "id": "5GhT1vzaCpmI",
        "colab_type": "text"
      },
      "source": [
        "Around 38,3% survived the Titanic."
      ]
    },
    {
      "cell_type": "markdown",
      "metadata": {
        "id": "vyTBgvSpCpmJ",
        "colab_type": "text"
      },
      "source": [
        "#### Pclass"
      ]
    },
    {
      "cell_type": "code",
      "metadata": {
        "id": "JlcdiJJlCpmK",
        "colab_type": "code",
        "colab": {
          "base_uri": "https://localhost:8080/",
          "height": 85
        },
        "outputId": "48d13018-8daf-4a5a-9760-65bfc53dc89c"
      },
      "source": [
        "train.Pclass.value_counts()"
      ],
      "execution_count": 10,
      "outputs": [
        {
          "output_type": "execute_result",
          "data": {
            "text/plain": [
              "3    491\n",
              "1    216\n",
              "2    184\n",
              "Name: Pclass, dtype: int64"
            ]
          },
          "metadata": {
            "tags": []
          },
          "execution_count": 10
        }
      ]
    },
    {
      "cell_type": "markdown",
      "metadata": {
        "id": "FMA77aFdCpmO",
        "colab_type": "text"
      },
      "source": [
        "Pclass is short for Passenger Class and gives the class to which the passenger belong. 1 is the most expensive class, 3 the cheapest one. As expected most passengers belong to class 3, while class 1 contains the least passengers."
      ]
    },
    {
      "cell_type": "code",
      "metadata": {
        "id": "GdpmJHEvCpmP",
        "colab_type": "code",
        "colab": {
          "base_uri": "https://localhost:8080/",
          "height": 300
        },
        "outputId": "22b00b9e-80ed-4eb0-a6f4-f8bb9c1eb3e1"
      },
      "source": [
        "sns.countplot(data=train, x=\"Pclass\", hue=\"Survived\")"
      ],
      "execution_count": 11,
      "outputs": [
        {
          "output_type": "execute_result",
          "data": {
            "text/plain": [
              "<matplotlib.axes._subplots.AxesSubplot at 0x7f83e5f1ca90>"
            ]
          },
          "metadata": {
            "tags": []
          },
          "execution_count": 11
        },
        {
          "output_type": "display_data",
          "data": {
            "image/png": "[encoded data removed]",
            "text/plain": [
              "<Figure size 432x288 with 1 Axes>"
            ]
          },
          "metadata": {
            "tags": []
          }
        }
      ]
    },
    {
      "cell_type": "code",
      "metadata": {
        "id": "BPrJaR37CpmT",
        "colab_type": "code",
        "colab": {
          "base_uri": "https://localhost:8080/",
          "height": 68
        },
        "outputId": "2fcabdc1-0150-4694-edbf-284cb76e376e"
      },
      "source": [
        "for i in [1,2,3]:\n",
        "    print(np.mean(train.Survived[train[\"Pclass\"]==i]))"
      ],
      "execution_count": 12,
      "outputs": [
        {
          "output_type": "stream",
          "text": [
            "0.6296296296296297\n",
            "0.47282608695652173\n",
            "0.24236252545824846\n"
          ],
          "name": "stdout"
        }
      ]
    },
    {
      "cell_type": "markdown",
      "metadata": {
        "id": "lq8C00XZCpmZ",
        "colab_type": "text"
      },
      "source": [
        "The fraction of passengers, which have survived is 63.0% for the first class, 47.3% for the second class and only 24.2% for the third class. The fraction of people surviving is therefore above the fraction of all people surviving the catastrophe for the first and second class and way below the mean for the third class. We can already see here that the class does play a very important role in surviving and that in the first class almost 2 out of 3 passengers survived."
      ]
    },
    {
      "cell_type": "markdown",
      "metadata": {
        "id": "dAtBLjLRCpma",
        "colab_type": "text"
      },
      "source": [
        "#### Age"
      ]
    },
    {
      "cell_type": "markdown",
      "metadata": {
        "id": "UKpyzpZoCpmc",
        "colab_type": "text"
      },
      "source": [
        "Since age is a continuous variable we can picture its distribution using a histogram and a kernel density estimator."
      ]
    },
    {
      "cell_type": "code",
      "metadata": {
        "id": "JWpTR51nCpmd",
        "colab_type": "code",
        "colab": {
          "base_uri": "https://localhost:8080/",
          "height": 558
        },
        "outputId": "7f39133a-bfae-4836-c416-83cbfe6f8c3e"
      },
      "source": [
        "sns.distplot(train[\"Age\"])"
      ],
      "execution_count": 13,
      "outputs": [
        {
          "output_type": "error",
          "ename": "ValueError",
          "evalue": "ignored",
          "traceback": [
            "\u001b[0;31m---------------------------------------------------------------------------\u001b[0m",
            "\u001b[0;31mValueError\u001b[0m                                Traceback (most recent call last)",
            "\u001b[0;32m<ipython-input-13-e6fe43bf3c3c>\u001b[0m in \u001b[0;36m<module>\u001b[0;34m()\u001b[0m\n\u001b[0;32m----> 1\u001b[0;31m \u001b[0msns\u001b[0m\u001b[0;34m.\u001b[0m\u001b[0mdistplot\u001b[0m\u001b[0;34m(\u001b[0m\u001b[0mtrain\u001b[0m\u001b[0;34m[\u001b[0m\u001b[0;34m\"Age\"\u001b[0m\u001b[0;34m]\u001b[0m\u001b[0;34m)\u001b[0m\u001b[0;34m\u001b[0m\u001b[0;34m\u001b[0m\u001b[0m\n\u001b[0m",
            "\u001b[0;32m/usr/local/lib/python3.6/dist-packages/seaborn/distributions.py\u001b[0m in \u001b[0;36mdistplot\u001b[0;34m(a, bins, hist, kde, rug, fit, hist_kws, kde_kws, rug_kws, fit_kws, color, vertical, norm_hist, axlabel, label, ax)\u001b[0m\n\u001b[1;32m    213\u001b[0m     \u001b[0;32mif\u001b[0m \u001b[0mhist\u001b[0m\u001b[0;34m:\u001b[0m\u001b[0;34m\u001b[0m\u001b[0;34m\u001b[0m\u001b[0m\n\u001b[1;32m    214\u001b[0m         \u001b[0;32mif\u001b[0m \u001b[0mbins\u001b[0m \u001b[0;32mis\u001b[0m \u001b[0;32mNone\u001b[0m\u001b[0;34m:\u001b[0m\u001b[0;34m\u001b[0m\u001b[0;34m\u001b[0m\u001b[0m\n\u001b[0;32m--> 215\u001b[0;31m             \u001b[0mbins\u001b[0m \u001b[0;34m=\u001b[0m \u001b[0mmin\u001b[0m\u001b[0;34m(\u001b[0m\u001b[0m_freedman_diaconis_bins\u001b[0m\u001b[0;34m(\u001b[0m\u001b[0ma\u001b[0m\u001b[0;34m)\u001b[0m\u001b[0;34m,\u001b[0m \u001b[0;36m50\u001b[0m\u001b[0;34m)\u001b[0m\u001b[0;34m\u001b[0m\u001b[0;34m\u001b[0m\u001b[0m\n\u001b[0m\u001b[1;32m    216\u001b[0m         \u001b[0mhist_kws\u001b[0m\u001b[0;34m.\u001b[0m\u001b[0msetdefault\u001b[0m\u001b[0;34m(\u001b[0m\u001b[0;34m\"alpha\"\u001b[0m\u001b[0;34m,\u001b[0m \u001b[0;36m0.4\u001b[0m\u001b[0;34m)\u001b[0m\u001b[0;34m\u001b[0m\u001b[0;34m\u001b[0m\u001b[0m\n\u001b[1;32m    217\u001b[0m         \u001b[0;32mif\u001b[0m \u001b[0mLooseVersion\u001b[0m\u001b[0;34m(\u001b[0m\u001b[0mmpl\u001b[0m\u001b[0;34m.\u001b[0m\u001b[0m__version__\u001b[0m\u001b[0;34m)\u001b[0m \u001b[0;34m<\u001b[0m \u001b[0mLooseVersion\u001b[0m\u001b[0;34m(\u001b[0m\u001b[0;34m\"2.2\"\u001b[0m\u001b[0;34m)\u001b[0m\u001b[0;34m:\u001b[0m\u001b[0;34m\u001b[0m\u001b[0;34m\u001b[0m\u001b[0m\n",
            "\u001b[0;32m/usr/local/lib/python3.6/dist-packages/seaborn/distributions.py\u001b[0m in \u001b[0;36m_freedman_diaconis_bins\u001b[0;34m(a)\u001b[0m\n\u001b[1;32m     37\u001b[0m         \u001b[0;32mreturn\u001b[0m \u001b[0mint\u001b[0m\u001b[0;34m(\u001b[0m\u001b[0mnp\u001b[0m\u001b[0;34m.\u001b[0m\u001b[0msqrt\u001b[0m\u001b[0;34m(\u001b[0m\u001b[0ma\u001b[0m\u001b[0;34m.\u001b[0m\u001b[0msize\u001b[0m\u001b[0;34m)\u001b[0m\u001b[0;34m)\u001b[0m\u001b[0;34m\u001b[0m\u001b[0;34m\u001b[0m\u001b[0m\n\u001b[1;32m     38\u001b[0m     \u001b[0;32melse\u001b[0m\u001b[0;34m:\u001b[0m\u001b[0;34m\u001b[0m\u001b[0;34m\u001b[0m\u001b[0m\n\u001b[0;32m---> 39\u001b[0;31m         \u001b[0;32mreturn\u001b[0m \u001b[0mint\u001b[0m\u001b[0;34m(\u001b[0m\u001b[0mnp\u001b[0m\u001b[0;34m.\u001b[0m\u001b[0mceil\u001b[0m\u001b[0;34m(\u001b[0m\u001b[0;34m(\u001b[0m\u001b[0ma\u001b[0m\u001b[0;34m.\u001b[0m\u001b[0mmax\u001b[0m\u001b[0;34m(\u001b[0m\u001b[0;34m)\u001b[0m \u001b[0;34m-\u001b[0m \u001b[0ma\u001b[0m\u001b[0;34m.\u001b[0m\u001b[0mmin\u001b[0m\u001b[0;34m(\u001b[0m\u001b[0;34m)\u001b[0m\u001b[0;34m)\u001b[0m \u001b[0;34m/\u001b[0m \u001b[0mh\u001b[0m\u001b[0;34m)\u001b[0m\u001b[0;34m)\u001b[0m\u001b[0;34m\u001b[0m\u001b[0;34m\u001b[0m\u001b[0m\n\u001b[0m\u001b[1;32m     40\u001b[0m \u001b[0;34m\u001b[0m\u001b[0m\n\u001b[1;32m     41\u001b[0m \u001b[0;34m\u001b[0m\u001b[0m\n",
            "\u001b[0;31mValueError\u001b[0m: cannot convert float NaN to integer"
          ]
        },
        {
          "output_type": "display_data",
          "data": {
            "image/png": "[encoded data removed]",
            "text/plain": [
              "<Figure size 432x288 with 1 Axes>"
            ]
          },
          "metadata": {
            "tags": []
          }
        }
      ]
    },
    {
      "cell_type": "markdown",
      "metadata": {
        "id": "-jAgDC1OCpmi",
        "colab_type": "text"
      },
      "source": [
        "Running the above code yields an error since there are missing values for Age in the training dataset. Therefore, we first have to fix this issue."
      ]
    },
    {
      "cell_type": "code",
      "metadata": {
        "id": "GZtsxFj0Cpmj",
        "colab_type": "code",
        "colab": {
          "base_uri": "https://localhost:8080/",
          "height": 34
        },
        "outputId": "ab1a7855-d7cd-4999-d14f-cff80009d115"
      },
      "source": [
        "train.Age.isnull().sum()"
      ],
      "execution_count": 14,
      "outputs": [
        {
          "output_type": "execute_result",
          "data": {
            "text/plain": [
              "177"
            ]
          },
          "metadata": {
            "tags": []
          },
          "execution_count": 14
        }
      ]
    },
    {
      "cell_type": "code",
      "metadata": {
        "id": "GsBGzCq-Cpmo",
        "colab_type": "code",
        "colab": {
          "base_uri": "https://localhost:8080/",
          "height": 34
        },
        "outputId": "c3003e5b-15fb-478e-b892-aa8d6ca0a1ab"
      },
      "source": [
        "agemean1, agemean2, agemean3 = train[\"Age\"].groupby([train[\"Pclass\"]]).mean()\n",
        "agemean1, agemean2, agemean3"
      ],
      "execution_count": 15,
      "outputs": [
        {
          "output_type": "execute_result",
          "data": {
            "text/plain": [
              "(38.233440860215055, 29.87763005780347, 25.14061971830986)"
            ]
          },
          "metadata": {
            "tags": []
          },
          "execution_count": 15
        }
      ]
    },
    {
      "cell_type": "markdown",
      "metadata": {
        "id": "ApwdEzJHCpms",
        "colab_type": "text"
      },
      "source": [
        "There are 177 missing values for the Age. We compute the mean in each class and will use these means to impute the missing values in the training dataset."
      ]
    },
    {
      "cell_type": "code",
      "metadata": {
        "id": "WQKzauvJCpmt",
        "colab_type": "code",
        "colab": {
          "base_uri": "https://localhost:8080/",
          "height": 34
        },
        "outputId": "ef939f83-f84e-48ab-c20f-d09d707c090a"
      },
      "source": [
        "miss_age = np.isnan(train[\"Age\"])\n",
        "class_1 = train[\"Pclass\"] == 1\n",
        "class_2 = train[\"Pclass\"] == 2\n",
        "class_3 = train[\"Pclass\"] == 3\n",
        "train.loc[class_1, \"Age\"] = train.loc[class_1, \"Age\"].fillna(agemean1)\n",
        "train.loc[class_2, \"Age\"] = train.loc[class_2, \"Age\"].fillna(agemean2)\n",
        "train.loc[class_3, \"Age\"] = train.loc[class_3, \"Age\"].fillna(agemean3)\n",
        "train.Age.isnull().sum()"
      ],
      "execution_count": 16,
      "outputs": [
        {
          "output_type": "execute_result",
          "data": {
            "text/plain": [
              "0"
            ]
          },
          "metadata": {
            "tags": []
          },
          "execution_count": 16
        }
      ]
    },
    {
      "cell_type": "code",
      "metadata": {
        "id": "7UBYzjGtCpmw",
        "colab_type": "code",
        "colab": {
          "base_uri": "https://localhost:8080/",
          "height": 34
        },
        "outputId": "5d001072-9fa7-46e4-c6a1-55c636550a5f"
      },
      "source": [
        "test.Age.isnull().sum()"
      ],
      "execution_count": 17,
      "outputs": [
        {
          "output_type": "execute_result",
          "data": {
            "text/plain": [
              "86"
            ]
          },
          "metadata": {
            "tags": []
          },
          "execution_count": 17
        }
      ]
    },
    {
      "cell_type": "markdown",
      "metadata": {
        "id": "I7sBEIlmCpm0",
        "colab_type": "text"
      },
      "source": [
        "We see that there are also missing values for age in the test data set, therefore we do the same thing for the test dataset."
      ]
    },
    {
      "cell_type": "code",
      "metadata": {
        "id": "veXz8c3VCpm0",
        "colab_type": "code",
        "colab": {
          "base_uri": "https://localhost:8080/",
          "height": 34
        },
        "outputId": "4d26bf55-0c2c-448e-835c-fe584215484a"
      },
      "source": [
        "agemean_1_test, agemean_2_test, agemean_3_test = test[\"Age\"].groupby([test[\"Pclass\"]]).mean()\n",
        "agemean_1_test, agemean_2_test, agemean_3_test"
      ],
      "execution_count": 18,
      "outputs": [
        {
          "output_type": "execute_result",
          "data": {
            "text/plain": [
              "(40.91836734693877, 28.7775, 24.02794520547945)"
            ]
          },
          "metadata": {
            "tags": []
          },
          "execution_count": 18
        }
      ]
    },
    {
      "cell_type": "code",
      "metadata": {
        "id": "TBWTGhq6Cpm6",
        "colab_type": "code",
        "colab": {
          "base_uri": "https://localhost:8080/",
          "height": 34
        },
        "outputId": "57f8d005-3fa6-4304-d56d-cd2b09f46d12"
      },
      "source": [
        "miss_age_test = np.isnan(test[\"Age\"])\n",
        "class_1_test = test[\"Pclass\"] == 1\n",
        "class_2_test = test[\"Pclass\"] == 2\n",
        "class_3_test = test[\"Pclass\"] == 3\n",
        "test.loc[class_1_test, \"Age\"] = test.loc[class_1_test, \"Age\"].fillna(agemean_1_test)\n",
        "test.loc[class_2_test, \"Age\"] = test.loc[class_2_test, \"Age\"].fillna(agemean_2_test)\n",
        "test.loc[class_3_test, \"Age\"] = test.loc[class_3_test, \"Age\"].fillna(agemean_3_test)\n",
        "test.Age.isnull().sum()"
      ],
      "execution_count": 19,
      "outputs": [
        {
          "output_type": "execute_result",
          "data": {
            "text/plain": [
              "0"
            ]
          },
          "metadata": {
            "tags": []
          },
          "execution_count": 19
        }
      ]
    },
    {
      "cell_type": "markdown",
      "metadata": {
        "id": "Yg2dRURfCpnA",
        "colab_type": "text"
      },
      "source": [
        "Now we can again run the above code and plot the histogram."
      ]
    },
    {
      "cell_type": "code",
      "metadata": {
        "id": "RQ-SZQb0CpnA",
        "colab_type": "code",
        "colab": {
          "base_uri": "https://localhost:8080/",
          "height": 300
        },
        "outputId": "0b32fe64-ec1c-4a74-ef23-4c7999dbdea8"
      },
      "source": [
        "sns.distplot(train[\"Age\"])"
      ],
      "execution_count": 20,
      "outputs": [
        {
          "output_type": "execute_result",
          "data": {
            "text/plain": [
              "<matplotlib.axes._subplots.AxesSubplot at 0x7f83e33e0fd0>"
            ]
          },
          "metadata": {
            "tags": []
          },
          "execution_count": 20
        },
        {
          "output_type": "display_data",
          "data": {
            "image/png": "[encoded data removed]",
            "text/plain": [
              "<Figure size 432x288 with 1 Axes>"
            ]
          },
          "metadata": {
            "tags": []
          }
        }
      ]
    },
    {
      "cell_type": "markdown",
      "metadata": {
        "id": "6Soan64ICpnF",
        "colab_type": "text"
      },
      "source": [
        "We can also plot the distribution of age by survival."
      ]
    },
    {
      "cell_type": "code",
      "metadata": {
        "id": "7vOjLCiSCpnF",
        "colab_type": "code",
        "colab": {
          "base_uri": "https://localhost:8080/",
          "height": 242
        },
        "outputId": "7cabcaef-35b5-41ee-e887-19c842a61c72"
      },
      "source": [
        "grid = sns.FacetGrid(data=train, col=\"Survived\")\n",
        "grid.map(sns.distplot, \"Age\")"
      ],
      "execution_count": 21,
      "outputs": [
        {
          "output_type": "execute_result",
          "data": {
            "text/plain": [
              "<seaborn.axisgrid.FacetGrid at 0x7f83e339b3c8>"
            ]
          },
          "metadata": {
            "tags": []
          },
          "execution_count": 21
        },
        {
          "output_type": "display_data",
          "data": {
            "image/png": "[encoded data removed]",
            "text/plain": [
              "<Figure size 432x216 with 2 Axes>"
            ]
          },
          "metadata": {
            "tags": []
          }
        }
      ]
    },
    {
      "cell_type": "markdown",
      "metadata": {
        "id": "zTcHiePDCpnK",
        "colab_type": "text"
      },
      "source": [
        "#### SibSp"
      ]
    },
    {
      "cell_type": "code",
      "metadata": {
        "id": "XltBq5lXCpnK",
        "colab_type": "code",
        "colab": {
          "base_uri": "https://localhost:8080/",
          "height": 153
        },
        "outputId": "9c14212e-84b4-4ea8-bceb-d85fdf5af023"
      },
      "source": [
        "train.SibSp.value_counts()"
      ],
      "execution_count": 22,
      "outputs": [
        {
          "output_type": "execute_result",
          "data": {
            "text/plain": [
              "0    608\n",
              "1    209\n",
              "2     28\n",
              "4     18\n",
              "3     16\n",
              "8      7\n",
              "5      5\n",
              "Name: SibSp, dtype: int64"
            ]
          },
          "metadata": {
            "tags": []
          },
          "execution_count": 22
        }
      ]
    },
    {
      "cell_type": "markdown",
      "metadata": {
        "id": "GBxFSED2CpnR",
        "colab_type": "text"
      },
      "source": [
        "The variable SibSp contains information about the passenger having Siblings or Spouses aboart the titanic. Most people seem to be alone, or at least without any siblings or spouse. A large number of passengers do have 1 sibling or his/her spouse with them, those are probably mostly married couples. There also seem to be a few families."
      ]
    },
    {
      "cell_type": "markdown",
      "metadata": {
        "id": "IVTRcf-CCpnS",
        "colab_type": "text"
      },
      "source": [
        "#### Parch"
      ]
    },
    {
      "cell_type": "code",
      "metadata": {
        "id": "9uj3XYdECpnT",
        "colab_type": "code",
        "colab": {
          "base_uri": "https://localhost:8080/",
          "height": 153
        },
        "outputId": "dd2925af-3d58-4f0c-b246-f79a59b57166"
      },
      "source": [
        "train.Parch.value_counts()"
      ],
      "execution_count": 23,
      "outputs": [
        {
          "output_type": "execute_result",
          "data": {
            "text/plain": [
              "0    678\n",
              "1    118\n",
              "2     80\n",
              "5      5\n",
              "3      5\n",
              "4      4\n",
              "6      1\n",
              "Name: Parch, dtype: int64"
            ]
          },
          "metadata": {
            "tags": []
          },
          "execution_count": 23
        }
      ]
    },
    {
      "cell_type": "markdown",
      "metadata": {
        "id": "rUJiKunPCpnV",
        "colab_type": "text"
      },
      "source": [
        "Similar to the variable before, \"Parch\" states the number of the passenger's parents or children aboard the ship. It also indicates that most passengers are alone, however, there seem to be a few families."
      ]
    },
    {
      "cell_type": "markdown",
      "metadata": {
        "id": "Vm2QND2qCpnW",
        "colab_type": "text"
      },
      "source": [
        "#### Fare"
      ]
    },
    {
      "cell_type": "markdown",
      "metadata": {
        "id": "tnsZsV40CpnW",
        "colab_type": "text"
      },
      "source": [
        "First, we take a look at the mean fares in the respective classes."
      ]
    },
    {
      "cell_type": "code",
      "metadata": {
        "id": "umucF69vCpnX",
        "colab_type": "code",
        "colab": {
          "base_uri": "https://localhost:8080/",
          "height": 68
        },
        "outputId": "55f6b24f-6eb0-4d17-b872-f39cba3599d7"
      },
      "source": [
        "for i in [1,2,3]:\n",
        "    print(np.mean(train.Fare[train[\"Pclass\"] == i]))"
      ],
      "execution_count": 24,
      "outputs": [
        {
          "output_type": "stream",
          "text": [
            "84.15468749999992\n",
            "20.66218315217391\n",
            "13.675550101832997\n"
          ],
          "name": "stdout"
        }
      ]
    },
    {
      "cell_type": "markdown",
      "metadata": {
        "id": "v5q4jhU3Cpnc",
        "colab_type": "text"
      },
      "source": [
        "As expected there is a drastic decline in the fare from the first to the third class. Let's see next if there is a systematic difference between the fare of male and female passengers."
      ]
    },
    {
      "cell_type": "code",
      "metadata": {
        "id": "lBl_kiKLCpnc",
        "colab_type": "code",
        "colab": {
          "base_uri": "https://localhost:8080/",
          "height": 221
        },
        "outputId": "39400c18-261d-4f20-d0cf-b2dd3945b831"
      },
      "source": [
        "for i in [1,2,3]:\n",
        "    print(\"The Fare for female passengers in Class \" + str(i) + \" is: \" + str(np.mean(train[\"Fare\"].loc[(train[\"Pclass\"] == i) & (train[\"Sex\"] == \"female\")]))),\n",
        "    print(\"The Fare for male passengers in Class \" + str(i) + \" is: \" + str(np.mean(train[\"Fare\"].loc[(train[\"Pclass\"] == i) & (train[\"Sex\"] == \"male\")])))\n",
        "    print(\"\\n\")"
      ],
      "execution_count": 25,
      "outputs": [
        {
          "output_type": "stream",
          "text": [
            "The Fare for female passengers in Class 1 is: 106.12579787234041\n",
            "The Fare for male passengers in Class 1 is: 67.22612704918033\n",
            "\n",
            "\n",
            "The Fare for female passengers in Class 2 is: 21.97012105263158\n",
            "The Fare for male passengers in Class 2 is: 19.74178240740741\n",
            "\n",
            "\n",
            "The Fare for female passengers in Class 3 is: 16.118809722222224\n",
            "The Fare for male passengers in Class 3 is: 12.661632564841513\n",
            "\n",
            "\n"
          ],
          "name": "stdout"
        }
      ]
    },
    {
      "cell_type": "markdown",
      "metadata": {
        "id": "e_8KSZlRCpni",
        "colab_type": "text"
      },
      "source": [
        "The Fare seems to be higher for female passengers than for male passengers and this is also consistent over all classes."
      ]
    },
    {
      "cell_type": "code",
      "metadata": {
        "id": "1e-Krf8ZCpnj",
        "colab_type": "code",
        "colab": {
          "base_uri": "https://localhost:8080/",
          "height": 68
        },
        "outputId": "dd87f302-6c14-4f99-946c-b899e6d73770"
      },
      "source": [
        "for harb in [\"C\", \"S\", \"Q\"]:\n",
        "    print(\"Mean fare for passengers embarked in \" + str(harb) + \": \" + str(np.mean(train.Fare[train[\"Embarked\"] == harb])))"
      ],
      "execution_count": 26,
      "outputs": [
        {
          "output_type": "stream",
          "text": [
            "Mean fare for passengers embarked in C: 59.95414404761905\n",
            "Mean fare for passengers embarked in S: 27.07981180124218\n",
            "Mean fare for passengers embarked in Q: 13.276029870129872\n"
          ],
          "name": "stdout"
        }
      ]
    },
    {
      "cell_type": "markdown",
      "metadata": {
        "id": "TB695BqOCpnm",
        "colab_type": "text"
      },
      "source": [
        "Furthermore, the mean fare is the highest for people from Cherbourg and the lowest from passengers from Queenstown. An explanation for this is given further below (section Categorical Features -> Embarked). \n",
        "Queenstown, Southhampton"
      ]
    },
    {
      "cell_type": "code",
      "metadata": {
        "id": "6_Q9gMb6Cpnm",
        "colab_type": "code",
        "colab": {
          "base_uri": "https://localhost:8080/",
          "height": 272
        },
        "outputId": "d2a946c7-689f-4de7-b47a-96bb985d4c94"
      },
      "source": [
        "for harb in [\"C\", \"S\", \"Q\"]:\n",
        "    print(\"Mean fare for 1st class passengers embarked in \" + str(harb) + \": \" + str(np.mean(train[\"Fare\"].loc[(train[\"Embarked\"] == harb) & (train[\"Pclass\"] == 1)])))\n",
        "    print(\"Mean fare for 2nd class passengers embarked in \" + str(harb) + \": \" + str(np.mean(train[\"Fare\"].loc[(train[\"Embarked\"] == harb) & (train[\"Pclass\"] == 2)])))\n",
        "    print(\"Mean fare for 3rd class passengers embarked in \" + str(harb) + \": \" + str(np.mean(train[\"Fare\"].loc[(train[\"Embarked\"] == harb) & (train[\"Pclass\"] == 3)])))\n",
        "    print(\"\\n\")"
      ],
      "execution_count": 27,
      "outputs": [
        {
          "output_type": "stream",
          "text": [
            "Mean fare for 1st class passengers embarked in C: 104.71852941176469\n",
            "Mean fare for 2nd class passengers embarked in C: 25.358335294117644\n",
            "Mean fare for 3rd class passengers embarked in C: 11.214083333333337\n",
            "\n",
            "\n",
            "Mean fare for 1st class passengers embarked in S: 70.36486220472443\n",
            "Mean fare for 2nd class passengers embarked in S: 20.327439024390245\n",
            "Mean fare for 3rd class passengers embarked in S: 14.64408300283288\n",
            "\n",
            "\n",
            "Mean fare for 1st class passengers embarked in Q: 90.0\n",
            "Mean fare for 2nd class passengers embarked in Q: 12.35\n",
            "Mean fare for 3rd class passengers embarked in Q: 11.183393055555557\n",
            "\n",
            "\n"
          ],
          "name": "stdout"
        }
      ]
    },
    {
      "cell_type": "markdown",
      "metadata": {
        "id": "peYgv0GkCpnr",
        "colab_type": "text"
      },
      "source": [
        "We cann see that in addition to the different prices in the respective classes there was some price differentiation between the different harbours with Cherbourg being the most expensive one."
      ]
    },
    {
      "cell_type": "markdown",
      "metadata": {
        "id": "YYjqOW2qCpnr",
        "colab_type": "text"
      },
      "source": [
        "Comments on the relationship of Fares and the chance of Survival are made in the next section."
      ]
    },
    {
      "cell_type": "markdown",
      "metadata": {
        "id": "GVf6zDZKCpns",
        "colab_type": "text"
      },
      "source": [
        "#### Correlation between variables"
      ]
    },
    {
      "cell_type": "code",
      "metadata": {
        "id": "T004seA2Cpns",
        "colab_type": "code",
        "colab": {
          "base_uri": "https://localhost:8080/",
          "height": 486
        },
        "outputId": "c726957e-092b-47bf-847b-5fe21f76b810"
      },
      "source": [
        "corr_mat = train.drop(\"PassengerId\", axis=1).corr()\n",
        "sns.heatmap(corr_mat, annot=True)\n",
        "fig = plt.gcf()\n",
        "fig.set_size_inches(10,8)"
      ],
      "execution_count": 28,
      "outputs": [
        {
          "output_type": "display_data",
          "data": {
            "image/png": "[encoded data removed]",
            "text/plain": [
              "<Figure size 720x576 with 2 Axes>"
            ]
          },
          "metadata": {
            "tags": []
          }
        }
      ]
    },
    {
      "cell_type": "markdown",
      "metadata": {
        "id": "mAPpZWtDCpnv",
        "colab_type": "text"
      },
      "source": [
        "The above heatmap shows the correlation between all numerical variables including our Target Variable \"Survived\". A correlation of 1 means a very strong linear relationship, a correlation coefficient of -1 means a very strong negative linear relationship between variables. A correlation of 0 means that the variables do not have a linear relationship at all.\n",
        "\n",
        "We can learn from the heatmap that there is a pretty strong negative correlation of -0.55 between the class and the fare, which makes sense since tickets for the first and second class are more expensive than for the third class. Furthermore, there seems to be a negative relationship between the class and the chance of survival indicated by the correlation coefficient of -0.34. We have also seen this in the barplots created above. The correlation between the Fare and Survived is pretty strong as well (0.26), which probably stems from the fact that higher fares coincide with a lower (i.e. \"better\") class. \n",
        "The high correlation between SibSp and Parch of 0.41 lets us assume that there may be some families aboard.\n",
        "\n",
        "If there would be very high correlation between some variables, this specific variable would not contain much new information in addition to the correlated feature. This can cause our estimator to be less precise and is known as multicollinearity. The easiest and most appropriate solution would be just to drop one of the features or combining them in some way if possible. Since the highest correlation (in absolute values) is -0.55 multicollinearity is not a problem for our data and thus we can keep all of the features."
      ]
    },
    {
      "cell_type": "markdown",
      "metadata": {
        "id": "XLImvdhPCpnw",
        "colab_type": "text"
      },
      "source": [
        "### Categorical Features"
      ]
    },
    {
      "cell_type": "markdown",
      "metadata": {
        "id": "6uJhORJPCpny",
        "colab_type": "text"
      },
      "source": [
        "#### Sex "
      ]
    },
    {
      "cell_type": "code",
      "metadata": {
        "id": "dQZ_OR-9Cpn1",
        "colab_type": "code",
        "colab": {
          "base_uri": "https://localhost:8080/",
          "height": 351
        },
        "outputId": "dfe32615-9eed-4cdc-e40d-0b177d80ecf3"
      },
      "source": [
        "train.Sex.value_counts(), sns.countplot(data=train, x=\"Sex\", hue=\"Survived\")"
      ],
      "execution_count": 29,
      "outputs": [
        {
          "output_type": "execute_result",
          "data": {
            "text/plain": [
              "(male      577\n",
              " female    314\n",
              " Name: Sex, dtype: int64,\n",
              " <matplotlib.axes._subplots.AxesSubplot at 0x7f83e31eecf8>)"
            ]
          },
          "metadata": {
            "tags": []
          },
          "execution_count": 29
        },
        {
          "output_type": "display_data",
          "data": {
            "image/png": "[encoded data removed]",
            "text/plain": [
              "<Figure size 432x288 with 1 Axes>"
            ]
          },
          "metadata": {
            "tags": []
          }
        }
      ]
    },
    {
      "cell_type": "code",
      "metadata": {
        "id": "eiYcd0jjCpn7",
        "colab_type": "code",
        "colab": {
          "base_uri": "https://localhost:8080/",
          "height": 51
        },
        "outputId": "731603e8-2750-4ca4-e711-3c79ea5ef664"
      },
      "source": [
        "print(np.mean(train.Survived[train[\"Sex\"]==\"male\"]))\n",
        "print(np.mean(train.Survived[train[\"Sex\"]==\"female\"]))"
      ],
      "execution_count": 30,
      "outputs": [
        {
          "output_type": "stream",
          "text": [
            "0.18890814558058924\n",
            "0.7420382165605095\n"
          ],
          "name": "stdout"
        }
      ]
    },
    {
      "cell_type": "markdown",
      "metadata": {
        "id": "pY205K2TCpn_",
        "colab_type": "text"
      },
      "source": [
        "We can see that the number of females that survived is a lot higher than the number of males surviving although the there are much more men on the Titanic than women (577 vs. 314). This is also reflected in the fraction of men and women who survived. While only 18.9% of the male passengers survived, over 74% of the female passengers survived the sinking.\n",
        "\n",
        "Let's take a look if this pattern is consistent through all classes."
      ]
    },
    {
      "cell_type": "code",
      "metadata": {
        "id": "pwJ80Y3_CpoA",
        "colab_type": "code",
        "colab": {
          "base_uri": "https://localhost:8080/",
          "height": 300
        },
        "outputId": "05095dab-8c55-4ff1-b91f-787d382e026b"
      },
      "source": [
        "sns.barplot(data=train, x='Pclass', y='Survived', hue='Sex')"
      ],
      "execution_count": 31,
      "outputs": [
        {
          "output_type": "execute_result",
          "data": {
            "text/plain": [
              "<matplotlib.axes._subplots.AxesSubplot at 0x7f83e1e2dcc0>"
            ]
          },
          "metadata": {
            "tags": []
          },
          "execution_count": 31
        },
        {
          "output_type": "display_data",
          "data": {
            "image/png": "[encoded data removed]",
            "text/plain": [
              "<Figure size 432x288 with 1 Axes>"
            ]
          },
          "metadata": {
            "tags": []
          }
        }
      ]
    },
    {
      "cell_type": "markdown",
      "metadata": {
        "id": "16ifp2aUCpoE",
        "colab_type": "text"
      },
      "source": [
        "We have qualitatively the same picture for each class, although the survival rates are higher in the more expensive classes in general."
      ]
    },
    {
      "cell_type": "markdown",
      "metadata": {
        "id": "tMqdUtMVCpoE",
        "colab_type": "text"
      },
      "source": [
        "#### Cabin"
      ]
    },
    {
      "cell_type": "code",
      "metadata": {
        "scrolled": true,
        "id": "4z4n1FpyCpoG",
        "colab_type": "code",
        "colab": {
          "base_uri": "https://localhost:8080/",
          "height": 1071
        },
        "outputId": "2f4d7ae0-991f-42a3-fa26-58bfc8568af2"
      },
      "source": [
        "train.Cabin.value_counts()"
      ],
      "execution_count": 32,
      "outputs": [
        {
          "output_type": "execute_result",
          "data": {
            "text/plain": [
              "C23 C25 C27        4\n",
              "B96 B98            4\n",
              "G6                 4\n",
              "C22 C26            3\n",
              "E101               3\n",
              "F2                 3\n",
              "F33                3\n",
              "D                  3\n",
              "C65                2\n",
              "B20                2\n",
              "B5                 2\n",
              "C78                2\n",
              "B58 B60            2\n",
              "E67                2\n",
              "C126               2\n",
              "B35                2\n",
              "D17                2\n",
              "F4                 2\n",
              "C2                 2\n",
              "B18                2\n",
              "D35                2\n",
              "D26                2\n",
              "C68                2\n",
              "B57 B59 B63 B66    2\n",
              "B49                2\n",
              "B22                2\n",
              "E121               2\n",
              "C52                2\n",
              "B51 B53 B55        2\n",
              "C123               2\n",
              "                  ..\n",
              "A32                1\n",
              "B37                1\n",
              "C54                1\n",
              "E46                1\n",
              "D46                1\n",
              "E38                1\n",
              "E10                1\n",
              "D15                1\n",
              "D37                1\n",
              "D47                1\n",
              "C106               1\n",
              "A16                1\n",
              "A23                1\n",
              "E49                1\n",
              "B4                 1\n",
              "D10 D12            1\n",
              "E40                1\n",
              "C87                1\n",
              "B3                 1\n",
              "B19                1\n",
              "D28                1\n",
              "D50                1\n",
              "D56                1\n",
              "B102               1\n",
              "C32                1\n",
              "C99                1\n",
              "E63                1\n",
              "D7                 1\n",
              "B71                1\n",
              "A7                 1\n",
              "Name: Cabin, Length: 147, dtype: int64"
            ]
          },
          "metadata": {
            "tags": []
          },
          "execution_count": 32
        }
      ]
    },
    {
      "cell_type": "code",
      "metadata": {
        "id": "YPB-MXBNCpoJ",
        "colab_type": "code",
        "colab": {
          "base_uri": "https://localhost:8080/",
          "height": 34
        },
        "outputId": "ebbe23f7-e127-4756-e8ea-aef06c59ee59"
      },
      "source": [
        "train.Cabin.isnull().sum()"
      ],
      "execution_count": 33,
      "outputs": [
        {
          "output_type": "execute_result",
          "data": {
            "text/plain": [
              "687"
            ]
          },
          "metadata": {
            "tags": []
          },
          "execution_count": 33
        }
      ]
    },
    {
      "cell_type": "markdown",
      "metadata": {
        "id": "aA__Cyb7CpoM",
        "colab_type": "text"
      },
      "source": [
        "Since there are mostly unique values and 687 missing values we will just drop the column completely."
      ]
    },
    {
      "cell_type": "code",
      "metadata": {
        "id": "ogAAWoqXCpoM",
        "colab_type": "code",
        "colab": {}
      },
      "source": [
        "train = train.drop(\"Cabin\", axis=1)\n",
        "test = test.drop(\"Cabin\", axis=1)"
      ],
      "execution_count": 0,
      "outputs": []
    },
    {
      "cell_type": "markdown",
      "metadata": {
        "id": "pdvGA4v_CpoS",
        "colab_type": "text"
      },
      "source": [
        "#### Ticket"
      ]
    },
    {
      "cell_type": "code",
      "metadata": {
        "scrolled": true,
        "id": "UKGYlo78CpoS",
        "colab_type": "code",
        "colab": {
          "base_uri": "https://localhost:8080/",
          "height": 1071
        },
        "outputId": "1b067e00-12c1-42a0-b10c-64ff021177cd"
      },
      "source": [
        "train[\"Ticket\"].value_counts"
      ],
      "execution_count": 35,
      "outputs": [
        {
          "output_type": "execute_result",
          "data": {
            "text/plain": [
              "<bound method IndexOpsMixin.value_counts of 0             A/5 21171\n",
              "1              PC 17599\n",
              "2      STON/O2. 3101282\n",
              "3                113803\n",
              "4                373450\n",
              "5                330877\n",
              "6                 17463\n",
              "7                349909\n",
              "8                347742\n",
              "9                237736\n",
              "10              PP 9549\n",
              "11               113783\n",
              "12            A/5. 2151\n",
              "13               347082\n",
              "14               350406\n",
              "15               248706\n",
              "16               382652\n",
              "17               244373\n",
              "18               345763\n",
              "19                 2649\n",
              "20               239865\n",
              "21               248698\n",
              "22               330923\n",
              "23               113788\n",
              "24               349909\n",
              "25               347077\n",
              "26                 2631\n",
              "27                19950\n",
              "28               330959\n",
              "29               349216\n",
              "             ...       \n",
              "861               28134\n",
              "862               17466\n",
              "863            CA. 2343\n",
              "864              233866\n",
              "865              236852\n",
              "866       SC/PARIS 2149\n",
              "867            PC 17590\n",
              "868              345777\n",
              "869              347742\n",
              "870              349248\n",
              "871               11751\n",
              "872                 695\n",
              "873              345765\n",
              "874           P/PP 3381\n",
              "875                2667\n",
              "876                7534\n",
              "877              349212\n",
              "878              349217\n",
              "879               11767\n",
              "880              230433\n",
              "881              349257\n",
              "882                7552\n",
              "883    C.A./SOTON 34068\n",
              "884     SOTON/OQ 392076\n",
              "885              382652\n",
              "886              211536\n",
              "887              112053\n",
              "888          W./C. 6607\n",
              "889              111369\n",
              "890              370376\n",
              "Name: Ticket, Length: 891, dtype: object>"
            ]
          },
          "metadata": {
            "tags": []
          },
          "execution_count": 35
        }
      ]
    },
    {
      "cell_type": "markdown",
      "metadata": {
        "id": "Qc-x8oQGCpoW",
        "colab_type": "text"
      },
      "source": [
        "The \"Ticket\" feature contains the Ticket number. These are mainly unique values, therefore not adding much explanatory power to our prediction model. Thus, we just drop this column as well."
      ]
    },
    {
      "cell_type": "code",
      "metadata": {
        "id": "UlqUxx_FCpoX",
        "colab_type": "code",
        "colab": {}
      },
      "source": [
        "train = train.drop(\"Ticket\", axis=1)\n",
        "test = test.drop(\"Ticket\", axis=1)"
      ],
      "execution_count": 0,
      "outputs": []
    },
    {
      "cell_type": "markdown",
      "metadata": {
        "id": "lYsOxfWACpoZ",
        "colab_type": "text"
      },
      "source": [
        "#### Embarked"
      ]
    },
    {
      "cell_type": "code",
      "metadata": {
        "id": "7yylfXt8Cpoa",
        "colab_type": "code",
        "colab": {
          "base_uri": "https://localhost:8080/",
          "height": 85
        },
        "outputId": "16e8ddf7-485e-4e10-b12b-0bcbf1e9862b"
      },
      "source": [
        "train.Embarked.value_counts()"
      ],
      "execution_count": 37,
      "outputs": [
        {
          "output_type": "execute_result",
          "data": {
            "text/plain": [
              "S    644\n",
              "C    168\n",
              "Q     77\n",
              "Name: Embarked, dtype: int64"
            ]
          },
          "metadata": {
            "tags": []
          },
          "execution_count": 37
        }
      ]
    },
    {
      "cell_type": "markdown",
      "metadata": {
        "id": "rEU_-ZnmCpod",
        "colab_type": "text"
      },
      "source": [
        "The categories of embarkment are C, Q and S which are the first letters of Cherbourg, Queenstown and Southhampton. Most passengers are embarked in Southhampton, the least frequent category is Queenstown."
      ]
    },
    {
      "cell_type": "code",
      "metadata": {
        "id": "2KfDMuhGCpoe",
        "colab_type": "code",
        "colab": {
          "base_uri": "https://localhost:8080/",
          "height": 300
        },
        "outputId": "00b6dbeb-8e1b-47a3-85c6-54ec642b379c"
      },
      "source": [
        "sns.barplot(data=train, x=\"Embarked\", y=\"Survived\", hue=\"Sex\")"
      ],
      "execution_count": 38,
      "outputs": [
        {
          "output_type": "execute_result",
          "data": {
            "text/plain": [
              "<matplotlib.axes._subplots.AxesSubplot at 0x7f83e1da2550>"
            ]
          },
          "metadata": {
            "tags": []
          },
          "execution_count": 38
        },
        {
          "output_type": "display_data",
          "data": {
            "image/png": "[encoded data removed]",
            "text/plain": [
              "<Figure size 432x288 with 1 Axes>"
            ]
          },
          "metadata": {
            "tags": []
          }
        }
      ]
    },
    {
      "cell_type": "markdown",
      "metadata": {
        "id": "YSKAnNwZCpoj",
        "colab_type": "text"
      },
      "source": [
        "Interestingly, the fraction of people who survived is higher for Cherbourg. The fraction of male survivors is much higher in Southhampton compared to Queenstown, while the fraction of female survivors is higher for Queenstown compared to Southhampton. The high survival rates for Cherbourg might be high due to the fact that first class passengers are mostly compared in Cherbourg, so we will further investigate that now. "
      ]
    },
    {
      "cell_type": "code",
      "metadata": {
        "id": "bBukSnHpCpoj",
        "colab_type": "code",
        "colab": {
          "base_uri": "https://localhost:8080/",
          "height": 276
        },
        "outputId": "6d4fce14-7041-4cfa-a636-d67b7ba94d63"
      },
      "source": [
        "grid = sns.FacetGrid(data=train, col=\"Embarked\")\n",
        "grid.map(sns.countplot, \"Pclass\")"
      ],
      "execution_count": 39,
      "outputs": [
        {
          "output_type": "stream",
          "text": [
            "/usr/local/lib/python3.6/dist-packages/seaborn/axisgrid.py:715: UserWarning: Using the countplot function without specifying `order` is likely to produce an incorrect plot.\n",
            "  warnings.warn(warning)\n"
          ],
          "name": "stderr"
        },
        {
          "output_type": "execute_result",
          "data": {
            "text/plain": [
              "<seaborn.axisgrid.FacetGrid at 0x7f83e1d70588>"
            ]
          },
          "metadata": {
            "tags": []
          },
          "execution_count": 39
        },
        {
          "output_type": "display_data",
          "data": {
            "image/png": "[encoded data removed]",
            "text/plain": [
              "<Figure size 648x216 with 3 Axes>"
            ]
          },
          "metadata": {
            "tags": []
          }
        }
      ]
    },
    {
      "cell_type": "markdown",
      "metadata": {
        "id": "Y_NKoRupCpon",
        "colab_type": "text"
      },
      "source": [
        "Cherbourg is the only category for which the number of first class passengers is the highest, which confirms the assumption from above. At the same time in Queenstown almost only third class passengers were embarked which explains the low survival rates for male passengers."
      ]
    },
    {
      "cell_type": "markdown",
      "metadata": {
        "id": "bdo79MdyCpoo",
        "colab_type": "text"
      },
      "source": [
        "## Feature Engineering"
      ]
    },
    {
      "cell_type": "code",
      "metadata": {
        "id": "7fBrEZJJCpou",
        "colab_type": "code",
        "colab": {
          "base_uri": "https://localhost:8080/",
          "height": 34
        },
        "outputId": "4e20d1f7-d206-4f5f-d4a6-8e18430d2af4"
      },
      "source": [
        "X = train.drop(\"Survived\", axis=1)\n",
        "y = train[\"Survived\"]\n",
        "X[\"train\"] = 1\n",
        "test[\"train\"] = 0\n",
        "data = pd.concat([X, test])\n",
        "X.shape, test.shape, data.shape"
      ],
      "execution_count": 40,
      "outputs": [
        {
          "output_type": "execute_result",
          "data": {
            "text/plain": [
              "((891, 10), (418, 10), (1309, 10))"
            ]
          },
          "metadata": {
            "tags": []
          },
          "execution_count": 40
        }
      ]
    },
    {
      "cell_type": "markdown",
      "metadata": {
        "id": "l3z5Qg-JCpox",
        "colab_type": "text"
      },
      "source": [
        "#### Age Band"
      ]
    },
    {
      "cell_type": "markdown",
      "metadata": {
        "id": "lWCqwYylCpox",
        "colab_type": "text"
      },
      "source": [
        "Since age is a continuous variable we first want to convert into a categorical variable containing age bands. "
      ]
    },
    {
      "cell_type": "code",
      "metadata": {
        "id": "YTfZQHfpCpoy",
        "colab_type": "code",
        "colab": {
          "base_uri": "https://localhost:8080/",
          "height": 170
        },
        "outputId": "5d811397-9381-4d70-b8b5-05476f409e4b"
      },
      "source": [
        "data.Age.describe()"
      ],
      "execution_count": 41,
      "outputs": [
        {
          "output_type": "execute_result",
          "data": {
            "text/plain": [
              "count    1309.000000\n",
              "mean       29.329730\n",
              "std        13.127747\n",
              "min         0.170000\n",
              "25%        22.000000\n",
              "50%        26.000000\n",
              "75%        37.000000\n",
              "max        80.000000\n",
              "Name: Age, dtype: float64"
            ]
          },
          "metadata": {
            "tags": []
          },
          "execution_count": 41
        }
      ]
    },
    {
      "cell_type": "markdown",
      "metadata": {
        "id": "SxFHY25eCpo1",
        "colab_type": "text"
      },
      "source": [
        "The lowest value for Age in our datasets is 0.17 years, the oldest passenger is 80 years old. We want to convert the age into 5 categories. In order to get balanced groups we will orientate our splitting at percentiles."
      ]
    },
    {
      "cell_type": "code",
      "metadata": {
        "id": "WLxdEAJSCpo1",
        "colab_type": "code",
        "colab": {
          "base_uri": "https://localhost:8080/",
          "height": 102
        },
        "outputId": "88835e27-1975-433c-d28b-0c65f600ecfb"
      },
      "source": [
        "data.Age.quantile([0.2, 0.4, 0.6, 0.8])"
      ],
      "execution_count": 42,
      "outputs": [
        {
          "output_type": "execute_result",
          "data": {
            "text/plain": [
              "0.2    21.00000\n",
              "0.4    25.14062\n",
              "0.6    29.87763\n",
              "0.8    39.00000\n",
              "Name: Age, dtype: float64"
            ]
          },
          "metadata": {
            "tags": []
          },
          "execution_count": 42
        }
      ]
    },
    {
      "cell_type": "code",
      "metadata": {
        "id": "Dy-UKlMUCpo3",
        "colab_type": "code",
        "colab": {}
      },
      "source": [
        "data[\"age_cat\"] = str(1)\n",
        "data.loc[data[\"Age\"] <= 21, \"age_cat\"] = str(1)\n",
        "data.loc[(data[\"Age\"] > 20) & (data[\"Age\"] <= 25), \"age_cat\"] = str(2)\n",
        "data.loc[(data[\"Age\"] > 25) & (data[\"Age\"] <= 30), \"age_cat\"] = str(3)\n",
        "data.loc[(data[\"Age\"] > 30) & (data[\"Age\"] <= 40), \"age_cat\"] = str(4)\n",
        "data.loc[data[\"Age\"] > 40, \"age_cat\"] = str(5)"
      ],
      "execution_count": 0,
      "outputs": []
    },
    {
      "cell_type": "code",
      "metadata": {
        "id": "cSDfm45jCpo5",
        "colab_type": "code",
        "colab": {
          "base_uri": "https://localhost:8080/",
          "height": 119
        },
        "outputId": "426f5ae7-1058-464e-9206-c8f16ae839d6"
      },
      "source": [
        "data.age_cat.value_counts()"
      ],
      "execution_count": 44,
      "outputs": [
        {
          "output_type": "execute_result",
          "data": {
            "text/plain": [
              "3    318\n",
              "2    267\n",
              "1    248\n",
              "4    240\n",
              "5    236\n",
              "Name: age_cat, dtype: int64"
            ]
          },
          "metadata": {
            "tags": []
          },
          "execution_count": 44
        }
      ]
    },
    {
      "cell_type": "markdown",
      "metadata": {
        "id": "sigBD9EZCpo7",
        "colab_type": "text"
      },
      "source": [
        "#### Child"
      ]
    },
    {
      "cell_type": "markdown",
      "metadata": {
        "id": "aSImUYrhCpo8",
        "colab_type": "text"
      },
      "source": [
        "In addition to the age category we just defined, we assume that being a child drastically increases the probability of surviving. Since our youngest age category ranges from newborn to 20 year olds, this is not really reflected by the data yet. We therefore define a dummy variable indicating if a passenger is a child. We do so by saying that children are people younger than 16."
      ]
    },
    {
      "cell_type": "code",
      "metadata": {
        "id": "LxTnae5xCpo9",
        "colab_type": "code",
        "colab": {}
      },
      "source": [
        "data[\"child\"] = 0\n",
        "data.loc[data[\"Age\"] <= 16, \"child\"] = 1"
      ],
      "execution_count": 0,
      "outputs": []
    },
    {
      "cell_type": "code",
      "metadata": {
        "id": "icplLaopCppC",
        "colab_type": "code",
        "colab": {
          "base_uri": "https://localhost:8080/",
          "height": 306
        },
        "outputId": "6ff5b0e5-b722-441c-d785-6913471c97b1"
      },
      "source": [
        "print(np.corrcoef(data.Age, data.age_cat))"
      ],
      "execution_count": 46,
      "outputs": [
        {
          "output_type": "error",
          "ename": "TypeError",
          "evalue": "ignored",
          "traceback": [
            "\u001b[0;31m---------------------------------------------------------------------------\u001b[0m",
            "\u001b[0;31mTypeError\u001b[0m                                 Traceback (most recent call last)",
            "\u001b[0;32m<ipython-input-46-3f1f7b76a1c6>\u001b[0m in \u001b[0;36m<module>\u001b[0;34m()\u001b[0m\n\u001b[0;32m----> 1\u001b[0;31m \u001b[0mprint\u001b[0m\u001b[0;34m(\u001b[0m\u001b[0mnp\u001b[0m\u001b[0;34m.\u001b[0m\u001b[0mcorrcoef\u001b[0m\u001b[0;34m(\u001b[0m\u001b[0mdata\u001b[0m\u001b[0;34m.\u001b[0m\u001b[0mAge\u001b[0m\u001b[0;34m,\u001b[0m \u001b[0mdata\u001b[0m\u001b[0;34m.\u001b[0m\u001b[0mage_cat\u001b[0m\u001b[0;34m)\u001b[0m\u001b[0;34m)\u001b[0m\u001b[0;34m\u001b[0m\u001b[0;34m\u001b[0m\u001b[0m\n\u001b[0m",
            "\u001b[0;32m/usr/local/lib/python3.6/dist-packages/numpy/lib/function_base.py\u001b[0m in \u001b[0;36mcorrcoef\u001b[0;34m(x, y, rowvar, bias, ddof)\u001b[0m\n\u001b[1;32m   2520\u001b[0m         warnings.warn('bias and ddof have no effect and are deprecated',\n\u001b[1;32m   2521\u001b[0m                       DeprecationWarning, stacklevel=2)\n\u001b[0;32m-> 2522\u001b[0;31m     \u001b[0mc\u001b[0m \u001b[0;34m=\u001b[0m \u001b[0mcov\u001b[0m\u001b[0;34m(\u001b[0m\u001b[0mx\u001b[0m\u001b[0;34m,\u001b[0m \u001b[0my\u001b[0m\u001b[0;34m,\u001b[0m \u001b[0mrowvar\u001b[0m\u001b[0;34m)\u001b[0m\u001b[0;34m\u001b[0m\u001b[0;34m\u001b[0m\u001b[0m\n\u001b[0m\u001b[1;32m   2523\u001b[0m     \u001b[0;32mtry\u001b[0m\u001b[0;34m:\u001b[0m\u001b[0;34m\u001b[0m\u001b[0;34m\u001b[0m\u001b[0m\n\u001b[1;32m   2524\u001b[0m         \u001b[0md\u001b[0m \u001b[0;34m=\u001b[0m \u001b[0mdiag\u001b[0m\u001b[0;34m(\u001b[0m\u001b[0mc\u001b[0m\u001b[0;34m)\u001b[0m\u001b[0;34m\u001b[0m\u001b[0;34m\u001b[0m\u001b[0m\n",
            "\u001b[0;32m/usr/local/lib/python3.6/dist-packages/numpy/lib/function_base.py\u001b[0m in \u001b[0;36mcov\u001b[0;34m(m, y, rowvar, bias, ddof, fweights, aweights)\u001b[0m\n\u001b[1;32m   2425\u001b[0m             \u001b[0mw\u001b[0m \u001b[0;34m*=\u001b[0m \u001b[0maweights\u001b[0m\u001b[0;34m\u001b[0m\u001b[0;34m\u001b[0m\u001b[0m\n\u001b[1;32m   2426\u001b[0m \u001b[0;34m\u001b[0m\u001b[0m\n\u001b[0;32m-> 2427\u001b[0;31m     \u001b[0mavg\u001b[0m\u001b[0;34m,\u001b[0m \u001b[0mw_sum\u001b[0m \u001b[0;34m=\u001b[0m \u001b[0maverage\u001b[0m\u001b[0;34m(\u001b[0m\u001b[0mX\u001b[0m\u001b[0;34m,\u001b[0m \u001b[0maxis\u001b[0m\u001b[0;34m=\u001b[0m\u001b[0;36m1\u001b[0m\u001b[0;34m,\u001b[0m \u001b[0mweights\u001b[0m\u001b[0;34m=\u001b[0m\u001b[0mw\u001b[0m\u001b[0;34m,\u001b[0m \u001b[0mreturned\u001b[0m\u001b[0;34m=\u001b[0m\u001b[0;32mTrue\u001b[0m\u001b[0;34m)\u001b[0m\u001b[0;34m\u001b[0m\u001b[0;34m\u001b[0m\u001b[0m\n\u001b[0m\u001b[1;32m   2428\u001b[0m     \u001b[0mw_sum\u001b[0m \u001b[0;34m=\u001b[0m \u001b[0mw_sum\u001b[0m\u001b[0;34m[\u001b[0m\u001b[0;36m0\u001b[0m\u001b[0;34m]\u001b[0m\u001b[0;34m\u001b[0m\u001b[0;34m\u001b[0m\u001b[0m\n\u001b[1;32m   2429\u001b[0m \u001b[0;34m\u001b[0m\u001b[0m\n",
            "\u001b[0;32m/usr/local/lib/python3.6/dist-packages/numpy/lib/function_base.py\u001b[0m in \u001b[0;36maverage\u001b[0;34m(a, axis, weights, returned)\u001b[0m\n\u001b[1;32m    390\u001b[0m \u001b[0;34m\u001b[0m\u001b[0m\n\u001b[1;32m    391\u001b[0m     \u001b[0;32mif\u001b[0m \u001b[0mweights\u001b[0m \u001b[0;32mis\u001b[0m \u001b[0;32mNone\u001b[0m\u001b[0;34m:\u001b[0m\u001b[0;34m\u001b[0m\u001b[0;34m\u001b[0m\u001b[0m\n\u001b[0;32m--> 392\u001b[0;31m         \u001b[0mavg\u001b[0m \u001b[0;34m=\u001b[0m \u001b[0ma\u001b[0m\u001b[0;34m.\u001b[0m\u001b[0mmean\u001b[0m\u001b[0;34m(\u001b[0m\u001b[0maxis\u001b[0m\u001b[0;34m)\u001b[0m\u001b[0;34m\u001b[0m\u001b[0;34m\u001b[0m\u001b[0m\n\u001b[0m\u001b[1;32m    393\u001b[0m         \u001b[0mscl\u001b[0m \u001b[0;34m=\u001b[0m \u001b[0mavg\u001b[0m\u001b[0;34m.\u001b[0m\u001b[0mdtype\u001b[0m\u001b[0;34m.\u001b[0m\u001b[0mtype\u001b[0m\u001b[0;34m(\u001b[0m\u001b[0ma\u001b[0m\u001b[0;34m.\u001b[0m\u001b[0msize\u001b[0m\u001b[0;34m/\u001b[0m\u001b[0mavg\u001b[0m\u001b[0;34m.\u001b[0m\u001b[0msize\u001b[0m\u001b[0;34m)\u001b[0m\u001b[0;34m\u001b[0m\u001b[0;34m\u001b[0m\u001b[0m\n\u001b[1;32m    394\u001b[0m     \u001b[0;32melse\u001b[0m\u001b[0;34m:\u001b[0m\u001b[0;34m\u001b[0m\u001b[0;34m\u001b[0m\u001b[0m\n",
            "\u001b[0;32m/usr/local/lib/python3.6/dist-packages/numpy/core/_methods.py\u001b[0m in \u001b[0;36m_mean\u001b[0;34m(a, axis, dtype, out, keepdims)\u001b[0m\n\u001b[1;32m     76\u001b[0m     \u001b[0;32mif\u001b[0m \u001b[0misinstance\u001b[0m\u001b[0;34m(\u001b[0m\u001b[0mret\u001b[0m\u001b[0;34m,\u001b[0m \u001b[0mmu\u001b[0m\u001b[0;34m.\u001b[0m\u001b[0mndarray\u001b[0m\u001b[0;34m)\u001b[0m\u001b[0;34m:\u001b[0m\u001b[0;34m\u001b[0m\u001b[0;34m\u001b[0m\u001b[0m\n\u001b[1;32m     77\u001b[0m         ret = um.true_divide(\n\u001b[0;32m---> 78\u001b[0;31m                 ret, rcount, out=ret, casting='unsafe', subok=False)\n\u001b[0m\u001b[1;32m     79\u001b[0m         \u001b[0;32mif\u001b[0m \u001b[0mis_float16_result\u001b[0m \u001b[0;32mand\u001b[0m \u001b[0mout\u001b[0m \u001b[0;32mis\u001b[0m \u001b[0;32mNone\u001b[0m\u001b[0;34m:\u001b[0m\u001b[0;34m\u001b[0m\u001b[0;34m\u001b[0m\u001b[0m\n\u001b[1;32m     80\u001b[0m             \u001b[0mret\u001b[0m \u001b[0;34m=\u001b[0m \u001b[0marr\u001b[0m\u001b[0;34m.\u001b[0m\u001b[0mdtype\u001b[0m\u001b[0;34m.\u001b[0m\u001b[0mtype\u001b[0m\u001b[0;34m(\u001b[0m\u001b[0mret\u001b[0m\u001b[0;34m)\u001b[0m\u001b[0;34m\u001b[0m\u001b[0;34m\u001b[0m\u001b[0m\n",
            "\u001b[0;31mTypeError\u001b[0m: unsupported operand type(s) for /: 'str' and 'int'"
          ]
        }
      ]
    },
    {
      "cell_type": "markdown",
      "metadata": {
        "id": "VfFtVOrmCppF",
        "colab_type": "text"
      },
      "source": [
        "Since there is a very high positive correlation between Age and the categorical age variable (which is not surprising), we are going to drop the continuous age variable."
      ]
    },
    {
      "cell_type": "code",
      "metadata": {
        "id": "Ci7Zy9VYCppF",
        "colab_type": "code",
        "colab": {}
      },
      "source": [
        "data = data.drop(\"Age\", axis=1)"
      ],
      "execution_count": 0,
      "outputs": []
    },
    {
      "cell_type": "markdown",
      "metadata": {
        "id": "wfTT4JYxCppH",
        "colab_type": "text"
      },
      "source": [
        "#### Fare bands"
      ]
    },
    {
      "cell_type": "markdown",
      "metadata": {
        "id": "Fml7gzNpCppI",
        "colab_type": "text"
      },
      "source": [
        "In the same way as with Age we can proceed with the fares paid by each passenger. Here, we will not define bands by hand, but we use the pandas function qcut. We use 10 categories to divide the fares into. After doing so, we can drop the original fare column. However, before we can create the bands we check for missing values."
      ]
    },
    {
      "cell_type": "code",
      "metadata": {
        "id": "1NKMSJO8CppI",
        "colab_type": "code",
        "colab": {
          "base_uri": "https://localhost:8080/",
          "height": 80
        },
        "outputId": "fab96c89-7f79-4da5-ee55-09814b1d10ef"
      },
      "source": [
        "data[data[\"Fare\"].isnull()]"
      ],
      "execution_count": 48,
      "outputs": [
        {
          "output_type": "execute_result",
          "data": {
            "text/html": [
              "<div>\n",
              "<style scoped>\n",
              "    .dataframe tbody tr th:only-of-type {\n",
              "        vertical-align: middle;\n",
              "    }\n",
              "\n",
              "    .dataframe tbody tr th {\n",
              "        vertical-align: top;\n",
              "    }\n",
              "\n",
              "    .dataframe thead th {\n",
              "        text-align: right;\n",
              "    }\n",
              "</style>\n",
              "<table border=\"1\" class=\"dataframe\">\n",
              "  <thead>\n",
              "    <tr style=\"text-align: right;\">\n",
              "      <th></th>\n",
              "      <th>PassengerId</th>\n",
              "      <th>Pclass</th>\n",
              "      <th>Name</th>\n",
              "      <th>Sex</th>\n",
              "      <th>SibSp</th>\n",
              "      <th>Parch</th>\n",
              "      <th>Fare</th>\n",
              "      <th>Embarked</th>\n",
              "      <th>train</th>\n",
              "      <th>age_cat</th>\n",
              "      <th>child</th>\n",
              "    </tr>\n",
              "  </thead>\n",
              "  <tbody>\n",
              "    <tr>\n",
              "      <th>152</th>\n",
              "      <td>1044</td>\n",
              "      <td>3</td>\n",
              "      <td>Storey, Mr. Thomas</td>\n",
              "      <td>male</td>\n",
              "      <td>0</td>\n",
              "      <td>0</td>\n",
              "      <td>NaN</td>\n",
              "      <td>S</td>\n",
              "      <td>0</td>\n",
              "      <td>5</td>\n",
              "      <td>0</td>\n",
              "    </tr>\n",
              "  </tbody>\n",
              "</table>\n",
              "</div>"
            ],
            "text/plain": [
              "     PassengerId  Pclass                Name  ... train  age_cat  child\n",
              "152         1044       3  Storey, Mr. Thomas  ...     0        5      0\n",
              "\n",
              "[1 rows x 11 columns]"
            ]
          },
          "metadata": {
            "tags": []
          },
          "execution_count": 48
        }
      ]
    },
    {
      "cell_type": "markdown",
      "metadata": {
        "id": "hq-aPKFpCppL",
        "colab_type": "text"
      },
      "source": [
        "The observation missing the Fare data belongs to the third class and was embarked in Southhampton. We will therefore impute the missing with the mean Fare of passengers from the third class embarked in Southhampton. Since we have seen before that the fares are systematically lower for male passengers we also take into account that the passenger with the missing fare value is male."
      ]
    },
    {
      "cell_type": "code",
      "metadata": {
        "id": "ybQOXNXVCppM",
        "colab_type": "code",
        "colab": {}
      },
      "source": [
        "data.loc[data[\"Fare\"].isnull(), \"Fare\"] = np.mean(data[\"Fare\"].loc[(data[\"Pclass\"] == 3) & (data[\"Embarked\"] == \"S\") & (data[\"Sex\"] == \"male\")])"
      ],
      "execution_count": 0,
      "outputs": []
    },
    {
      "cell_type": "markdown",
      "metadata": {
        "id": "kmhnY2FXCppN",
        "colab_type": "text"
      },
      "source": [
        "Now we can continue creating the fare categories based on quantiles."
      ]
    },
    {
      "cell_type": "code",
      "metadata": {
        "id": "S6AyZBv7CppO",
        "colab_type": "code",
        "colab": {}
      },
      "source": [
        "data[\"Fare_cat\"] = pd.qcut(data[\"Fare\"], 10)"
      ],
      "execution_count": 0,
      "outputs": []
    },
    {
      "cell_type": "code",
      "metadata": {
        "id": "EOH5ngXRCppP",
        "colab_type": "code",
        "colab": {}
      },
      "source": [
        "data = data.drop(\"Fare\", axis=1)"
      ],
      "execution_count": 0,
      "outputs": []
    },
    {
      "cell_type": "markdown",
      "metadata": {
        "id": "zFtvmWqWCppR",
        "colab_type": "text"
      },
      "source": [
        "#### Family Size SibSp + ParCh"
      ]
    },
    {
      "cell_type": "markdown",
      "metadata": {
        "id": "DpAVic33CppR",
        "colab_type": "text"
      },
      "source": [
        "Since we have information about the number of Siblings and Spouses and about the number of parents or children for each passenger, we can use these features to create a feature that contains the number of a particular family that was aboard the ship. We call it family_size."
      ]
    },
    {
      "cell_type": "code",
      "metadata": {
        "id": "fH9WuCnmCppS",
        "colab_type": "code",
        "colab": {
          "base_uri": "https://localhost:8080/",
          "height": 187
        },
        "outputId": "b419a07b-b705-4921-de47-a17c4254ee58"
      },
      "source": [
        "data[\"family_size\"] = data[\"SibSp\"] + data[\"Parch\"] + 1\n",
        "data.family_size.value_counts()"
      ],
      "execution_count": 52,
      "outputs": [
        {
          "output_type": "execute_result",
          "data": {
            "text/plain": [
              "1     790\n",
              "2     235\n",
              "3     159\n",
              "4      43\n",
              "6      25\n",
              "5      22\n",
              "7      16\n",
              "11     11\n",
              "8       8\n",
              "Name: family_size, dtype: int64"
            ]
          },
          "metadata": {
            "tags": []
          },
          "execution_count": 52
        }
      ]
    },
    {
      "cell_type": "markdown",
      "metadata": {
        "id": "kUFXiFguCppU",
        "colab_type": "text"
      },
      "source": [
        "We can now drop the features SibSp and Parch."
      ]
    },
    {
      "cell_type": "code",
      "metadata": {
        "scrolled": true,
        "id": "IthA5TYoCppV",
        "colab_type": "code",
        "colab": {}
      },
      "source": [
        "data = data.drop([\"SibSp\", \"Parch\"], axis=1)"
      ],
      "execution_count": 0,
      "outputs": []
    },
    {
      "cell_type": "markdown",
      "metadata": {
        "id": "h3FTHxBVCppY",
        "colab_type": "text"
      },
      "source": [
        "#### Title"
      ]
    },
    {
      "cell_type": "code",
      "metadata": {
        "id": "jqwDOsXdCppZ",
        "colab_type": "code",
        "colab": {
          "base_uri": "https://localhost:8080/",
          "height": 204
        },
        "outputId": "3da39080-6ee0-4fa0-dff5-33cd5387008d"
      },
      "source": [
        "data.Name.head(10)"
      ],
      "execution_count": 54,
      "outputs": [
        {
          "output_type": "execute_result",
          "data": {
            "text/plain": [
              "0                              Braund, Mr. Owen Harris\n",
              "1    Cumings, Mrs. John Bradley (Florence Briggs Th...\n",
              "2                               Heikkinen, Miss. Laina\n",
              "3         Futrelle, Mrs. Jacques Heath (Lily May Peel)\n",
              "4                             Allen, Mr. William Henry\n",
              "5                                     Moran, Mr. James\n",
              "6                              McCarthy, Mr. Timothy J\n",
              "7                       Palsson, Master. Gosta Leonard\n",
              "8    Johnson, Mrs. Oscar W (Elisabeth Vilhelmina Berg)\n",
              "9                  Nasser, Mrs. Nicholas (Adele Achem)\n",
              "Name: Name, dtype: object"
            ]
          },
          "metadata": {
            "tags": []
          },
          "execution_count": 54
        }
      ]
    },
    {
      "cell_type": "markdown",
      "metadata": {
        "id": "RJ_pASNjCppb",
        "colab_type": "text"
      },
      "source": [
        "Looking at the passenger's names, we notice that there are titles attached to them. The structure of this column is *\"Last name, title first name\"*. We can now extract those titles using regular expressions."
      ]
    },
    {
      "cell_type": "code",
      "metadata": {
        "id": "wavfNLsgCppe",
        "colab_type": "code",
        "colab": {
          "base_uri": "https://localhost:8080/",
          "height": 340
        },
        "outputId": "06b285b2-3f3c-490d-f52d-661a530888ab"
      },
      "source": [
        "data[\"Title\"] = data.Name.str.split(\",\", expand=True)[1].str.split(\".\", expand=True)[0]\n",
        "data[\"Title\"].value_counts()"
      ],
      "execution_count": 55,
      "outputs": [
        {
          "output_type": "execute_result",
          "data": {
            "text/plain": [
              " Mr              757\n",
              " Miss            260\n",
              " Mrs             197\n",
              " Master           61\n",
              " Rev               8\n",
              " Dr                8\n",
              " Col               4\n",
              " Ms                2\n",
              " Major             2\n",
              " Mlle              2\n",
              " the Countess      1\n",
              " Mme               1\n",
              " Lady              1\n",
              " Dona              1\n",
              " Jonkheer          1\n",
              " Sir               1\n",
              " Don               1\n",
              " Capt              1\n",
              "Name: Title, dtype: int64"
            ]
          },
          "metadata": {
            "tags": []
          },
          "execution_count": 55
        }
      ]
    },
    {
      "cell_type": "markdown",
      "metadata": {
        "id": "T1kOcqpiCppg",
        "colab_type": "text"
      },
      "source": [
        "We see that the most frequent titles are simply Mr and Miss. We also see that there seem to be, for example, many different titles for women, e.g. Miss, Mrs, Ms, Mlle (Mademoiselle). We therefore group the titles into 5 categories: Mr, Mrs (married females), Miss, Master and other. "
      ]
    },
    {
      "cell_type": "code",
      "metadata": {
        "id": "_n57iC2OCpph",
        "colab_type": "code",
        "colab": {}
      },
      "source": [
        "#much more efficient and should work as well, however it does not here\n",
        "\n",
        "#data[\"Title\"] = data[\"Title\"].replace([\"Mlle\", \"Ms\"], \"Miss\")\n",
        "#data[\"Title\"] = data[\"Title\"].replace(\"Mme\", \"Mrs\")\n",
        "#data[\"Title\"] = data[\"Title\"].replace([\"Don\", \"Dona\", \"Rev\", \"Dr\", \"Major\", \"Lady\", \"Sir\", \"Col\", \"Capt\", \"the Countess\", \"Jonkheer\"], \"Other\")"
      ],
      "execution_count": 0,
      "outputs": []
    },
    {
      "cell_type": "code",
      "metadata": {
        "id": "NaCkDWiHCppk",
        "colab_type": "code",
        "colab": {
          "base_uri": "https://localhost:8080/",
          "height": 300
        },
        "outputId": "93e428e9-2bc8-4ecc-8533-718dda910a2b"
      },
      "source": [
        "data[\"Title\"] = data[\"Title\"].apply(lambda x: x.replace(\"Mme\", \"Mrs\"))\n",
        "data[\"Title\"] = data[\"Title\"].apply(lambda x: x.replace(\"Mlle\", \"Miss\"))\n",
        "data[\"Title\"] = data[\"Title\"].apply(lambda x: x.replace(\"Ms\", \"Miss\"))\n",
        "data[\"Title\"] = data[\"Title\"].apply(lambda x: x.replace(\"Dona\", \"Other\"))\n",
        "data[\"Title\"] = data[\"Title\"].apply(lambda x: x.replace(\"Don\", \"Other\"))\n",
        "data[\"Title\"] = data[\"Title\"].apply(lambda x: x.replace(\"Rev\", \"Other\"))\n",
        "data[\"Title\"] = data[\"Title\"].apply(lambda x: x.replace(\"Dr\", \"Other\"))\n",
        "data[\"Title\"] = data[\"Title\"].apply(lambda x: x.replace(\"Major\", \"Other\"))\n",
        "data[\"Title\"] = data[\"Title\"].apply(lambda x: x.replace(\"Lady\", \"Other\"))\n",
        "data[\"Title\"] = data[\"Title\"].apply(lambda x: x.replace(\"Sir\", \"Other\"))\n",
        "data[\"Title\"] = data[\"Title\"].apply(lambda x: x.replace(\"Col\", \"Other\"))\n",
        "data[\"Title\"] = data[\"Title\"].apply(lambda x: x.replace(\"Capt\", \"Other\"))\n",
        "data[\"Title\"] = data[\"Title\"].apply(lambda x: x.replace(\"the Countess\", \"Other\"))\n",
        "data[\"Title\"] = data[\"Title\"].apply(lambda x: x.replace(\"Jonkheer\", \"Other\"))\n",
        "sns.countplot(data=data, x=\"Title\")"
      ],
      "execution_count": 57,
      "outputs": [
        {
          "output_type": "execute_result",
          "data": {
            "text/plain": [
              "<matplotlib.axes._subplots.AxesSubplot at 0x7f83e1b56f98>"
            ]
          },
          "metadata": {
            "tags": []
          },
          "execution_count": 57
        },
        {
          "output_type": "display_data",
          "data": {
            "image/png": "[encoded data removed]",
            "text/plain": [
              "<Figure size 432x288 with 1 Axes>"
            ]
          },
          "metadata": {
            "tags": []
          }
        }
      ]
    },
    {
      "cell_type": "markdown",
      "metadata": {
        "id": "tcdG7z1xCppq",
        "colab_type": "text"
      },
      "source": [
        "We can now drop the Name column.\n"
      ]
    },
    {
      "cell_type": "code",
      "metadata": {
        "id": "BmtbrzKjCppq",
        "colab_type": "code",
        "colab": {}
      },
      "source": [
        "data = data.drop(\"Name\", axis=1)"
      ],
      "execution_count": 0,
      "outputs": []
    },
    {
      "cell_type": "markdown",
      "metadata": {
        "id": "RsLvArx9Cpps",
        "colab_type": "text"
      },
      "source": [
        "#### Missings"
      ]
    },
    {
      "cell_type": "markdown",
      "metadata": {
        "id": "g8TFbuXLCppt",
        "colab_type": "text"
      },
      "source": [
        "Before starting the modelling part of this notebook, we take a quick look if there are any missing values in addition to those we already took care of."
      ]
    },
    {
      "cell_type": "code",
      "metadata": {
        "id": "mSk8Bjp6Cppt",
        "colab_type": "code",
        "colab": {
          "base_uri": "https://localhost:8080/",
          "height": 204
        },
        "outputId": "ba1cef21-c0a6-44f8-944d-fb05302de7a7"
      },
      "source": [
        "data.isnull().sum()"
      ],
      "execution_count": 59,
      "outputs": [
        {
          "output_type": "execute_result",
          "data": {
            "text/plain": [
              "PassengerId    0\n",
              "Pclass         0\n",
              "Sex            0\n",
              "Embarked       2\n",
              "train          0\n",
              "age_cat        0\n",
              "child          0\n",
              "Fare_cat       0\n",
              "family_size    0\n",
              "Title          0\n",
              "dtype: int64"
            ]
          },
          "metadata": {
            "tags": []
          },
          "execution_count": 59
        }
      ]
    },
    {
      "cell_type": "markdown",
      "metadata": {
        "id": "FSGBxJ53Cppv",
        "colab_type": "text"
      },
      "source": [
        "There are two more missing values for Embarked. We proceed in a similar manner as we have done so with Age above. However, instead of using means we impute the missings with the most frequent value in the respective class."
      ]
    },
    {
      "cell_type": "code",
      "metadata": {
        "id": "pnSjJZXsCppv",
        "colab_type": "code",
        "colab": {
          "base_uri": "https://localhost:8080/",
          "height": 111
        },
        "outputId": "ad920e99-f7b4-48a7-91a6-091497ad61b0"
      },
      "source": [
        "data[data[\"Embarked\"].isnull()]"
      ],
      "execution_count": 60,
      "outputs": [
        {
          "output_type": "execute_result",
          "data": {
            "text/html": [
              "<div>\n",
              "<style scoped>\n",
              "    .dataframe tbody tr th:only-of-type {\n",
              "        vertical-align: middle;\n",
              "    }\n",
              "\n",
              "    .dataframe tbody tr th {\n",
              "        vertical-align: top;\n",
              "    }\n",
              "\n",
              "    .dataframe thead th {\n",
              "        text-align: right;\n",
              "    }\n",
              "</style>\n",
              "<table border=\"1\" class=\"dataframe\">\n",
              "  <thead>\n",
              "    <tr style=\"text-align: right;\">\n",
              "      <th></th>\n",
              "      <th>PassengerId</th>\n",
              "      <th>Pclass</th>\n",
              "      <th>Sex</th>\n",
              "      <th>Embarked</th>\n",
              "      <th>train</th>\n",
              "      <th>age_cat</th>\n",
              "      <th>child</th>\n",
              "      <th>Fare_cat</th>\n",
              "      <th>family_size</th>\n",
              "      <th>Title</th>\n",
              "    </tr>\n",
              "  </thead>\n",
              "  <tbody>\n",
              "    <tr>\n",
              "      <th>61</th>\n",
              "      <td>62</td>\n",
              "      <td>1</td>\n",
              "      <td>female</td>\n",
              "      <td>NaN</td>\n",
              "      <td>1</td>\n",
              "      <td>4</td>\n",
              "      <td>0</td>\n",
              "      <td>(78.02, 512.329]</td>\n",
              "      <td>1</td>\n",
              "      <td>Miss</td>\n",
              "    </tr>\n",
              "    <tr>\n",
              "      <th>829</th>\n",
              "      <td>830</td>\n",
              "      <td>1</td>\n",
              "      <td>female</td>\n",
              "      <td>NaN</td>\n",
              "      <td>1</td>\n",
              "      <td>5</td>\n",
              "      <td>0</td>\n",
              "      <td>(78.02, 512.329]</td>\n",
              "      <td>1</td>\n",
              "      <td>Mrs</td>\n",
              "    </tr>\n",
              "  </tbody>\n",
              "</table>\n",
              "</div>"
            ],
            "text/plain": [
              "     PassengerId  Pclass     Sex  ...          Fare_cat  family_size  Title\n",
              "61            62       1  female  ...  (78.02, 512.329]            1   Miss\n",
              "829          830       1  female  ...  (78.02, 512.329]            1    Mrs\n",
              "\n",
              "[2 rows x 10 columns]"
            ]
          },
          "metadata": {
            "tags": []
          },
          "execution_count": 60
        }
      ]
    },
    {
      "cell_type": "code",
      "metadata": {
        "id": "9otNHPcPCppy",
        "colab_type": "code",
        "colab": {
          "base_uri": "https://localhost:8080/",
          "height": 85
        },
        "outputId": "645d573f-453c-4566-b4d4-08bfe3afaf7c"
      },
      "source": [
        "data[\"Embarked\"].loc[data[\"Pclass\"] == 1].value_counts()"
      ],
      "execution_count": 61,
      "outputs": [
        {
          "output_type": "execute_result",
          "data": {
            "text/plain": [
              "S    177\n",
              "C    141\n",
              "Q      3\n",
              "Name: Embarked, dtype: int64"
            ]
          },
          "metadata": {
            "tags": []
          },
          "execution_count": 61
        }
      ]
    },
    {
      "cell_type": "markdown",
      "metadata": {
        "id": "Ktb7DY0fCpp0",
        "colab_type": "text"
      },
      "source": [
        "The most frequent value of Embarked for passengers in the first class is Southhampton."
      ]
    },
    {
      "cell_type": "code",
      "metadata": {
        "id": "Tc5Z0WKoCpp1",
        "colab_type": "code",
        "colab": {}
      },
      "source": [
        "data.loc[data[\"Embarked\"].isnull(), \"Embarked\"] = \"S\""
      ],
      "execution_count": 0,
      "outputs": []
    },
    {
      "cell_type": "code",
      "metadata": {
        "id": "KEJaTTjRCpp2",
        "colab_type": "code",
        "colab": {
          "base_uri": "https://localhost:8080/",
          "height": 204
        },
        "outputId": "ed128f7f-1f06-4ee2-ed55-71679128ae31"
      },
      "source": [
        "data.isnull().sum()"
      ],
      "execution_count": 63,
      "outputs": [
        {
          "output_type": "execute_result",
          "data": {
            "text/plain": [
              "PassengerId    0\n",
              "Pclass         0\n",
              "Sex            0\n",
              "Embarked       0\n",
              "train          0\n",
              "age_cat        0\n",
              "child          0\n",
              "Fare_cat       0\n",
              "family_size    0\n",
              "Title          0\n",
              "dtype: int64"
            ]
          },
          "metadata": {
            "tags": []
          },
          "execution_count": 63
        }
      ]
    },
    {
      "cell_type": "markdown",
      "metadata": {
        "id": "W4kFhN9TCpp3",
        "colab_type": "text"
      },
      "source": [
        "Our data looks good now, there are no more missing values."
      ]
    },
    {
      "cell_type": "markdown",
      "metadata": {
        "id": "LC7AlhGsCpp4",
        "colab_type": "text"
      },
      "source": [
        "#### Dummy variables"
      ]
    },
    {
      "cell_type": "markdown",
      "metadata": {
        "id": "xFBVyeynCpp4",
        "colab_type": "text"
      },
      "source": [
        "sklearn cannot handle categorical data, therefore we need to transform categorical features into dummy variables. If we have, for example, sex as a categorical feature (\"male\" or \"female\") and we convert this feature into dummies we get one dummy for \"male\" (0: no, 1: yes) and one for \"female\". Since both features are just linear combinations of each other (i.e. if we have the value for \"male\" we also have the value for \"female\") this would cause perfect multicollinearity. We therefore drop the first category dummy per feature to prevent this."
      ]
    },
    {
      "cell_type": "code",
      "metadata": {
        "id": "q8XDv46_Cpp4",
        "colab_type": "code",
        "colab": {
          "base_uri": "https://localhost:8080/",
          "height": 241
        },
        "outputId": "08d4f3ea-d7d0-4ae6-ec4f-cb15792bc545"
      },
      "source": [
        "data = pd.get_dummies(data, drop_first=True)\n",
        "data.head()"
      ],
      "execution_count": 64,
      "outputs": [
        {
          "output_type": "execute_result",
          "data": {
            "text/html": [
              "<div>\n",
              "<style scoped>\n",
              "    .dataframe tbody tr th:only-of-type {\n",
              "        vertical-align: middle;\n",
              "    }\n",
              "\n",
              "    .dataframe tbody tr th {\n",
              "        vertical-align: top;\n",
              "    }\n",
              "\n",
              "    .dataframe thead th {\n",
              "        text-align: right;\n",
              "    }\n",
              "</style>\n",
              "<table border=\"1\" class=\"dataframe\">\n",
              "  <thead>\n",
              "    <tr style=\"text-align: right;\">\n",
              "      <th></th>\n",
              "      <th>PassengerId</th>\n",
              "      <th>Pclass</th>\n",
              "      <th>train</th>\n",
              "      <th>child</th>\n",
              "      <th>family_size</th>\n",
              "      <th>Sex_male</th>\n",
              "      <th>Embarked_Q</th>\n",
              "      <th>Embarked_S</th>\n",
              "      <th>age_cat_2</th>\n",
              "      <th>age_cat_3</th>\n",
              "      <th>age_cat_4</th>\n",
              "      <th>age_cat_5</th>\n",
              "      <th>Fare_cat_(7.57, 7.854]</th>\n",
              "      <th>Fare_cat_(7.854, 8.05]</th>\n",
              "      <th>Fare_cat_(8.05, 10.5]</th>\n",
              "      <th>Fare_cat_(10.5, 14.454]</th>\n",
              "      <th>Fare_cat_(14.454, 21.558]</th>\n",
              "      <th>Fare_cat_(21.558, 26.82]</th>\n",
              "      <th>Fare_cat_(26.82, 41.579]</th>\n",
              "      <th>Fare_cat_(41.579, 78.02]</th>\n",
              "      <th>Fare_cat_(78.02, 512.329]</th>\n",
              "      <th>Title_ Miss</th>\n",
              "      <th>Title_ Mr</th>\n",
              "      <th>Title_ Mrs</th>\n",
              "      <th>Title_ Other</th>\n",
              "    </tr>\n",
              "  </thead>\n",
              "  <tbody>\n",
              "    <tr>\n",
              "      <th>0</th>\n",
              "      <td>1</td>\n",
              "      <td>3</td>\n",
              "      <td>1</td>\n",
              "      <td>0</td>\n",
              "      <td>2</td>\n",
              "      <td>1</td>\n",
              "      <td>0</td>\n",
              "      <td>1</td>\n",
              "      <td>1</td>\n",
              "      <td>0</td>\n",
              "      <td>0</td>\n",
              "      <td>0</td>\n",
              "      <td>0</td>\n",
              "      <td>0</td>\n",
              "      <td>0</td>\n",
              "      <td>0</td>\n",
              "      <td>0</td>\n",
              "      <td>0</td>\n",
              "      <td>0</td>\n",
              "      <td>0</td>\n",
              "      <td>0</td>\n",
              "      <td>0</td>\n",
              "      <td>1</td>\n",
              "      <td>0</td>\n",
              "      <td>0</td>\n",
              "    </tr>\n",
              "    <tr>\n",
              "      <th>1</th>\n",
              "      <td>2</td>\n",
              "      <td>1</td>\n",
              "      <td>1</td>\n",
              "      <td>0</td>\n",
              "      <td>2</td>\n",
              "      <td>0</td>\n",
              "      <td>0</td>\n",
              "      <td>0</td>\n",
              "      <td>0</td>\n",
              "      <td>0</td>\n",
              "      <td>1</td>\n",
              "      <td>0</td>\n",
              "      <td>0</td>\n",
              "      <td>0</td>\n",
              "      <td>0</td>\n",
              "      <td>0</td>\n",
              "      <td>0</td>\n",
              "      <td>0</td>\n",
              "      <td>0</td>\n",
              "      <td>1</td>\n",
              "      <td>0</td>\n",
              "      <td>0</td>\n",
              "      <td>0</td>\n",
              "      <td>1</td>\n",
              "      <td>0</td>\n",
              "    </tr>\n",
              "    <tr>\n",
              "      <th>2</th>\n",
              "      <td>3</td>\n",
              "      <td>3</td>\n",
              "      <td>1</td>\n",
              "      <td>0</td>\n",
              "      <td>1</td>\n",
              "      <td>0</td>\n",
              "      <td>0</td>\n",
              "      <td>1</td>\n",
              "      <td>0</td>\n",
              "      <td>1</td>\n",
              "      <td>0</td>\n",
              "      <td>0</td>\n",
              "      <td>0</td>\n",
              "      <td>1</td>\n",
              "      <td>0</td>\n",
              "      <td>0</td>\n",
              "      <td>0</td>\n",
              "      <td>0</td>\n",
              "      <td>0</td>\n",
              "      <td>0</td>\n",
              "      <td>0</td>\n",
              "      <td>1</td>\n",
              "      <td>0</td>\n",
              "      <td>0</td>\n",
              "      <td>0</td>\n",
              "    </tr>\n",
              "    <tr>\n",
              "      <th>3</th>\n",
              "      <td>4</td>\n",
              "      <td>1</td>\n",
              "      <td>1</td>\n",
              "      <td>0</td>\n",
              "      <td>2</td>\n",
              "      <td>0</td>\n",
              "      <td>0</td>\n",
              "      <td>1</td>\n",
              "      <td>0</td>\n",
              "      <td>0</td>\n",
              "      <td>1</td>\n",
              "      <td>0</td>\n",
              "      <td>0</td>\n",
              "      <td>0</td>\n",
              "      <td>0</td>\n",
              "      <td>0</td>\n",
              "      <td>0</td>\n",
              "      <td>0</td>\n",
              "      <td>0</td>\n",
              "      <td>1</td>\n",
              "      <td>0</td>\n",
              "      <td>0</td>\n",
              "      <td>0</td>\n",
              "      <td>1</td>\n",
              "      <td>0</td>\n",
              "    </tr>\n",
              "    <tr>\n",
              "      <th>4</th>\n",
              "      <td>5</td>\n",
              "      <td>3</td>\n",
              "      <td>1</td>\n",
              "      <td>0</td>\n",
              "      <td>1</td>\n",
              "      <td>1</td>\n",
              "      <td>0</td>\n",
              "      <td>1</td>\n",
              "      <td>0</td>\n",
              "      <td>0</td>\n",
              "      <td>1</td>\n",
              "      <td>0</td>\n",
              "      <td>0</td>\n",
              "      <td>1</td>\n",
              "      <td>0</td>\n",
              "      <td>0</td>\n",
              "      <td>0</td>\n",
              "      <td>0</td>\n",
              "      <td>0</td>\n",
              "      <td>0</td>\n",
              "      <td>0</td>\n",
              "      <td>0</td>\n",
              "      <td>1</td>\n",
              "      <td>0</td>\n",
              "      <td>0</td>\n",
              "    </tr>\n",
              "  </tbody>\n",
              "</table>\n",
              "</div>"
            ],
            "text/plain": [
              "   PassengerId  Pclass  train  ...  Title_ Mr  Title_ Mrs  Title_ Other\n",
              "0            1       3      1  ...          1           0             0\n",
              "1            2       1      1  ...          0           1             0\n",
              "2            3       3      1  ...          0           0             0\n",
              "3            4       1      1  ...          0           1             0\n",
              "4            5       3      1  ...          1           0             0\n",
              "\n",
              "[5 rows x 25 columns]"
            ]
          },
          "metadata": {
            "tags": []
          },
          "execution_count": 64
        }
      ]
    },
    {
      "cell_type": "markdown",
      "metadata": {
        "id": "NPPMlVCRCpp6",
        "colab_type": "text"
      },
      "source": [
        "We can now split our data again into the training and the test set. To do so, we have defined a binary variable \"train\" before concatenating both data frames. We can now use this indicator to split them again. After doing so, we drop the PassengerId in since it does not add any information to our model. "
      ]
    },
    {
      "cell_type": "code",
      "metadata": {
        "id": "wuf6yT2jCpp8",
        "colab_type": "code",
        "colab": {
          "base_uri": "https://localhost:8080/",
          "height": 34
        },
        "outputId": "d0610b05-fe77-44a9-b29a-fdd08875581f"
      },
      "source": [
        "X = data[data[\"train\"]==1]\n",
        "X = X.drop(\"PassengerId\", axis=1)\n",
        "test = data[data[\"train\"]==0]\n",
        "ID = test[\"PassengerId\"] # saving the test set PassengerId for submission file\n",
        "test = test.drop(\"PassengerId\", axis=1)\n",
        "X.shape, y.shape, test.shape"
      ],
      "execution_count": 71,
      "outputs": [
        {
          "output_type": "execute_result",
          "data": {
            "text/plain": [
              "((891, 24), (891,), (418, 24))"
            ]
          },
          "metadata": {
            "tags": []
          },
          "execution_count": 71
        }
      ]
    },
    {
      "cell_type": "markdown",
      "metadata": {
        "id": "YIqQ7lofCpp-",
        "colab_type": "text"
      },
      "source": [
        "## Building a Model"
      ]
    },
    {
      "cell_type": "markdown",
      "metadata": {
        "id": "AYqILMBfEDO0",
        "colab_type": "text"
      },
      "source": [
        "We will try 2 different algorithms: a Random Forest Classifier and XGBoost Classifier. Since the Kaggle Leaderboard is based on the accuracy, i.e. the percentage of correctly classified samples, we will also use this metric to evaluate our models using k-fold cross-validation on a hold-out (test) set."
      ]
    },
    {
      "cell_type": "markdown",
      "metadata": {
        "id": "y5c5pK3YEl_7",
        "colab_type": "text"
      },
      "source": [
        "### Random Forest "
      ]
    },
    {
      "cell_type": "markdown",
      "metadata": {
        "id": "Bcnu4RU7EtpD",
        "colab_type": "text"
      },
      "source": [
        "We are going to start with the Random Forest Classifier."
      ]
    },
    {
      "cell_type": "code",
      "metadata": {
        "id": "aIaQ1cFeE2ga",
        "colab_type": "code",
        "colab": {}
      },
      "source": [
        "from sklearn.ensemble import RandomForestClassifier\n",
        "from sklearn.metrics import accuracy_score\n",
        "from sklearn import preprocessing\n",
        "from sklearn.pipeline import Pipeline\n",
        "from sklearn.model_selection import train_test_split\n",
        "from sklearn.model_selection import GridSearchCV\n",
        "from sklearn.model_selection import RandomizedSearchCV"
      ],
      "execution_count": 0,
      "outputs": []
    },
    {
      "cell_type": "markdown",
      "metadata": {
        "id": "gm4QPs2jHzbE",
        "colab_type": "text"
      },
      "source": [
        "At first we have to split our data into a training set and a test set, on which the models can be evaluated on later."
      ]
    },
    {
      "cell_type": "code",
      "metadata": {
        "id": "8PqJR4D9H9zV",
        "colab_type": "code",
        "colab": {
          "base_uri": "https://localhost:8080/",
          "height": 34
        },
        "outputId": "eed43384-09f6-4eb4-ae50-0f81b3afc312"
      },
      "source": [
        "X_train, X_test, y_train, y_test = train_test_split(X, y, test_size=0.2, random_state=123)\n",
        "X_train.shape, X_test.shape, y_train.shape, y_test.shape"
      ],
      "execution_count": 75,
      "outputs": [
        {
          "output_type": "execute_result",
          "data": {
            "text/plain": [
              "((712, 24), (179, 24), (712,), (179,))"
            ]
          },
          "metadata": {
            "tags": []
          },
          "execution_count": 75
        }
      ]
    },
    {
      "cell_type": "markdown",
      "metadata": {
        "id": "CumR5tZzGGN6",
        "colab_type": "text"
      },
      "source": [
        "Then we will create our pipeline object, define the functions that should be applied and define a grid with the parameters we want to tune and the range from which RandomizedSearchCV shoud draw from."
      ]
    },
    {
      "cell_type": "code",
      "metadata": {
        "id": "nyBQ6u_TGRNW",
        "colab_type": "code",
        "colab": {}
      },
      "source": [
        "steps_rf = [(\"scaler\", preprocessing.StandardScaler()), (\"rf_class\", RandomForestClassifier(random_state=123))]\n",
        "pipeline_rf = Pipeline(steps_rf)\n",
        "\n",
        "# define our hyperparameter grid\n",
        "n_estimators = list(np.arange(200, 2001, 200))\n",
        "max_features = [\"auto\", \"sqrt\", \"log2\"]\n",
        "max_depth = list(np.arange(10, 101, 10))\n",
        "max_depth.append(None)\n",
        "min_samples_split = [2, 5, 10]\n",
        "min_samples_leaf = [1, 2, 4, 8]\n",
        "bootstrap = [True, False]\n",
        "param_dist = {\"rf_class__n_estimators\": n_estimators,\n",
        "              \"rf_class__max_features\": max_features,\n",
        "              \"rf_class__max_depth\": max_depth,\n",
        "              \"rf_class__min_samples_split\": min_samples_split,\n",
        "              \"rf_class__min_samples_leaf\": min_samples_leaf,\n",
        "              \"rf_class__bootstrap\": bootstrap}"
      ],
      "execution_count": 0,
      "outputs": []
    },
    {
      "cell_type": "markdown",
      "metadata": {
        "id": "_BKq0zmZHZKn",
        "colab_type": "text"
      },
      "source": [
        "We can now start to narrow down the range for our hyperparameters by using using RandomizedSearchCV to get a first hint of the ideally chosen hyperparameters for our data."
      ]
    },
    {
      "cell_type": "code",
      "metadata": {
        "id": "qnITJMIHIo58",
        "colab_type": "code",
        "colab": {}
      },
      "source": [
        "cv_random_rf = RandomizedSearchCV(pipeline_rf, param_dist, cv=5, n_iter=500)"
      ],
      "execution_count": 0,
      "outputs": []
    },
    {
      "cell_type": "code",
      "metadata": {
        "id": "d8CduJv1I1D0",
        "colab_type": "code",
        "colab": {
          "base_uri": "https://localhost:8080/",
          "height": 578
        },
        "outputId": "5c828a6d-162f-4f3e-d03e-b6c22d39b9a9"
      },
      "source": [
        "cv_random_rf.fit(X_train, y_train)"
      ],
      "execution_count": 78,
      "outputs": [
        {
          "output_type": "execute_result",
          "data": {
            "text/plain": [
              "RandomizedSearchCV(cv=5, error_score='raise-deprecating',\n",
              "                   estimator=Pipeline(memory=None,\n",
              "                                      steps=[('scaler',\n",
              "                                              StandardScaler(copy=True,\n",
              "                                                             with_mean=True,\n",
              "                                                             with_std=True)),\n",
              "                                             ('rf_class',\n",
              "                                              RandomForestClassifier(bootstrap=True,\n",
              "                                                                     class_weight=None,\n",
              "                                                                     criterion='gini',\n",
              "                                                                     max_depth=None,\n",
              "                                                                     max_features='auto',\n",
              "                                                                     max_leaf_nodes=None,\n",
              "                                                                     min_impurity_decrease=0.0,\n",
              "                                                                     min_impurity_split=None,...\n",
              "                                        'rf_class__max_depth': [10, 20, 30, 40,\n",
              "                                                                50, 60, 70, 80,\n",
              "                                                                90, 100, None],\n",
              "                                        'rf_class__max_features': ['auto',\n",
              "                                                                   'sqrt',\n",
              "                                                                   'log2'],\n",
              "                                        'rf_class__min_samples_leaf': [1, 2, 4,\n",
              "                                                                       8],\n",
              "                                        'rf_class__min_samples_split': [2, 5,\n",
              "                                                                        10],\n",
              "                                        'rf_class__n_estimators': [200, 400,\n",
              "                                                                   600, 800,\n",
              "                                                                   1000, 1200,\n",
              "                                                                   1400, 1600,\n",
              "                                                                   1800,\n",
              "                                                                   2000]},\n",
              "                   pre_dispatch='2*n_jobs', random_state=None, refit=True,\n",
              "                   return_train_score=False, scoring=None, verbose=0)"
            ]
          },
          "metadata": {
            "tags": []
          },
          "execution_count": 78
        }
      ]
    },
    {
      "cell_type": "code",
      "metadata": {
        "id": "wK1P_9W3Ws-g",
        "colab_type": "code",
        "colab": {
          "base_uri": "https://localhost:8080/",
          "height": 119
        },
        "outputId": "8b70296e-aa1c-453f-8205-e13dea79f094"
      },
      "source": [
        "cv_random_rf.best_params_"
      ],
      "execution_count": 79,
      "outputs": [
        {
          "output_type": "execute_result",
          "data": {
            "text/plain": [
              "{'rf_class__bootstrap': True,\n",
              " 'rf_class__max_depth': 10,\n",
              " 'rf_class__max_features': 'auto',\n",
              " 'rf_class__min_samples_leaf': 4,\n",
              " 'rf_class__min_samples_split': 5,\n",
              " 'rf_class__n_estimators': 600}"
            ]
          },
          "metadata": {
            "tags": []
          },
          "execution_count": 79
        }
      ]
    }
  ]
}